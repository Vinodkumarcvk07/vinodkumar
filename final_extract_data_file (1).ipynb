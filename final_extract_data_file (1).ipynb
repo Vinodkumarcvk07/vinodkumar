{
 "cells": [
  {
   "cell_type": "code",
   "execution_count": 1,
   "metadata": {},
   "outputs": [],
   "source": [
    "import os\n",
    "import re\n",
    "import pandas as pd\n",
    "os.chdir('E:/VINOD KUMAR/Project_Guf_new')\n",
    "import nltk\n",
    "from nltk.tokenize import sent_tokenize"
   ]
  },
  {
   "cell_type": "code",
   "execution_count": 2,
   "metadata": {},
   "outputs": [],
   "source": [
    "import rtfConverter as rtf"
   ]
  },
  {
   "cell_type": "code",
   "execution_count": 3,
   "metadata": {},
   "outputs": [
    {
     "name": "stderr",
     "output_type": "stream",
     "text": [
      "C:\\Users\\1520\\AppData\\Local\\Continuum\\anaconda3\\lib\\site-packages\\sklearn\\cross_validation.py:41: DeprecationWarning: This module was deprecated in version 0.18 in favor of the model_selection module into which all the refactored classes and functions are moved. Also note that the interface of the new CV iterators are different from that of this module. This module will be removed in 0.20.\n",
      "  \"This module will be removed in 0.20.\", DeprecationWarning)\n",
      "C:\\Users\\1520\\AppData\\Local\\Continuum\\anaconda3\\lib\\site-packages\\sklearn\\grid_search.py:42: DeprecationWarning: This module was deprecated in version 0.18 in favor of the model_selection module into which all the refactored classes and functions are moved. This module will be removed in 0.20.\n",
      "  DeprecationWarning)\n",
      "C:\\Users\\1520\\AppData\\Local\\Continuum\\anaconda3\\lib\\site-packages\\sklearn\\learning_curve.py:22: DeprecationWarning: This module was deprecated in version 0.18 in favor of the model_selection module into which all the functions are moved. This module will be removed in 0.20\n",
      "  DeprecationWarning)\n"
     ]
    }
   ],
   "source": [
    "from sklearn import *\n"
   ]
  },
  {
   "cell_type": "code",
   "execution_count": 25,
   "metadata": {},
   "outputs": [
    {
     "data": {
      "text/plain": [
       "<module 'spacy' from 'C:\\\\Users\\\\1520\\\\AppData\\\\Local\\\\Continuum\\\\anaconda3\\\\lib\\\\site-packages\\\\spacy\\\\__init__.py'>"
      ]
     },
     "execution_count": 25,
     "metadata": {},
     "output_type": "execute_result"
    }
   ],
   "source": [
    "# pip install spacy\n",
    "# python -m spacy download en_core_web_sm\n",
    "import spacy\n",
    "import spacy as spc\n",
    "spc"
   ]
  },
  {
   "cell_type": "code",
   "execution_count": 87,
   "metadata": {},
   "outputs": [],
   "source": [
    "# Load English tokenizer, tagger, parser, NER and word vectors    "
   ]
  },
  {
   "cell_type": "code",
   "execution_count": null,
   "metadata": {},
   "outputs": [],
   "source": []
  },
  {
   "cell_type": "code",
   "execution_count": 63,
   "metadata": {},
   "outputs": [],
   "source": [
    "import spacy\n",
    "import en_core_web_sm \n",
    "import en_core_web_lg\n",
    "nlp1 = en_core_web_lg.load()\n",
    "nlp2= en_core_web_sm.load()\n"
   ]
  },
  {
   "cell_type": "code",
   "execution_count": 60,
   "metadata": {},
   "outputs": [],
   "source": []
  },
  {
   "cell_type": "code",
   "execution_count": 64,
   "metadata": {},
   "outputs": [
    {
     "data": {
      "text/plain": [
       "{\\rtf1\\ansi\\ftnbj{\\fonttbl{\\f0 \\fswiss Arial;}}{\\colortbl ;\\red255\\green255\\blue255 ;\\red0\\green0\\blue0 ;\\red0\\green0\\blue255 ;}{\\stylesheet{\\f0\\fs20\\cf0\\cb1 Normal;}{\\cs1\\additive\\cf0\\cb1 Default Paragraph Font;}}\\margl1440\\margr1440\\margt540\\margb1440\\headery540\\footery720\\formshade\\sectd\\marglsxn1440\\margrsxn1440\\margtsxn540\\margbsxn1440\\headery540\\footery720\\sbkpage\\pgncont\\plain\\plain\\fs20\\pard\\plain\\fs20\\cf0\\fs24\\sscharaux1\\b Phone Note \\fs20\\b0\\par Call from Patient\\par\\b Caller: \\b0 Daughter\\par\\b Initial call taken by: \\b0 John M Russo MD,  January  3, 2016 12:16 PM\\par\\b Summary of Call: \\b0 Sxs came on suddenly last night.\\par Red Hot swollen R ankle c pain but can walk on it.\\par Has Gout in family.\\par No prior H/O gout - x maybe 1-2 mild events\\par We discussed Indemethacin and Colcrys and will call in - she realizes that infection and other things may mimic gout\\par Drinks ETOH and meat every night and nurse daughter believes it is gout.\\par I told her the only way we would know is for her to bring him to UC or ED.\\par She prefers to try Gout meds and if worsens bring him.  She would also welcome a call tom am c update and if not much better would also welcome an OV - can be c NP\\par\\par\\fs22\\b New Medications:\\par\\fs20\\b0 INDOMETHACIN 50 MG ORAL CAPS (INDOMETHACIN) one Po BID prn for 5 days prn gout\\par COLCRYS 0.6 MG ORAL TABS (COLCHICINE) 1 PO 2 x today then one daily prn gout\\par\\fs22\\b New Medications:\\par\\fs20\\b0 INDOMETHACIN 50 MG ORAL CAPS (INDOMETHACIN) one Po BID prn for 5 days prn gout\\par COLCRYS 0.6 MG ORAL TABS (COLCHICINE) 1 PO 2 x today then one daily prn gout\\par  \\par\\par\\fs22\\b New Medications:\\par\\fs20\\b0 INDOMETHACIN 50 MG ORAL CAPS (INDOMETHACIN) one Po BID prn for 5 days prn gout\\par COLCRYS 0.6 MG ORAL TABS (COLCHICINE) 1 PO 2 x today then one daily prn gout\\par\\par\\fs24\\b  \\fs20\\b0\\par\\cf2\\sscharaux00\\par}"
      ]
     },
     "execution_count": 64,
     "metadata": {},
     "output_type": "execute_result"
    }
   ],
   "source": [
    "doc = nlp1(u'{\\\\rtf1\\\\ansi\\\\ftnbj{\\\\fonttbl{\\\\f0 \\\\fswiss Arial;}}{\\\\colortbl ;\\\\red255\\\\green255\\\\blue255 ;\\\\red0\\\\green0\\\\blue0 ;\\\\red0\\\\green0\\\\blue255 ;}{\\\\stylesheet{\\\\f0\\\\fs20\\\\cf0\\\\cb1 Normal;}{\\\\cs1\\\\additive\\\\cf0\\\\cb1 Default Paragraph Font;}}\\\\margl1440\\\\margr1440\\\\margt540\\\\margb1440\\\\headery540\\\\footery720\\\\formshade\\\\sectd\\\\marglsxn1440\\\\margrsxn1440\\\\margtsxn540\\\\margbsxn1440\\\\headery540\\\\footery720\\\\sbkpage\\\\pgncont\\\\plain\\\\plain\\\\fs20\\\\pard\\\\plain\\\\fs20\\\\cf0\\\\fs24\\\\sscharaux1\\\\b Phone Note \\\\fs20\\\\b0\\\\par Call from Patient\\\\par\\\\b Caller: \\\\b0 Daughter\\\\par\\\\b Initial call taken by: \\\\b0 John M Russo MD,  January  3, 2016 12:16 PM\\\\par\\\\b Summary of Call: \\\\b0 Sxs came on suddenly last night.\\\\par Red Hot swollen R ankle c pain but can walk on it.\\\\par Has Gout in family.\\\\par No prior H/O gout - x maybe 1-2 mild events\\\\par We discussed Indemethacin and Colcrys and will call in - she realizes that infection and other things may mimic gout\\\\par Drinks ETOH and meat every night and nurse daughter believes it is gout.\\\\par I told her the only way we would know is for her to bring him to UC or ED.\\\\par She prefers to try Gout meds and if worsens bring him.  She would also welcome a call tom am c update and if not much better would also welcome an OV - can be c NP\\\\par\\\\par\\\\fs22\\\\b New Medications:\\\\par\\\\fs20\\\\b0 INDOMETHACIN 50 MG ORAL CAPS (INDOMETHACIN) one Po BID prn for 5 days prn gout\\\\par COLCRYS 0.6 MG ORAL TABS (COLCHICINE) 1 PO 2 x today then one daily prn gout\\\\par\\\\fs22\\\\b New Medications:\\\\par\\\\fs20\\\\b0 INDOMETHACIN 50 MG ORAL CAPS (INDOMETHACIN) one Po BID prn for 5 days prn gout\\\\par COLCRYS 0.6 MG ORAL TABS (COLCHICINE) 1 PO 2 x today then one daily prn gout\\\\par  \\\\par\\\\par\\\\fs22\\\\b New Medications:\\\\par\\\\fs20\\\\b0 INDOMETHACIN 50 MG ORAL CAPS (INDOMETHACIN) one Po BID prn for 5 days prn gout\\\\par COLCRYS 0.6 MG ORAL TABS (COLCHICINE) 1 PO 2 x today then one daily prn gout\\\\par\\\\par\\\\fs24\\\\b  \\\\fs20\\\\b0\\\\par\\\\cf2\\\\sscharaux00\\\\par}')\n",
    "doc"
   ]
  },
  {
   "cell_type": "code",
   "execution_count": 54,
   "metadata": {},
   "outputs": [
    {
     "data": {
      "text/plain": [
       "'{\\\\rtf1\\\\ansi\\\\ftnbj{\\\\fonttbl{\\\\f0 \\\\fswiss Arial;}}{\\\\colortbl ;\\\\red255\\\\green255\\\\blue255 ;\\\\red0\\\\green0\\\\blue0 ;\\\\red0\\\\green0\\\\blue255 ;}{\\\\stylesheet{\\\\f0\\\\fs20\\\\cf0\\\\cb1 Normal;}{\\\\cs1\\\\additive\\\\cf0\\\\cb1 Default Paragraph Font;}}\\\\margl1440\\\\margr1440\\\\margt540\\\\margb1440\\\\headery540\\\\footery720\\\\formshade\\\\sectd\\\\marglsxn1440\\\\margrsxn1440\\\\margtsxn540\\\\margbsxn1440\\\\headery540\\\\footery720\\\\sbkpage\\\\pgncont\\\\plain\\\\plain\\\\fs20\\\\pard\\\\plain\\\\fs20\\\\cf0\\\\fs24\\\\sscharaux1\\\\b Phone Note \\\\fs20\\\\b0\\\\par Call from Patient\\\\par\\\\b Caller: \\\\b0 Daughter\\\\par\\\\b Initial call taken by: \\\\b0 John M Russo MD,  January  3, 2016 12:16 PM\\\\par\\\\b Summary of Call: \\\\b0 Sxs came on suddenly last night.\\\\par Red Hot swollen R ankle c pain but can walk on it.\\\\par Has Gout in family.\\\\par No prior H/O gout - x maybe 1-2 mild events\\\\par We discussed Indemethacin and Colcrys and will call in - she realizes that infection and other things may mimic gout\\\\par Drinks ETOH and meat every night and nurse daughter believes it is gout.\\\\par I told her the only way we would know is for her to bring him to UC or ED.\\\\par She prefers to try Gout meds and if worsens bring him.  She would also welcome a call tom am c update and if not much better would also welcome an OV - can be c NP\\\\par\\\\par\\\\fs22\\\\b New Medications:\\\\par\\\\fs20\\\\b0 INDOMETHACIN 50 MG ORAL CAPS (INDOMETHACIN) one Po BID prn for 5 days prn gout\\\\par COLCRYS 0.6 MG ORAL TABS (COLCHICINE) 1 PO 2 x today then one daily prn gout\\\\par\\\\fs22\\\\b New Medications:\\\\par\\\\fs20\\\\b0 INDOMETHACIN 50 MG ORAL CAPS (INDOMETHACIN) one Po BID prn for 5 days prn gout\\\\par COLCRYS 0.6 MG ORAL TABS (COLCHICINE) 1 PO 2 x today then one daily prn gout\\\\par  \\\\par\\\\par\\\\fs22\\\\b New Medications:\\\\par\\\\fs20\\\\b0 INDOMETHACIN 50 MG ORAL CAPS (INDOMETHACIN) one Po BID prn for 5 days prn gout\\\\par COLCRYS 0.6 MG ORAL TABS (COLCHICINE) 1 PO 2 x today then one daily prn gout\\\\par\\\\par\\\\fs24\\\\b  \\\\fs20\\\\b0\\\\par\\\\cf2\\\\sscharaux00\\\\par}'"
      ]
     },
     "execution_count": 54,
     "metadata": {},
     "output_type": "execute_result"
    }
   ],
   "source": [
    "raw_data[\"DATA\"][10]"
   ]
  },
  {
   "cell_type": "code",
   "execution_count": 54,
   "metadata": {},
   "outputs": [],
   "source": [
    "#for entity in doc.ents:\n",
    "#    #print(entity.text, entity.label_)\n",
    "#    print(\"\".join(entity.label_))\n",
    "\n",
    "# Determine semantic similarities\n",
    "#doc1 = nlp(u\"my fries were super gross\")\n",
    "#doc2 = nlp(u\"such disgusting fries\")\n",
    "#similarity = doc1.similarity(doc2)\n",
    "#print(doc1.text, doc2.text, similarity)"
   ]
  },
  {
   "cell_type": "code",
   "execution_count": 92,
   "metadata": {},
   "outputs": [
    {
     "name": "stdout",
     "output_type": "stream",
     "text": [
      "(Normal;}{\\cs1\\additive\\cf0\\cb1 Default Paragraph Font;}}\\margl1440\\margr1440\\margt540\\margb1440\\headery540\\footery720\\formshade\\sectd\\marglsxn1440\\margrsxn1440\\margtsxn540\\margbsxn1440\\headery540\\footery720\\sbkpage\\pgncont\\plain\\plain\\fs20\\pard\\plain\\fs20\\cf0\\fs24\\sscharaux1\\b, \\b0 John M Russo MD, January, 3, 2016, 12:16, Red Hot, 1, Indemethacin, Colcrys, ETOH, UC, NP\\par\\par\\fs22\\b, 50 MG ORAL CAPS, one Po BID prn, 5 days, COLCHICINE, 1, 2, today, one, daily, 50 MG ORAL CAPS, one Po BID prn, 5 days, COLCHICINE, 1, 2, today, one, daily, New Medications:\\par\\fs20\\b0, 50 MG ORAL CAPS, one Po BID prn, 5 days, COLCHICINE, 1, 2, today, one, daily)\n"
     ]
    }
   ],
   "source": [
    "print(doc.ents) "
   ]
  },
  {
   "cell_type": "code",
   "execution_count": null,
   "metadata": {},
   "outputs": [],
   "source": []
  },
  {
   "cell_type": "code",
   "execution_count": 89,
   "metadata": {},
   "outputs": [
    {
     "data": {
      "text/plain": [
       "['_',\n",
       " '__bytes__',\n",
       " '__class__',\n",
       " '__delattr__',\n",
       " '__dir__',\n",
       " '__doc__',\n",
       " '__eq__',\n",
       " '__format__',\n",
       " '__ge__',\n",
       " '__getattribute__',\n",
       " '__getitem__',\n",
       " '__gt__',\n",
       " '__hash__',\n",
       " '__init__',\n",
       " '__init_subclass__',\n",
       " '__iter__',\n",
       " '__le__',\n",
       " '__len__',\n",
       " '__lt__',\n",
       " '__ne__',\n",
       " '__new__',\n",
       " '__pyx_vtable__',\n",
       " '__reduce__',\n",
       " '__reduce_ex__',\n",
       " '__repr__',\n",
       " '__setattr__',\n",
       " '__setstate__',\n",
       " '__sizeof__',\n",
       " '__str__',\n",
       " '__subclasshook__',\n",
       " '__unicode__',\n",
       " '_py_tokens',\n",
       " '_realloc',\n",
       " '_vector',\n",
       " '_vector_norm',\n",
       " 'cats',\n",
       " 'char_span',\n",
       " 'count_by',\n",
       " 'doc',\n",
       " 'ents',\n",
       " 'extend_tensor',\n",
       " 'from_array',\n",
       " 'from_bytes',\n",
       " 'from_disk',\n",
       " 'get_extension',\n",
       " 'get_lca_matrix',\n",
       " 'has_extension',\n",
       " 'has_vector',\n",
       " 'is_parsed',\n",
       " 'is_sentenced',\n",
       " 'is_tagged',\n",
       " 'mem',\n",
       " 'merge',\n",
       " 'noun_chunks',\n",
       " 'noun_chunks_iterator',\n",
       " 'print_tree',\n",
       " 'retokenize',\n",
       " 'sentiment',\n",
       " 'sents',\n",
       " 'set_extension',\n",
       " 'similarity',\n",
       " 'tensor',\n",
       " 'text',\n",
       " 'text_with_ws',\n",
       " 'to_array',\n",
       " 'to_bytes',\n",
       " 'to_disk',\n",
       " 'user_data',\n",
       " 'user_hooks',\n",
       " 'user_span_hooks',\n",
       " 'user_token_hooks',\n",
       " 'vector',\n",
       " 'vector_norm',\n",
       " 'vocab']"
      ]
     },
     "execution_count": 89,
     "metadata": {},
     "output_type": "execute_result"
    }
   ],
   "source": [
    "dir(doc)"
   ]
  },
  {
   "cell_type": "code",
   "execution_count": 68,
   "metadata": {},
   "outputs": [],
   "source": [
    "raw_data=pd.read_excel(\"Guliford_Jan_2016_Mar_2018.xlsx\")\n",
    "test_data=pd.read_excel('Guliford_prav_Apr 2018.xlsx', encoding='utf-8')"
   ]
  },
  {
   "cell_type": "code",
   "execution_count": 69,
   "metadata": {},
   "outputs": [
    {
     "name": "stdout",
     "output_type": "stream",
     "text": [
      "\n",
      " Train data coulmn names:\n",
      " Index(['FileID', 'clientid', 'PID', 'SUMMARY', 'DATA', 'Categories1',\n",
      "       'Sub_categories1', 'Categories2', 'Sub_categories2', 'Categories3',\n",
      "       'Sub_categories3', 'Categories4', 'Sub_categories4', 'Categories5',\n",
      "       'Sub_categories5', 'Previous_Appointment'],\n",
      "      dtype='object')\n",
      "\n",
      " Test data column names:\n",
      " Index(['FileID', 'clientid', 'PID', 'SUMMARY', 'DATA', 'Categories1',\n",
      "       'Sub_categories1', 'Categories2', 'Sub_categories2', 'Categories3',\n",
      "       'Sub_categories3', 'Categories4', 'Sub_categories4', 'Categories5',\n",
      "       'Sub_categories5', 'Previous_Appointment'],\n",
      "      dtype='object')\n",
      "\n",
      " length of raw data \n",
      " 86554\n",
      "\n",
      " length of test data \n",
      " 3308\n"
     ]
    }
   ],
   "source": [
    "print(\"\\n Train data coulmn names:\\n\",raw_data.columns)\n",
    "print(\"\\n Test data column names:\\n\",test_data.columns)\n",
    "length_data=len(raw_data)\n",
    "length_test_data=len(test_data)\n",
    "print(\"\\n length of raw data \\n\",length_data)\n",
    "print(\"\\n length of test data \\n\",length_test_data)"
   ]
  },
  {
   "cell_type": "code",
   "execution_count": 70,
   "metadata": {},
   "outputs": [],
   "source": [
    "#converting to sting data type \n",
    "raw_data[\"DATA\"]= raw_data[\"DATA\"].astype(str)\n",
    "raw_data[\"SUMMARY\"]=raw_data[\"SUMMARY\"].astype(str)\n",
    "test_data[\"DATA\"]= test_data[\"DATA\"].astype(str)\n",
    "test_data[\"SUMMARY\"]= test_data[\"SUMMARY\"].astype(str)"
   ]
  },
  {
   "cell_type": "code",
   "execution_count": 71,
   "metadata": {},
   "outputs": [
    {
     "name": "stdout",
     "output_type": "stream",
     "text": [
      "<class 'pandas.core.frame.DataFrame'>\n",
      "RangeIndex: 86554 entries, 0 to 86553\n",
      "Data columns (total 16 columns):\n",
      "FileID                  86554 non-null int64\n",
      "clientid                86554 non-null int64\n",
      "PID                     82817 non-null float64\n",
      "SUMMARY                 86554 non-null object\n",
      "DATA                    86554 non-null object\n",
      "Categories1             86554 non-null object\n",
      "Sub_categories1         86554 non-null object\n",
      "Categories2             1 non-null object\n",
      "Sub_categories2         0 non-null float64\n",
      "Categories3             0 non-null float64\n",
      "Sub_categories3         0 non-null float64\n",
      "Categories4             0 non-null float64\n",
      "Sub_categories4         0 non-null float64\n",
      "Categories5             0 non-null float64\n",
      "Sub_categories5         0 non-null float64\n",
      "Previous_Appointment    86554 non-null object\n",
      "dtypes: float64(8), int64(2), object(6)\n",
      "memory usage: 10.6+ MB\n"
     ]
    }
   ],
   "source": [
    "raw_data.info()"
   ]
  },
  {
   "cell_type": "markdown",
   "metadata": {},
   "source": [
    "# Functions for sentence extraction "
   ]
  },
  {
   "cell_type": "code",
   "execution_count": 72,
   "metadata": {},
   "outputs": [],
   "source": [
    "def sentence_extraction1(text):\n",
    "    line = rtf.striprtf(text)\n",
    "    return line"
   ]
  },
  {
   "cell_type": "code",
   "execution_count": 96,
   "metadata": {},
   "outputs": [
    {
     "name": "stdout",
     "output_type": "stream",
     "text": [
      "Phone Note \n",
      "Call from Patient\n",
      "Call back at Home Phone (336) 643-5366\n",
      "Initial call taken by: Erica Weaver, MA, RT,  January  4, 2016 8:44 AM\n",
      "Summary of Call: Refill Hydrocodone.\n",
      "\n",
      " \n",
      "Clinical Followup Details: Rx printed, will be signed and held at DJs desk for pick up. Pt notified, notified to bring license for pick up.\n",
      "Follow-up by: Erica Weaver, MA, RT,  January  4, 2016 9:23 AM\n",
      "\n",
      "\n",
      " \n",
      "Prescriptions:\n",
      "HYDROCODONE-ACETAMINOPHEN 10-325 MG TABS (HYDROCODONE-ACETAMINOPHEN) take 1-2 tablets by mouth every 4-8 hours as needed  #120 x 0\n",
      "\tEntered by:\tErica Weaver, MA, RT\n",
      "\tAuthorized by:\tRichard A Aronson MD\n",
      "\tElectronically signed by:\tRichard A Aronson MD on 01/04/2016\n",
      "\tMethod used:\tPrint then Give to Patient\n",
      "\tRxID:\t1767518549180130\n",
      "\n",
      "\n",
      "\n"
     ]
    }
   ],
   "source": [
    "sent10=sentence_extraction1(raw_data[\"DATA\"][28])\n",
    "print(sent10)\n",
    "\n",
    "#print(sent10,\"\\n\",\"length of number of lines:\",len(nltk.sent_tokenize(sent10.split(\"Summary of Call:\")[1])[1]),\"\\n\\n\",nltk.sent_tokenize(sent10))\n",
    "#print(\"\\n'Summary of Call' after sentence :\\n\",sent10.split(\"Summary of Call:\")[1])\n",
    "#sent10_2=sent10.split(\"Summary of Call:\")[1]\n",
    "#print(sent10_2.split(\"Clinical Followup Details:\")[1],nltk.sent_tokenize(sent10_2.split(\"Clinical Followup Details:\")[1])[0])"
   ]
  },
  {
   "cell_type": "code",
   "execution_count": 159,
   "metadata": {},
   "outputs": [
    {
     "name": "stdout",
     "output_type": "stream",
     "text": [
      "(\n",
      "\n",
      ", PCN, Bactrim, DS PO, 20, \n",
      "\n",
      ", PCN, \n",
      "\n",
      ", New Medications, SULFAMETHOXAZOLE-TRIMETHOPRIM, SULFAMETHOXAZOLE, TRIMETHOPRIM, One, PO, \n",
      "New Allergies, SULFAMETHOXAZOLE-TRIMETHOPRIM, SULFAMETHOXAZOLE, TRIMETHOPRIM, One, PO, \n",
      "New Allergies, SULFAMETHOXAZOLE-TRIMETHOPRIM, SULFAMETHOXAZOLE, TRIMETHOPRIM, One, PO, \n",
      "New Allergies)\n"
     ]
    }
   ],
   "source": [
    "doc2=nlp1(sentence_extraction1(raw_data[\"DATA\"][0]))\n",
    "print(doc2.ents)\n",
    "#for entity in doc2.ents:\n",
    "#    #print(entity.text, entity.label_)\n",
    "#    print(entity.label_)\n",
    "df=list(doc2.ents)\n"
   ]
  },
  {
   "cell_type": "code",
   "execution_count": 157,
   "metadata": {},
   "outputs": [
    {
     "data": {
      "text/plain": [
       "'Phone Note \\nCall from Patient\\nSummary of Call: Some better c cough and congestion - However still c low grade fevers.\\nsleeping often.\\nShe says she is worried that he may have had flu\\n\\nWe did not have PCN as allergy.  The Pharmacy did.\\nThey did not pick up the drug.\\nIt is unclear if he needs more Abx.\\n\\nI did call in Bactrim One DS PO BID #20 and gave parameters on When to start\\n\\nListed PCN as allergy\\n\\nNew Medications:\\nSULFAMETHOXAZOLE-TRIMETHOPRIM 800-160 MG ORAL TABS (SULFAMETHOXAZOLE-TRIMETHOPRIM) One PO BID\\nNew Allergies:\\nPCN (PENICILLIN V POTASSIUM) (Moderate)\\nNew Medications:\\nSULFAMETHOXAZOLE-TRIMETHOPRIM 800-160 MG ORAL TABS (SULFAMETHOXAZOLE-TRIMETHOPRIM) One PO BID\\nNew Allergies:\\nPCN (PENICILLIN V POTASSIUM) (Moderate)\\n \\n\\nNew Medications:\\nSULFAMETHOXAZOLE-TRIMETHOPRIM 800-160 MG ORAL TABS (SULFAMETHOXAZOLE-TRIMETHOPRIM) One PO BID\\nNew Allergies:\\nPCN (PENICILLIN V POTASSIUM) (Moderate)\\n\\n \\n\\n'"
      ]
     },
     "execution_count": 157,
     "metadata": {},
     "output_type": "execute_result"
    }
   ],
   "source": [
    "sen2=sentence_extraction1(raw_data[\"DATA\"][0])\n",
    "sen2"
   ]
  },
  {
   "cell_type": "code",
   "execution_count": 155,
   "metadata": {},
   "outputs": [
    {
     "data": {
      "text/plain": [
       "'{\\\\rtf1\\\\ansi\\\\ftnbj{\\\\fonttbl{\\\\f0 \\\\fswiss Arial;}}{\\\\colortbl ;\\\\red255\\\\green255\\\\blue255 ;\\\\red0\\\\green0\\\\blue0 ;\\\\red0\\\\green0\\\\blue255 ;}{\\\\stylesheet{\\\\f0\\\\fs20\\\\cf0\\\\cb1 Normal;}{\\\\cs1\\\\additive\\\\cf0\\\\cb1 Default Paragraph Font;}}\\\\margl1440\\\\margr1440\\\\margt540\\\\margb1440\\\\headery540\\\\footery720\\\\formshade\\\\sectd\\\\marglsxn1440\\\\margrsxn1440\\\\margtsxn540\\\\margbsxn1440\\\\headery540\\\\footery720\\\\sbkpage\\\\pgncont\\\\plain\\\\plain\\\\fs20\\\\pard\\\\plain\\\\fs20\\\\cf0\\\\fs24\\\\sscharaux1\\\\b Phone Note \\\\fs20\\\\b0\\\\par Call from Patient\\\\par\\\\b Summary of Call: \\\\b0 Some better c cough and congestion - However still c low grade fevers.\\\\par sleeping often.\\\\par She says she is worried that he may have had flu\\\\par\\\\par We did not have PCN as allergy.  The Pharmacy did.\\\\par They did not pick up the drug.\\\\par It is unclear if he needs more Abx.\\\\par\\\\par I did call in Bactrim One DS PO BID #20 and gave parameters on When to start\\\\par\\\\par Listed PCN as allergy\\\\par\\\\par\\\\fs22\\\\b New Medications:\\\\par\\\\fs20\\\\b0 SULFAMETHOXAZOLE-TRIMETHOPRIM 800-160 MG ORAL TABS (SULFAMETHOXAZOLE-TRIMETHOPRIM) One PO BID\\\\par\\\\fs22\\\\b New Allergies:\\\\par\\\\fs20\\\\b0 PCN (PENICILLIN V POTASSIUM) (Moderate)\\\\par\\\\fs22\\\\b New Medications:\\\\par\\\\fs20\\\\b0 SULFAMETHOXAZOLE-TRIMETHOPRIM 800-160 MG ORAL TABS (SULFAMETHOXAZOLE-TRIMETHOPRIM) One PO BID\\\\par\\\\fs22\\\\b New Allergies:\\\\par\\\\fs20\\\\b0 PCN (PENICILLIN V POTASSIUM) (Moderate)\\\\par  \\\\par\\\\par\\\\fs22\\\\b New Medications:\\\\par\\\\fs20\\\\b0 SULFAMETHOXAZOLE-TRIMETHOPRIM 800-160 MG ORAL TABS (SULFAMETHOXAZOLE-TRIMETHOPRIM) One PO BID\\\\par\\\\fs22\\\\b New Allergies:\\\\par\\\\fs20\\\\b0 PCN (PENICILLIN V POTASSIUM) (Moderate)\\\\par\\\\par\\\\fs24\\\\b  \\\\fs20\\\\b0\\\\par\\\\cf2\\\\sscharaux00\\\\par}'"
      ]
     },
     "execution_count": 155,
     "metadata": {},
     "output_type": "execute_result"
    }
   ],
   "source": [
    "raw_data[\"DATA\"][0]"
   ]
  },
  {
   "cell_type": "code",
   "execution_count": 161,
   "metadata": {},
   "outputs": [],
   "source": [
    "from __future__ import unicode_literals, print_function\n",
    "import plac\n",
    "import random\n",
    "from pathlib import Path\n",
    "import thinc.extra.datasets\n",
    "\n",
    "import spacy\n",
    "from spacy.util import minibatch, compounding\n"
   ]
  },
  {
   "cell_type": "code",
   "execution_count": null,
   "metadata": {},
   "outputs": [],
   "source": []
  },
  {
   "cell_type": "code",
   "execution_count": 153,
   "metadata": {},
   "outputs": [
    {
     "ename": "TypeError",
     "evalue": "Argument 'other' has incorrect type (expected spacy.tokens.span.Span, got str)",
     "output_type": "error",
     "traceback": [
      "\u001b[1;31m---------------------------------------------------------------------------\u001b[0m",
      "\u001b[1;31mTypeError\u001b[0m                                 Traceback (most recent call last)",
      "\u001b[1;32m<ipython-input-153-ca84c24bf1aa>\u001b[0m in \u001b[0;36m<module>\u001b[1;34m()\u001b[0m\n\u001b[1;32m----> 1\u001b[1;33m \u001b[0mraw_data\u001b[0m\u001b[1;33m[\u001b[0m\u001b[1;34m\"DATA\"\u001b[0m\u001b[1;33m]\u001b[0m \u001b[1;33m=\u001b[0m \u001b[0mraw_data\u001b[0m\u001b[1;33m[\u001b[0m\u001b[1;34m\"DATA\"\u001b[0m\u001b[1;33m]\u001b[0m\u001b[1;33m.\u001b[0m\u001b[0mapply\u001b[0m\u001b[1;33m(\u001b[0m\u001b[1;32mlambda\u001b[0m \u001b[0mx\u001b[0m\u001b[1;33m:\u001b[0m \u001b[1;34m\" \"\u001b[0m\u001b[1;33m.\u001b[0m\u001b[0mjoin\u001b[0m\u001b[1;33m(\u001b[0m\u001b[0mx\u001b[0m \u001b[1;32mfor\u001b[0m \u001b[0mx\u001b[0m \u001b[1;32min\u001b[0m \u001b[0mx\u001b[0m\u001b[1;33m.\u001b[0m\u001b[0msplit\u001b[0m\u001b[1;33m(\u001b[0m\u001b[1;33m)\u001b[0m \u001b[1;32mif\u001b[0m \u001b[0mx\u001b[0m \u001b[1;32mnot\u001b[0m \u001b[1;32min\u001b[0m \u001b[0mdf\u001b[0m\u001b[1;33m)\u001b[0m\u001b[1;33m)\u001b[0m\u001b[1;33m\u001b[0m\u001b[0m\n\u001b[0m",
      "\u001b[1;32m~\\AppData\\Local\\Continuum\\anaconda3\\lib\\site-packages\\pandas\\core\\series.py\u001b[0m in \u001b[0;36mapply\u001b[1;34m(self, func, convert_dtype, args, **kwds)\u001b[0m\n\u001b[0;32m   2549\u001b[0m             \u001b[1;32melse\u001b[0m\u001b[1;33m:\u001b[0m\u001b[1;33m\u001b[0m\u001b[0m\n\u001b[0;32m   2550\u001b[0m                 \u001b[0mvalues\u001b[0m \u001b[1;33m=\u001b[0m \u001b[0mself\u001b[0m\u001b[1;33m.\u001b[0m\u001b[0masobject\u001b[0m\u001b[1;33m\u001b[0m\u001b[0m\n\u001b[1;32m-> 2551\u001b[1;33m                 \u001b[0mmapped\u001b[0m \u001b[1;33m=\u001b[0m \u001b[0mlib\u001b[0m\u001b[1;33m.\u001b[0m\u001b[0mmap_infer\u001b[0m\u001b[1;33m(\u001b[0m\u001b[0mvalues\u001b[0m\u001b[1;33m,\u001b[0m \u001b[0mf\u001b[0m\u001b[1;33m,\u001b[0m \u001b[0mconvert\u001b[0m\u001b[1;33m=\u001b[0m\u001b[0mconvert_dtype\u001b[0m\u001b[1;33m)\u001b[0m\u001b[1;33m\u001b[0m\u001b[0m\n\u001b[0m\u001b[0;32m   2552\u001b[0m \u001b[1;33m\u001b[0m\u001b[0m\n\u001b[0;32m   2553\u001b[0m         \u001b[1;32mif\u001b[0m \u001b[0mlen\u001b[0m\u001b[1;33m(\u001b[0m\u001b[0mmapped\u001b[0m\u001b[1;33m)\u001b[0m \u001b[1;32mand\u001b[0m \u001b[0misinstance\u001b[0m\u001b[1;33m(\u001b[0m\u001b[0mmapped\u001b[0m\u001b[1;33m[\u001b[0m\u001b[1;36m0\u001b[0m\u001b[1;33m]\u001b[0m\u001b[1;33m,\u001b[0m \u001b[0mSeries\u001b[0m\u001b[1;33m)\u001b[0m\u001b[1;33m:\u001b[0m\u001b[1;33m\u001b[0m\u001b[0m\n",
      "\u001b[1;32mpandas/_libs/src/inference.pyx\u001b[0m in \u001b[0;36mpandas._libs.lib.map_infer\u001b[1;34m()\u001b[0m\n",
      "\u001b[1;32m<ipython-input-153-ca84c24bf1aa>\u001b[0m in \u001b[0;36m<lambda>\u001b[1;34m(x)\u001b[0m\n\u001b[1;32m----> 1\u001b[1;33m \u001b[0mraw_data\u001b[0m\u001b[1;33m[\u001b[0m\u001b[1;34m\"DATA\"\u001b[0m\u001b[1;33m]\u001b[0m \u001b[1;33m=\u001b[0m \u001b[0mraw_data\u001b[0m\u001b[1;33m[\u001b[0m\u001b[1;34m\"DATA\"\u001b[0m\u001b[1;33m]\u001b[0m\u001b[1;33m.\u001b[0m\u001b[0mapply\u001b[0m\u001b[1;33m(\u001b[0m\u001b[1;32mlambda\u001b[0m \u001b[0mx\u001b[0m\u001b[1;33m:\u001b[0m \u001b[1;34m\" \"\u001b[0m\u001b[1;33m.\u001b[0m\u001b[0mjoin\u001b[0m\u001b[1;33m(\u001b[0m\u001b[0mx\u001b[0m \u001b[1;32mfor\u001b[0m \u001b[0mx\u001b[0m \u001b[1;32min\u001b[0m \u001b[0mx\u001b[0m\u001b[1;33m.\u001b[0m\u001b[0msplit\u001b[0m\u001b[1;33m(\u001b[0m\u001b[1;33m)\u001b[0m \u001b[1;32mif\u001b[0m \u001b[0mx\u001b[0m \u001b[1;32mnot\u001b[0m \u001b[1;32min\u001b[0m \u001b[0mdf\u001b[0m\u001b[1;33m)\u001b[0m\u001b[1;33m)\u001b[0m\u001b[1;33m\u001b[0m\u001b[0m\n\u001b[0m",
      "\u001b[1;32m<ipython-input-153-ca84c24bf1aa>\u001b[0m in \u001b[0;36m<genexpr>\u001b[1;34m(.0)\u001b[0m\n\u001b[1;32m----> 1\u001b[1;33m \u001b[0mraw_data\u001b[0m\u001b[1;33m[\u001b[0m\u001b[1;34m\"DATA\"\u001b[0m\u001b[1;33m]\u001b[0m \u001b[1;33m=\u001b[0m \u001b[0mraw_data\u001b[0m\u001b[1;33m[\u001b[0m\u001b[1;34m\"DATA\"\u001b[0m\u001b[1;33m]\u001b[0m\u001b[1;33m.\u001b[0m\u001b[0mapply\u001b[0m\u001b[1;33m(\u001b[0m\u001b[1;32mlambda\u001b[0m \u001b[0mx\u001b[0m\u001b[1;33m:\u001b[0m \u001b[1;34m\" \"\u001b[0m\u001b[1;33m.\u001b[0m\u001b[0mjoin\u001b[0m\u001b[1;33m(\u001b[0m\u001b[0mx\u001b[0m \u001b[1;32mfor\u001b[0m \u001b[0mx\u001b[0m \u001b[1;32min\u001b[0m \u001b[0mx\u001b[0m\u001b[1;33m.\u001b[0m\u001b[0msplit\u001b[0m\u001b[1;33m(\u001b[0m\u001b[1;33m)\u001b[0m \u001b[1;32mif\u001b[0m \u001b[0mx\u001b[0m \u001b[1;32mnot\u001b[0m \u001b[1;32min\u001b[0m \u001b[0mdf\u001b[0m\u001b[1;33m)\u001b[0m\u001b[1;33m)\u001b[0m\u001b[1;33m\u001b[0m\u001b[0m\n\u001b[0m",
      "\u001b[1;31mTypeError\u001b[0m: Argument 'other' has incorrect type (expected spacy.tokens.span.Span, got str)"
     ]
    }
   ],
   "source": [
    "raw_data[\"DATA\"] = raw_data[\"DATA\"].apply(lambda x: \" \".join(x for x in x.split() if x not in df))"
   ]
  },
  {
   "cell_type": "code",
   "execution_count": 104,
   "metadata": {},
   "outputs": [
    {
     "name": "stdout",
     "output_type": "stream",
     "text": [
      "(Home Phone, 336, Erica Weaver, RT,  January  , 4, 2016, \n",
      ", Summary, Refill Hydrocodone, Clinical Followup Details, \n",
      ", Erica Weaver, RT,  January  , 4, 2016, 9:23 AM, \n",
      ", HYDROCODONE, 10-325, MG, HYDROCODONE, 1, every 4-8 hours,  , #120, Erica Weaver, RT\n",
      "\t, Method, \tPrint, 1767518549180130)\n"
     ]
    }
   ],
   "source": [
    "doc3=nlp2(sentence_extraction1(raw_data[\"DATA\"][28]))\n",
    "print(doc3.ents)"
   ]
  },
  {
   "cell_type": "code",
   "execution_count": null,
   "metadata": {},
   "outputs": [],
   "source": []
  },
  {
   "cell_type": "code",
   "execution_count": 105,
   "metadata": {},
   "outputs": [],
   "source": [
    "def sentence_extraction2(text):\n",
    "    #text = rtf.striprtf(text)\n",
    "    if text.find(\"Summary of Call:\") != -1:\n",
    "        sentence =(nltk.sent_tokenize(sentence_extraction1(text).split(\"Summary of Call:\")[1]))\n",
    "        #print(sentence)\n",
    "    else:\n",
    "        sentence=text\n",
    "    return sentence"
   ]
  },
  {
   "cell_type": "code",
   "execution_count": 106,
   "metadata": {},
   "outputs": [
    {
     "name": "stdout",
     "output_type": "stream",
     "text": [
      "no.of rows reviews processed: 0\n",
      "no.of rows reviews processed: 10000\n",
      "no.of rows reviews processed: 20000\n",
      "no.of rows reviews processed: 30000\n",
      "no.of rows reviews processed: 40000\n",
      "no.of rows reviews processed: 50000\n",
      "no.of rows reviews processed: 60000\n",
      "no.of rows reviews processed: 70000\n",
      "no.of rows reviews processed: 80000\n",
      "Training took 66.592 seconds\n"
     ]
    }
   ],
   "source": [
    "import time\n",
    "start = time.time()\n",
    "extracted_sent1=[]\n",
    "length_data=len(raw_data)\n",
    "for i in range (0,length_data):\n",
    "    if i%10000 == 0:\n",
    "        print (\"no.of rows reviews processed:\",i)\n",
    "    extracted_sent1.append(sentence_extraction2(raw_data.DATA[i]))\n",
    "print(\"Training took {:0.3f} seconds\".format(time.time()-start))"
   ]
  },
  {
   "cell_type": "code",
   "execution_count": 107,
   "metadata": {},
   "outputs": [],
   "source": [
    "import numpy as np\n",
    "raw_data[\"new\"]=(pd.DataFrame(np.array(extracted_sent1))).astype(\"str\")\n",
    "#raw_data.new.astype(\"str\")"
   ]
  },
  {
   "cell_type": "code",
   "execution_count": 108,
   "metadata": {},
   "outputs": [],
   "source": [
    "def clean_str1(string):\n",
    "    string = re.sub(r\"[^A-Za-z0-9(),!?\\'\\`]\", \" \", string)\n",
    "    string = re.sub(r\"\\'s\", \" \\'s\", string)\n",
    "    string = re.sub(r\"\\'ve\", \" \\'ve\", string)\n",
    "    string = re.sub(r\"n\\'t\", \" n\\'t\", string)\n",
    "    string = re.sub(r\"\\'re\", \" \\'re\", string)\n",
    "    string = re.sub(r\"\\'d\", \" \\'d\", string)\n",
    "    string = re.sub(r\"\\'ll\", \" \\'ll\", string)\n",
    "    string = re.sub(r\",\", \" , \", string)\n",
    "    string = re.sub(r\"!\", \" ! \", string)\n",
    "    string = re.sub(r\"\\(\", \" \\( \", string)\n",
    "    string = re.sub(r\"\\)\", \" \\) \", string)\n",
    "    string = re.sub(r\"\\?\", \" \\? \", string)\n",
    "    string = re.sub(r\"\\s{2,}\", \" \", string)\n",
    "    review_text = string.strip()\n",
    "    letters_only = re.sub(\"[^a-zA-Z]\", \" \", review_text)\n",
    "    return letters_only"
   ]
  },
  {
   "cell_type": "code",
   "execution_count": 109,
   "metadata": {},
   "outputs": [
    {
     "name": "stdout",
     "output_type": "stream",
     "text": [
      "no.of rows reviews processed: 0\n",
      "no.of rows reviews processed: 10000\n",
      "no.of rows reviews processed: 20000\n",
      "no.of rows reviews processed: 30000\n",
      "no.of rows reviews processed: 40000\n",
      "no.of rows reviews processed: 50000\n",
      "no.of rows reviews processed: 60000\n",
      "no.of rows reviews processed: 70000\n",
      "no.of rows reviews processed: 80000\n",
      "Training took 10.387 seconds\n"
     ]
    }
   ],
   "source": [
    " import time\n",
    "start = time.time()\n",
    "extracted_sent2=[]\n",
    "length_data=len(raw_data)\n",
    "for i in range (0,length_data):\n",
    "    if i%10000 == 0:\n",
    "        print (\"no.of rows reviews processed:\",i)\n",
    "    extracted_sent2.append(clean_str1(raw_data[\"new\"][i]))\n",
    "print(\"Training took {:0.3f} seconds\".format(time.time()-start))"
   ]
  },
  {
   "cell_type": "code",
   "execution_count": 110,
   "metadata": {},
   "outputs": [],
   "source": [
    "raw_data[\"new\"]=pd.DataFrame(extracted_sent2)"
   ]
  },
  {
   "cell_type": "code",
   "execution_count": 111,
   "metadata": {},
   "outputs": [],
   "source": [
    "def clean_str2(string):\n",
    "    string = re.sub(r\"[^A-Za-z0-9(),!?\\'\\`]\", \" \", string)\n",
    "    string = re.sub(r\"\\'s\", \" \\'s\", string)\n",
    "    string = re.sub(r\"\\'ve\", \" \\'ve\", string)\n",
    "    string = re.sub(r\"n\\'t\", \" n\\'t\", string)\n",
    "    string = re.sub(r\"\\'re\", \" \\'re\", string)\n",
    "    string = re.sub(r\"\\'d\", \" \\'d\", string)\n",
    "    string = re.sub(r\"\\'ll\", \" \\'ll\", string)\n",
    "    string = re.sub(r\",\", \" , \", string)\n",
    "    string = re.sub(r\"!\", \" ! \", string)\n",
    "    string = re.sub(r\"\\(\", \" \\( \", string)\n",
    "    string = re.sub(r\"\\)\", \" \\) \", string)\n",
    "    string = re.sub(r\"\\?\", \" \\? \", string)\n",
    "    string = re.sub(r\"\\s{2,}\", \" \", string)\n",
    "    string = re.sub(r\"Phone Note \", \" \", string)\n",
    "    string = re.sub(r\"Summary of Call \", \" \", string)\n",
    "    string = re.sub(r\"New Medications\", \" \", string)\n",
    "    string = re.sub(r\"New Allergies \", \" \", string)\n",
    "    string = re.sub(r\"Call from Patient \", \" \", string)\n",
    "    string = re.sub(r\"Clinical Followup Details \", \" \", string)\n",
    "    string = re.sub(r\"Caller \", \" \", string)\n",
    "    string = re.sub(r\"Initial call taken by \", \" \", string)\n",
    "    string = re.sub(r\"Followup Details \", \" \", string)\n",
    "    string = re.sub(r\"Follow-up by \", \" \", string)\n",
    "    string = re.sub(r\"Call back at \", \" \", string)\n",
    "    string = re.sub(r\"Call from Other Clinic \", \" \", string)\n",
    "    string = re.sub(r\"Home Phone \", \" \", string)\n",
    "    string = re.sub(r\"Converted from flag \", \" \", string)\n",
    "    string = re.sub(r\"Call from Pharmacy \", \" \", string)\n",
    "    string = re.sub(r\"Prescriptions \", \" \", string)\n",
    "    string = re.sub(r\"Entered by \", \" \", string)\n",
    "    string = re.sub(r\"Authorized by \", \" \", string)\n",
    "    string = re.sub(r\"Electronically signed by\", \" \", string)\n",
    "    string = re.sub(r\"Method used \", \" \", string)\n",
    "    string = re.sub(r\"Ph \", \" \", string)\n",
    "    string = re.sub(r\"Fax \", \" \", string)\n",
    "    string = re.sub(r\"RxID \", \" \", string)\n",
    "    string = re.sub(r\"Work Phone \", \" \", string)\n",
    "    string = re.sub(r\"New Orders wrote\", \" \", string)\n",
    "    string = re.sub(r\"wrote\", \" \", string)\n",
    "    string = re.sub(r\"Action Taken \", \" \", string)\n",
    "    string = re.sub(r\"To Whom It May Concern \", \" \", string)\n",
    "    string = re.sub(r\"Follow up for Phone Call \", \" \", string)\n",
    "    string = re.sub(r\"Phone Call Completed \", \" \", string)\n",
    "    string = re.sub(r\"Follow up by \", \" \", string)\n",
    "    string = re.sub(r\"Other Incoming Call \",\" \", string)\n",
    "    review_text = string.strip()\n",
    "    letters_only = re.sub(\"[^a-zA-Z]\", \" \", review_text)\n",
    "    letters_only.lower\n",
    "    return letters_only"
   ]
  },
  {
   "cell_type": "code",
   "execution_count": 112,
   "metadata": {},
   "outputs": [
    {
     "name": "stdout",
     "output_type": "stream",
     "text": [
      "no.of rows reviews processed: 0\n",
      "no.of rows reviews processed: 10000\n",
      "no.of rows reviews processed: 20000\n",
      "no.of rows reviews processed: 30000\n",
      "no.of rows reviews processed: 40000\n",
      "no.of rows reviews processed: 50000\n",
      "no.of rows reviews processed: 60000\n",
      "no.of rows reviews processed: 70000\n",
      "no.of rows reviews processed: 80000\n",
      "Training took 4.423 seconds\n"
     ]
    }
   ],
   "source": [
    " import time\n",
    "start = time.time()\n",
    "extracted_summary=[]\n",
    "length_data=len(raw_data)\n",
    "for i in range (0,length_data):\n",
    "    if i%10000 == 0:\n",
    "        print (\"no.of rows reviews processed:\",i)\n",
    "    extracted_summary.append(clean_str2(raw_data[\"SUMMARY\"][i]))\n",
    "print(\"Training took {:0.3f} seconds\".format(time.time()-start))"
   ]
  },
  {
   "cell_type": "code",
   "execution_count": 113,
   "metadata": {},
   "outputs": [
    {
     "name": "stdout",
     "output_type": "stream",
     "text": [
      "no.of rows reviews processed: 0\n",
      "no.of rows reviews processed: 10000\n",
      "no.of rows reviews processed: 20000\n",
      "no.of rows reviews processed: 30000\n",
      "no.of rows reviews processed: 40000\n",
      "no.of rows reviews processed: 50000\n",
      "no.of rows reviews processed: 60000\n",
      "no.of rows reviews processed: 70000\n",
      "no.of rows reviews processed: 80000\n",
      "Training took 11.888 seconds\n"
     ]
    }
   ],
   "source": [
    " import time\n",
    "start = time.time()\n",
    "extracted_sent3=[]\n",
    "length_data=len(raw_data)\n",
    "for i in range (0,length_data):\n",
    "    if i%10000 == 0:\n",
    "        print (\"no.of rows reviews processed:\",i)\n",
    "    extracted_sent3.append(clean_str2(raw_data[\"new\"][i]))\n",
    "print(\"Training took {:0.3f} seconds\".format(time.time()-start))"
   ]
  },
  {
   "cell_type": "code",
   "execution_count": 114,
   "metadata": {},
   "outputs": [],
   "source": [
    "raw_data[\"no_headers\"]=pd.DataFrame(extracted_sent3)"
   ]
  },
  {
   "cell_type": "code",
   "execution_count": 115,
   "metadata": {},
   "outputs": [],
   "source": [
    "raw_data[\"summary\"]=pd.DataFrame(extracted_summary)"
   ]
  },
  {
   "cell_type": "code",
   "execution_count": 122,
   "metadata": {},
   "outputs": [
    {
     "data": {
      "text/plain": [
       "'I have a cough and congestion that started over this past week It s now down deep in my chest dry hacky sore throat  Appt scheduled Amanda Gray January AM'"
      ]
     },
     "execution_count": 122,
     "metadata": {},
     "output_type": "execute_result"
    }
   ],
   "source": [
    "raw_data[\"no_headers\"][25]"
   ]
  },
  {
   "cell_type": "code",
   "execution_count": 144,
   "metadata": {},
   "outputs": [
    {
     "name": "stdout",
     "output_type": "stream",
     "text": [
      "(Xarelto, FYI, nSaw Dr Tat, Xarelto, weeks, later in week, Erica Weaver, MA RT, July PM)\n"
     ]
    }
   ],
   "source": [
    "doc_nlp=nlp1(sentence_extraction1(raw_data[\"no_headers\"][20004]))\n",
    "print(doc_nlp.ents)"
   ]
  },
  {
   "cell_type": "code",
   "execution_count": 145,
   "metadata": {},
   "outputs": [
    {
     "name": "stdout",
     "output_type": "stream",
     "text": [
      "(Samples Xarelto, today, Vascular Parkinsonism, Xarelto, weeks, later in week,  Erica Weaver MA RT July PM)\n"
     ]
    }
   ],
   "source": [
    "doc_nlp=nlp2(sentence_extraction1(raw_data[\"no_headers\"][20004]))\n",
    "print(doc_nlp.ents)"
   ]
  },
  {
   "cell_type": "code",
   "execution_count": 141,
   "metadata": {},
   "outputs": [],
   "source": [
    "stop=list(doc_nlp.ents)"
   ]
  },
  {
   "cell_type": "code",
   "execution_count": 133,
   "metadata": {},
   "outputs": [],
   "source": [
    "a=list(doc_nlp.ents)"
   ]
  },
  {
   "cell_type": "code",
   "execution_count": 134,
   "metadata": {},
   "outputs": [
    {
     "data": {
      "text/plain": [
       "this past week"
      ]
     },
     "execution_count": 134,
     "metadata": {},
     "output_type": "execute_result"
    }
   ],
   "source": [
    "a[0]"
   ]
  },
  {
   "cell_type": "code",
   "execution_count": 183,
   "metadata": {},
   "outputs": [],
   "source": [
    "from sklearn.feature_extraction.stop_words import ENGLISH_STOP_WORDS as stopwords \n",
    "from sklearn.feature_extraction.text import CountVectorizer,TfidfVectorizer\n",
    "from sklearn.metrics import accuracy_score \n",
    "from sklearn.base import TransformerMixin \n",
    "from sklearn.pipeline import Pipeline\n",
    "from sklearn.svm import LinearSVC\n",
    "\n",
    "import string\n",
    "punctuations = string.punctuation\n",
    "\n",
    "from spacy.lang.en import English\n",
    "parser = English()\n",
    "\n",
    "#Custom transformer using spaCy \n",
    "class predictors(TransformerMixin):\n",
    "    def transform(self, X, **transform_params):\n",
    "        return [clean_text(text) for text in X]\n",
    "    def fit(self, X, y=None, **fit_params):\n",
    "        return self\n",
    "    def get_params(self, deep=True):\n",
    "        return {}\n",
    "\n",
    "# Basic utility function to clean the text \n",
    "def clean_text(text):     \n",
    "    return text.strip().lower()"
   ]
  },
  {
   "cell_type": "code",
   "execution_count": 204,
   "metadata": {},
   "outputs": [],
   "source": [
    "#Create spacy tokenizer that parses a sentence and generates tokens\n",
    "#these can also be replaced by word vectors \n",
    "def spacy_tokenizer(sentence):\n",
    "    tokens = parser(sentence)\n",
    "    tokens = [tok.lemma_.lower().strip() if tok.lemma_ != \"-PRON-\" else tok.lower_ for tok in tokens]\n",
    "    tokens = [tok for tok in tokens if (tok not in stopwords and tok not in punctuations)]     \n",
    "    return tokens\n",
    "\n",
    "#create vectorizer object to generate feature vectors, we will use custom spacy’s tokenizer\n",
    "#vectorizer = CountVectorizer(tokenizer = spacy_tokenizer, ngram_range=(1,1)) \n",
    "\n",
    "vectorizer =TfidfVectorizer(analyzer='word', tokenizer = spacy_tokenizer, ngram_range=(1,2), max_features=50000)\n",
    "classifier = LinearSVC(C=1.0,penalty='l1', max_iter=5000,dual=False)"
   ]
  },
  {
   "cell_type": "code",
   "execution_count": 205,
   "metadata": {},
   "outputs": [],
   "source": [
    "# Create the  pipeline to clean, tokenize, vectorize, and classify \n",
    "pipe = Pipeline([(\"cleaner\", predictors()),\n",
    "                 ('vectorizer', vectorizer),\n",
    "                 ('classifier', classifier)])"
   ]
  },
  {
   "cell_type": "code",
   "execution_count": 206,
   "metadata": {},
   "outputs": [],
   "source": [
    "train_x, valid_x, train_y, valid_y = cross_validation.train_test_split(raw_data[\"no_headers\"], raw_data['Categories1'])"
   ]
  },
  {
   "cell_type": "code",
   "execution_count": 207,
   "metadata": {},
   "outputs": [],
   "source": [
    "clfier=pipe.fit(train_x,train_y)"
   ]
  },
  {
   "cell_type": "code",
   "execution_count": 208,
   "metadata": {},
   "outputs": [
    {
     "data": {
      "text/plain": [
       "(0.86798120619271357, 0.76468413512639222)"
      ]
     },
     "execution_count": 208,
     "metadata": {},
     "output_type": "execute_result"
    }
   ],
   "source": [
    "clfier.score(train_x,train_y),clfier.score(valid_x,valid_y)"
   ]
  },
  {
   "cell_type": "code",
   "execution_count": 198,
   "metadata": {},
   "outputs": [
    {
     "data": {
      "text/plain": [
       "'Some better c cough and congestion However still c low grade fevers sleeping often She says she is worried that he may have had flu n nWe did not have PCN as allergy The Pharmacy did They did not pick up the drug It is unclear if he needs more Abx I did call in Bactrim One DS PO BID and gave parameters on When to start n nListed PCN as allergy n n  nSULFAMETHOXAZOLE TRIMETHOPRIM MG ORAL TABS SULFAMETHOXAZOLE TRIMETHOPRIM One PO BID n nPCN PENICILLIN V POTASSIUM Moderate n  nSULFAMETHOXAZOLE TRIMETHOPRIM MG ORAL TABS SULFAMETHOXAZOLE TRIMETHOPRIM One PO BID n nPCN PENICILLIN V POTASSIUM Moderate n n n  nSULFAMETHOXAZOLE TRIMETHOPRIM MG ORAL TABS SULFAMETHOXAZOLE TRIMETHOPRIM One PO BID n nPCN PENICILLIN V POTASSIUM Moderate'"
      ]
     },
     "execution_count": 198,
     "metadata": {},
     "output_type": "execute_result"
    }
   ],
   "source": [
    "train_x[0]"
   ]
  },
  {
   "cell_type": "code",
   "execution_count": 199,
   "metadata": {},
   "outputs": [],
   "source": [
    "def clean_text(text):     \n",
    "    return text.strip().lower()"
   ]
  },
  {
   "cell_type": "code",
   "execution_count": 200,
   "metadata": {},
   "outputs": [
    {
     "data": {
      "text/plain": [
       "'some better c cough and congestion however still c low grade fevers sleeping often she says she is worried that he may have had flu n nwe did not have pcn as allergy the pharmacy did they did not pick up the drug it is unclear if he needs more abx i did call in bactrim one ds po bid and gave parameters on when to start n nlisted pcn as allergy n n  nsulfamethoxazole trimethoprim mg oral tabs sulfamethoxazole trimethoprim one po bid n npcn penicillin v potassium moderate n  nsulfamethoxazole trimethoprim mg oral tabs sulfamethoxazole trimethoprim one po bid n npcn penicillin v potassium moderate n n n  nsulfamethoxazole trimethoprim mg oral tabs sulfamethoxazole trimethoprim one po bid n npcn penicillin v potassium moderate'"
      ]
     },
     "execution_count": 200,
     "metadata": {},
     "output_type": "execute_result"
    }
   ],
   "source": [
    " clean_text(train_x[0])"
   ]
  },
  {
   "cell_type": "code",
   "execution_count": 201,
   "metadata": {},
   "outputs": [],
   "source": [
    "def spacy_tokenizer(sentence):\n",
    "    tokens = parser(sentence)\n",
    "    tokens = [tok.lemma_.lower().strip() if tok.lemma_ != \"-PRON-\" else tok.lower_ for tok in tokens]\n",
    "    tokens = [tok for tok in tokens if (tok not in stopwords and tok not in punctuations)]     \n",
    "    return tokens"
   ]
  },
  {
   "cell_type": "code",
   "execution_count": 203,
   "metadata": {},
   "outputs": [
    {
     "name": "stdout",
     "output_type": "stream",
     "text": [
      "['c', 'cough', 'congestion', 'c', 'low', 'grade', 'fever', 'sleep', 'say', 'worry', 'flu', 'n', 'nwe', 'pcn', 'allergy', 'pharmacy', 'pick', 'drug', 'unclear', 'need', 'abx', 'bactrim', 'd', 'po', 'bid', 'parameter', 'start', 'n', 'nlisted', 'pcn', 'allergy', 'n', 'n', 'nsulfamethoxazole', 'trimethoprim', 'mg', 'oral', 'tab', 'sulfamethoxazole', 'trimethoprim', 'po', 'bid', 'n', 'npcn', 'penicillin', 'v', 'potassium', 'moderate', 'n', 'nsulfamethoxazole', 'trimethoprim', 'mg', 'oral', 'tab', 'sulfamethoxazole', 'trimethoprim', 'po', 'bid', 'n', 'npcn', 'penicillin', 'v', 'potassium', 'moderate', 'n', 'n', 'n', 'nsulfamethoxazole', 'trimethoprim', 'mg', 'oral', 'tab', 'sulfamethoxazole', 'trimethoprim', 'po', 'bid', 'n', 'npcn', 'penicillin', 'v', 'potassium', 'moderate']\n"
     ]
    }
   ],
   "source": [
    "print(spacy_tokenizer(clean_text(train_x[0])))"
   ]
  },
  {
   "cell_type": "code",
   "execution_count": 209,
   "metadata": {},
   "outputs": [
    {
     "ename": "ModuleNotFoundError",
     "evalue": "No module named 'lark'",
     "output_type": "error",
     "traceback": [
      "\u001b[1;31m---------------------------------------------------------------------------\u001b[0m",
      "\u001b[1;31mModuleNotFoundError\u001b[0m                       Traceback (most recent call last)",
      "\u001b[1;32m<ipython-input-209-8ad6134a22e2>\u001b[0m in \u001b[0;36m<module>\u001b[1;34m()\u001b[0m\n\u001b[1;32m----> 1\u001b[1;33m \u001b[1;32mfrom\u001b[0m \u001b[0mlark\u001b[0m \u001b[1;32mimport\u001b[0m \u001b[0mLark\u001b[0m\u001b[1;33m\u001b[0m\u001b[0m\n\u001b[0m",
      "\u001b[1;31mModuleNotFoundError\u001b[0m: No module named 'lark'"
     ]
    }
   ],
   "source": []
  },
  {
   "cell_type": "code",
   "execution_count": 175,
   "metadata": {},
   "outputs": [
    {
     "data": {
      "text/plain": [
       "array(['ASK_A_DOCTOR', 'PRESCRIPTION', 'MISCELLANEOUS', ...,\n",
       "       'ASK_A_DOCTOR', 'ASK_A_DOCTOR', 'PRESCRIPTION'], dtype=object)"
      ]
     },
     "execution_count": 175,
     "metadata": {},
     "output_type": "execute_result"
    }
   ],
   "source": [
    "clfier.predict(valid_x)"
   ]
  },
  {
   "cell_type": "code",
   "execution_count": 176,
   "metadata": {},
   "outputs": [
    {
     "data": {
      "text/plain": [
       "0.92185165216051757"
      ]
     },
     "execution_count": 176,
     "metadata": {},
     "output_type": "execute_result"
    }
   ],
   "source": [
    "clfier.score(train_x,train_y)"
   ]
  },
  {
   "cell_type": "code",
   "execution_count": 177,
   "metadata": {},
   "outputs": [
    {
     "data": {
      "text/plain": [
       "0.71639170017098752"
      ]
     },
     "execution_count": 177,
     "metadata": {},
     "output_type": "execute_result"
    }
   ],
   "source": [
    "clfier.score(valid_x,valid_y)"
   ]
  },
  {
   "cell_type": "code",
   "execution_count": null,
   "metadata": {},
   "outputs": [],
   "source": []
  },
  {
   "cell_type": "code",
   "execution_count": 257,
   "metadata": {},
   "outputs": [],
   "source": [
    "raw_data.to_excel(\"raw_data.xlsx\",index=False)"
   ]
  },
  {
   "cell_type": "code",
   "execution_count": 31,
   "metadata": {},
   "outputs": [],
   "source": [
    "raw_data.to_csv(\"raw_data.csv\",index=False)"
   ]
  },
  {
   "cell_type": "code",
   "execution_count": 147,
   "metadata": {},
   "outputs": [],
   "source": [
    "#[nltk.sent_tokenize(sent)[0].str.contains(\"MD Followup Details:\")]"
   ]
  },
  {
   "cell_type": "code",
   "execution_count": 12,
   "metadata": {},
   "outputs": [
    {
     "data": {
      "text/plain": [
       "' Patient was directly notified and RX was e-scribed/called to the pharmacy.. ..................................Amanda Gray  January  4, 2016 10:04 AM \\n\\nNew Medications:\\nPREDNISONE 20 MG ORAL TABS (PREDNISONE) 1 po qd\\nDOXYCYCLINE HYCLATE 100 MG CAPS'"
      ]
     },
     "execution_count": 12,
     "metadata": {},
     "output_type": "execute_result"
    }
   ],
   "source": [
    "sent=(''.join(nltk.sent_tokenize(sentence_extraction1(raw_data[\"DATA\"][52])))).split(\"Summary of Call:\")[1] \n",
    "sent"
   ]
  },
  {
   "cell_type": "code",
   "execution_count": null,
   "metadata": {},
   "outputs": [],
   "source": []
  },
  {
   "cell_type": "code",
   "execution_count": 14,
   "metadata": {},
   "outputs": [
    {
     "data": {
      "text/plain": [
       "[' Patient was directly notified and RX was e-scribed/called to the pharmacy.. ..................................Amanda Gray  January  4, 2016 10:04 AM \\n\\nNew Medications:\\nPREDNISONE 20 MG ORAL TABS (PREDNISONE) 1 po qd\\nDOXYCYCLINE HYCLATE 100 MG CAPS']"
      ]
     },
     "execution_count": 14,
     "metadata": {},
     "output_type": "execute_result"
    }
   ],
   "source": [
    "sent.split(\"Follow-up for Phone Call\")"
   ]
  },
  {
   "cell_type": "code",
   "execution_count": 24,
   "metadata": {},
   "outputs": [],
   "source": [
    "def Summaryofcall(text):\n",
    "    line = rtf.striprtf(text)\n",
    "    #print(line)\n",
    "    n1=len(nltk.sent_tokenize(line))\n",
    "    if line.str.contains(\"Summary of Call:\"):\n",
    "        sent=(''.join(nltk.sent_tokenize(line)).split(\"Summary of Call:\")[1] \n",
    "    else:\n",
    "        sentence = line\n",
    "    \n",
    "    return sentence\n"
   ]
  },
  {
   "cell_type": "code",
   "execution_count": 25,
   "metadata": {},
   "outputs": [
    {
     "name": "stdout",
     "output_type": "stream",
     "text": [
      "no.of rows reviews processed: 0\n",
      "no.of rows reviews processed: 10000\n",
      "no.of rows reviews processed: 20000\n",
      "no.of rows reviews processed: 30000\n",
      "no.of rows reviews processed: 40000\n",
      "no.of rows reviews processed: 50000\n",
      "no.of rows reviews processed: 60000\n",
      "no.of rows reviews processed: 70000\n",
      "no.of rows reviews processed: 80000\n",
      "Training took 138.270 seconds\n"
     ]
    }
   ],
   "source": [
    "import time\n",
    "start = time.time()\n",
    "extracted_sent1=[]\n",
    "for i in range (0,length_data):\n",
    "    if i%10000 == 0:\n",
    "        print (\"no.of rows reviews processed:\",i)\n",
    "    extracted_sent1.append(Summaryofcall(raw_data.DATA[i]))\n",
    "print(\"Training took {:0.3f} seconds\".format(time.time()-start))"
   ]
  },
  {
   "cell_type": "code",
   "execution_count": 26,
   "metadata": {},
   "outputs": [],
   "source": [
    "def FollowupforPhoneCall(text):\n",
    "    line = rtf.striprtf(text)\n",
    "    n1=len(nltk.sent_tokenize(line))\n",
    "    if line.str.contains(\"Summary of Call:\"):\n",
    "        \n",
    "    else:\n",
    "        sentence = 0\n",
    "    \n",
    "    return sentence"
   ]
  },
  {
   "cell_type": "code",
   "execution_count": 27,
   "metadata": {},
   "outputs": [
    {
     "name": "stdout",
     "output_type": "stream",
     "text": [
      "no.of rows reviews processed: 0\n",
      "no.of rows reviews processed: 10000\n",
      "no.of rows reviews processed: 20000\n",
      "no.of rows reviews processed: 30000\n",
      "no.of rows reviews processed: 40000\n",
      "no.of rows reviews processed: 50000\n",
      "no.of rows reviews processed: 60000\n",
      "no.of rows reviews processed: 70000\n",
      "no.of rows reviews processed: 80000\n",
      "Training took 137.734 seconds\n"
     ]
    }
   ],
   "source": [
    "import time\n",
    "start = time.time()\n",
    "extracted_sent2=[]\n",
    "for i in range (0,length_data):\n",
    "    if i%10000 == 0:\n",
    "        print (\"no.of rows reviews processed:\",i)\n",
    "    extracted_sent2.append(FollowupforPhoneCall(raw_data.DATA[i]))\n",
    "print(\"Training took {:0.3f} seconds\".format(time.time()-start))"
   ]
  },
  {
   "cell_type": "code",
   "execution_count": 45,
   "metadata": {},
   "outputs": [],
   "source": [
    "summaryofcall=pd.DataFrame(extracted_sent1,columns=[\"summaryofcall\"])\n",
    "len(summaryofcall)\n",
    "summaryofcall.to_csv(\"summary_of_call.csv\",index=False)"
   ]
  },
  {
   "cell_type": "code",
   "execution_count": 46,
   "metadata": {},
   "outputs": [],
   "source": [
    "FollowupforPhoneCall= pd.DataFrame(extracted_sent2,columns=[\"FollowupforPhoneCall\"])\n",
    "len(FollowupforPhoneCall)\n",
    "FollowupforPhoneCall.to_csv(\"Followupforcall.csv\",index=False)"
   ]
  },
  {
   "cell_type": "code",
   "execution_count": 44,
   "metadata": {},
   "outputs": [
    {
     "ename": "TypeError",
     "evalue": "concat() got multiple values for argument 'axis'",
     "output_type": "error",
     "traceback": [
      "\u001b[1;31m---------------------------------------------------------------------------\u001b[0m",
      "\u001b[1;31mTypeError\u001b[0m                                 Traceback (most recent call last)",
      "\u001b[1;32m<ipython-input-44-a91745cf5461>\u001b[0m in \u001b[0;36m<module>\u001b[1;34m()\u001b[0m\n\u001b[1;32m----> 1\u001b[1;33m \u001b[0mb\u001b[0m\u001b[1;33m=\u001b[0m\u001b[0mpd\u001b[0m\u001b[1;33m.\u001b[0m\u001b[0mconcat\u001b[0m\u001b[1;33m(\u001b[0m\u001b[0msummaryofcall\u001b[0m\u001b[1;33m[\u001b[0m\u001b[1;34m\"summaryofcall\"\u001b[0m\u001b[1;33m]\u001b[0m\u001b[1;33m,\u001b[0m\u001b[0mFollowupforPhoneCall\u001b[0m\u001b[1;33m[\u001b[0m\u001b[1;34m\"FollowupforPhoneCall\"\u001b[0m\u001b[1;33m]\u001b[0m\u001b[1;33m,\u001b[0m\u001b[0maxis\u001b[0m\u001b[1;33m=\u001b[0m\u001b[1;36m1\u001b[0m\u001b[1;33m)\u001b[0m\u001b[1;33m\u001b[0m\u001b[0m\n\u001b[0m",
      "\u001b[1;31mTypeError\u001b[0m: concat() got multiple values for argument 'axis'"
     ]
    }
   ],
   "source": [
    "b=pd.concat(summaryofcall[\"summaryofcall\"],FollowupforPhoneCall[\"FollowupforPhoneCall\"],axis=1)"
   ]
  },
  {
   "cell_type": "code",
   "execution_count": 42,
   "metadata": {},
   "outputs": [
    {
     "data": {
      "text/html": [
       "<div>\n",
       "<style scoped>\n",
       "    .dataframe tbody tr th:only-of-type {\n",
       "        vertical-align: middle;\n",
       "    }\n",
       "\n",
       "    .dataframe tbody tr th {\n",
       "        vertical-align: top;\n",
       "    }\n",
       "\n",
       "    .dataframe thead th {\n",
       "        text-align: right;\n",
       "    }\n",
       "</style>\n",
       "<table border=\"1\" class=\"dataframe\">\n",
       "  <thead>\n",
       "    <tr style=\"text-align: right;\">\n",
       "      <th></th>\n",
       "      <th>summaryofcall</th>\n",
       "    </tr>\n",
       "  </thead>\n",
       "  <tbody>\n",
       "    <tr>\n",
       "      <th>0</th>\n",
       "      <td>Some better c cough and congestion - However ...</td>\n",
       "    </tr>\n",
       "    <tr>\n",
       "      <th>1</th>\n",
       "      <td>0</td>\n",
       "    </tr>\n",
       "    <tr>\n",
       "      <th>2</th>\n",
       "      <td>called today c ST/cough, congestion, Head con...</td>\n",
       "    </tr>\n",
       "    <tr>\n",
       "      <th>3</th>\n",
       "      <td>Needs something stronger for cough than OTCs....</td>\n",
       "    </tr>\n",
       "    <tr>\n",
       "      <th>4</th>\n",
       "      <td>She called to get refill on Rx Moxiflox 400 m...</td>\n",
       "    </tr>\n",
       "    <tr>\n",
       "      <th>5</th>\n",
       "      <td>Called 1/2/16 with 3 more episodes that may h...</td>\n",
       "    </tr>\n",
       "    <tr>\n",
       "      <th>6</th>\n",
       "      <td>called 2x over weekend with continued colitis...</td>\n",
       "    </tr>\n",
       "    <tr>\n",
       "      <th>7</th>\n",
       "      <td>called tonight.Sugars have been terrible\\n&gt; 6...</td>\n",
       "    </tr>\n",
       "    <tr>\n",
       "      <th>8</th>\n",
       "      <td>Pt is out of testosterone and says that it ha...</td>\n",
       "    </tr>\n",
       "    <tr>\n",
       "      <th>9</th>\n",
       "      <td>1 wk of really bad cough\\nChest tightness.Muc...</td>\n",
       "    </tr>\n",
       "    <tr>\n",
       "      <th>10</th>\n",
       "      <td>Sxs came on suddenly last night.Red Hot swoll...</td>\n",
       "    </tr>\n",
       "    <tr>\n",
       "      <th>11</th>\n",
       "      <td>called that she gained 3 # since yesterday \\n...</td>\n",
       "    </tr>\n",
       "    <tr>\n",
       "      <th>12</th>\n",
       "      <td>Called 1/1 c Diverticulitis flare.Cipro for 1...</td>\n",
       "    </tr>\n",
       "    <tr>\n",
       "      <th>13</th>\n",
       "      <td>0</td>\n",
       "    </tr>\n",
       "    <tr>\n",
       "      <th>14</th>\n",
       "      <td>called 1/1 c Conjuctivitis/Pink eye.Polymixin...</td>\n",
       "    </tr>\n",
       "    <tr>\n",
       "      <th>15</th>\n",
       "      <td>called 1/1 c UTI and Yeast infection.Hol SGLT...</td>\n",
       "    </tr>\n",
       "    <tr>\n",
       "      <th>16</th>\n",
       "      <td>Having Low Back pains and flares,\\nRecent ESI...</td>\n",
       "    </tr>\n",
       "    <tr>\n",
       "      <th>17</th>\n",
       "      <td>Pt needs appt on Thursday for TOC with Dr. H....</td>\n",
       "    </tr>\n",
       "    <tr>\n",
       "      <th>18</th>\n",
       "      <td>Cough, congestion, fever, needs cxr\\n\\n\\nSpou...</td>\n",
       "    </tr>\n",
       "    <tr>\n",
       "      <th>19</th>\n",
       "      <td>---- 01/04/2016 8:29 AM, Krista Thompson wrote...</td>\n",
       "    </tr>\n",
       "    <tr>\n",
       "      <th>20</th>\n",
       "      <td>BP was 138/96 104 yesterday when I saw him.BP...</td>\n",
       "    </tr>\n",
       "    <tr>\n",
       "      <th>21</th>\n",
       "      <td>Two weeks ago I got a rx for a zpack.I got th...</td>\n",
       "    </tr>\n",
       "    <tr>\n",
       "      <th>22</th>\n",
       "      <td>Saw Dr. South on Thurs.for pain in side going...</td>\n",
       "    </tr>\n",
       "    <tr>\n",
       "      <th>23</th>\n",
       "      <td>I wanted to see if you could talk dad into us...</td>\n",
       "    </tr>\n",
       "    <tr>\n",
       "      <th>24</th>\n",
       "      <td>I need an appt.I thought I had UTI but I thin...</td>\n",
       "    </tr>\n",
       "    <tr>\n",
       "      <th>25</th>\n",
       "      <td>I have a cough and congestion that started ov...</td>\n",
       "    </tr>\n",
       "    <tr>\n",
       "      <th>26</th>\n",
       "      <td>I have been having some abdominal pain and we...</td>\n",
       "    </tr>\n",
       "    <tr>\n",
       "      <th>27</th>\n",
       "      <td>My house was broken into over the weekend.I a...</td>\n",
       "    </tr>\n",
       "    <tr>\n",
       "      <th>28</th>\n",
       "      <td>Refill Hydrocodone.Clinical Followup Details:...</td>\n",
       "    </tr>\n",
       "    <tr>\n",
       "      <th>29</th>\n",
       "      <td>I came in Decemeber for back pain.I was given...</td>\n",
       "    </tr>\n",
       "    <tr>\n",
       "      <th>...</th>\n",
       "      <td>...</td>\n",
       "    </tr>\n",
       "    <tr>\n",
       "      <th>86524</th>\n",
       "      <td>says first 3 days taking Lisinopril /HCTZ did...</td>\n",
       "    </tr>\n",
       "    <tr>\n",
       "      <th>86525</th>\n",
       "      <td>Had stitches in face placed last Thursday.The...</td>\n",
       "    </tr>\n",
       "    <tr>\n",
       "      <th>86526</th>\n",
       "      <td>Please call.Clinical Followup Details: Called...</td>\n",
       "    </tr>\n",
       "    <tr>\n",
       "      <th>86527</th>\n",
       "      <td>Please call about meds\\n\\npatient's husband s...</td>\n",
       "    </tr>\n",
       "    <tr>\n",
       "      <th>86528</th>\n",
       "      <td>Took Imodium and diarrhea has stopped, but st...</td>\n",
       "    </tr>\n",
       "    <tr>\n",
       "      <th>86529</th>\n",
       "      <td>do you have any samples of praluent or zenpep...</td>\n",
       "    </tr>\n",
       "    <tr>\n",
       "      <th>86530</th>\n",
       "      <td>pt's toenails have become an issue, very thic...</td>\n",
       "    </tr>\n",
       "    <tr>\n",
       "      <th>86531</th>\n",
       "      <td>Some medications were changed.Stopped BP med (...</td>\n",
       "    </tr>\n",
       "    <tr>\n",
       "      <th>86532</th>\n",
       "      <td>Patient wants c/b\\n\\nPatient said he had to g...</td>\n",
       "    </tr>\n",
       "    <tr>\n",
       "      <th>86533</th>\n",
       "      <td>Nurse called r/t patient \\n\\nblood pressure 1...</td>\n",
       "    </tr>\n",
       "    <tr>\n",
       "      <th>86534</th>\n",
       "      <td>Had some body weakness and some chest pain wi...</td>\n",
       "    </tr>\n",
       "    <tr>\n",
       "      <th>86535</th>\n",
       "      <td>0</td>\n",
       "    </tr>\n",
       "    <tr>\n",
       "      <th>86536</th>\n",
       "      <td>Oral Surgery was put in by mistake lol\\n------...</td>\n",
       "    </tr>\n",
       "    <tr>\n",
       "      <th>86537</th>\n",
       "      <td>Pt said that he is getting ready to go away a...</td>\n",
       "    </tr>\n",
       "    <tr>\n",
       "      <th>86538</th>\n",
       "      <td>I do not know what you all can do.She has app...</td>\n",
       "    </tr>\n",
       "    <tr>\n",
       "      <th>86539</th>\n",
       "      <td>I have had this for a couple of days and had ...</td>\n",
       "    </tr>\n",
       "    <tr>\n",
       "      <th>86540</th>\n",
       "      <td>0</td>\n",
       "    </tr>\n",
       "    <tr>\n",
       "      <th>86541</th>\n",
       "      <td>sleep med has diphenhydramine 50mg,  it doesn...</td>\n",
       "    </tr>\n",
       "    <tr>\n",
       "      <th>86542</th>\n",
       "      <td>experiencing anxiety and more depression, did...</td>\n",
       "    </tr>\n",
       "    <tr>\n",
       "      <th>86543</th>\n",
       "      <td>I need her appt.information.Clinical Followup...</td>\n",
       "    </tr>\n",
       "    <tr>\n",
       "      <th>86544</th>\n",
       "      <td>0</td>\n",
       "    </tr>\n",
       "    <tr>\n",
       "      <th>86545</th>\n",
       "      <td>Requesting hydrocodone/ace 325-5.Ran out a fe...</td>\n",
       "    </tr>\n",
       "    <tr>\n",
       "      <th>86546</th>\n",
       "      <td>he then had a problem we could not urinate and...</td>\n",
       "    </tr>\n",
       "    <tr>\n",
       "      <th>86547</th>\n",
       "      <td>FYI: \\n\\ntalked to Dr. Kelly's nurse she said...</td>\n",
       "    </tr>\n",
       "    <tr>\n",
       "      <th>86548</th>\n",
       "      <td>Issues with sinus still.Thinks they are infec...</td>\n",
       "    </tr>\n",
       "    <tr>\n",
       "      <th>86549</th>\n",
       "      <td>Spoke at appt about Lisinopril.He is taking 2...</td>\n",
       "    </tr>\n",
       "    <tr>\n",
       "      <th>86550</th>\n",
       "      <td>issues with pump supplies,  changing every 2 ...</td>\n",
       "    </tr>\n",
       "    <tr>\n",
       "      <th>86551</th>\n",
       "      <td>Wants to talk about her appts - she said that...</td>\n",
       "    </tr>\n",
       "    <tr>\n",
       "      <th>86552</th>\n",
       "      <td>0</td>\n",
       "    </tr>\n",
       "    <tr>\n",
       "      <th>86553</th>\n",
       "      <td>0</td>\n",
       "    </tr>\n",
       "  </tbody>\n",
       "</table>\n",
       "<p>86554 rows × 1 columns</p>\n",
       "</div>"
      ],
      "text/plain": [
       "                                           summaryofcall\n",
       "0       Some better c cough and congestion - However ...\n",
       "1                                                      0\n",
       "2       called today c ST/cough, congestion, Head con...\n",
       "3       Needs something stronger for cough than OTCs....\n",
       "4       She called to get refill on Rx Moxiflox 400 m...\n",
       "5       Called 1/2/16 with 3 more episodes that may h...\n",
       "6       called 2x over weekend with continued colitis...\n",
       "7       called tonight.Sugars have been terrible\\n> 6...\n",
       "8       Pt is out of testosterone and says that it ha...\n",
       "9       1 wk of really bad cough\\nChest tightness.Muc...\n",
       "10      Sxs came on suddenly last night.Red Hot swoll...\n",
       "11      called that she gained 3 # since yesterday \\n...\n",
       "12      Called 1/1 c Diverticulitis flare.Cipro for 1...\n",
       "13                                                     0\n",
       "14      called 1/1 c Conjuctivitis/Pink eye.Polymixin...\n",
       "15      called 1/1 c UTI and Yeast infection.Hol SGLT...\n",
       "16      Having Low Back pains and flares,\\nRecent ESI...\n",
       "17      Pt needs appt on Thursday for TOC with Dr. H....\n",
       "18      Cough, congestion, fever, needs cxr\\n\\n\\nSpou...\n",
       "19     ---- 01/04/2016 8:29 AM, Krista Thompson wrote...\n",
       "20      BP was 138/96 104 yesterday when I saw him.BP...\n",
       "21      Two weeks ago I got a rx for a zpack.I got th...\n",
       "22      Saw Dr. South on Thurs.for pain in side going...\n",
       "23      I wanted to see if you could talk dad into us...\n",
       "24      I need an appt.I thought I had UTI but I thin...\n",
       "25      I have a cough and congestion that started ov...\n",
       "26      I have been having some abdominal pain and we...\n",
       "27      My house was broken into over the weekend.I a...\n",
       "28      Refill Hydrocodone.Clinical Followup Details:...\n",
       "29      I came in Decemeber for back pain.I was given...\n",
       "...                                                  ...\n",
       "86524   says first 3 days taking Lisinopril /HCTZ did...\n",
       "86525   Had stitches in face placed last Thursday.The...\n",
       "86526   Please call.Clinical Followup Details: Called...\n",
       "86527   Please call about meds\\n\\npatient's husband s...\n",
       "86528   Took Imodium and diarrhea has stopped, but st...\n",
       "86529   do you have any samples of praluent or zenpep...\n",
       "86530   pt's toenails have become an issue, very thic...\n",
       "86531  Some medications were changed.Stopped BP med (...\n",
       "86532   Patient wants c/b\\n\\nPatient said he had to g...\n",
       "86533   Nurse called r/t patient \\n\\nblood pressure 1...\n",
       "86534   Had some body weakness and some chest pain wi...\n",
       "86535                                                  0\n",
       "86536  Oral Surgery was put in by mistake lol\\n------...\n",
       "86537   Pt said that he is getting ready to go away a...\n",
       "86538   I do not know what you all can do.She has app...\n",
       "86539   I have had this for a couple of days and had ...\n",
       "86540                                                  0\n",
       "86541   sleep med has diphenhydramine 50mg,  it doesn...\n",
       "86542   experiencing anxiety and more depression, did...\n",
       "86543   I need her appt.information.Clinical Followup...\n",
       "86544                                                  0\n",
       "86545   Requesting hydrocodone/ace 325-5.Ran out a fe...\n",
       "86546  he then had a problem we could not urinate and...\n",
       "86547   FYI: \\n\\ntalked to Dr. Kelly's nurse she said...\n",
       "86548   Issues with sinus still.Thinks they are infec...\n",
       "86549   Spoke at appt about Lisinopril.He is taking 2...\n",
       "86550   issues with pump supplies,  changing every 2 ...\n",
       "86551   Wants to talk about her appts - she said that...\n",
       "86552                                                  0\n",
       "86553                                                  0\n",
       "\n",
       "[86554 rows x 1 columns]"
      ]
     },
     "execution_count": 42,
     "metadata": {},
     "output_type": "execute_result"
    }
   ],
   "source": [
    "summaryofcall"
   ]
  },
  {
   "cell_type": "code",
   "execution_count": 95,
   "metadata": {},
   "outputs": [
    {
     "data": {
      "text/plain": [
       "(34286, 16)"
      ]
     },
     "execution_count": 95,
     "metadata": {},
     "output_type": "execute_result"
    }
   ],
   "source": [
    "#Summary_of_call=raw_data.loc[raw_data[\"DATA\"].str.contains(\"Summary of Call:\" and \"Follow-up for Phone Call\" and \"MD Followup Details:\")]\n",
    "#Summary_of_call.shape\n",
    "# (34286, 16)"
   ]
  },
  {
   "cell_type": "code",
   "execution_count": null,
   "metadata": {},
   "outputs": [],
   "source": []
  },
  {
   "cell_type": "code",
   "execution_count": 96,
   "metadata": {},
   "outputs": [
    {
     "data": {
      "text/plain": [
       "(81186, 16)"
      ]
     },
     "execution_count": 96,
     "metadata": {},
     "output_type": "execute_result"
    }
   ],
   "source": [
    "Summary_of_call=raw_data.loc[raw_data[\"DATA\"].str.contains(\"Summary of Call:\")]\n",
    "Summary_of_call.shape"
   ]
  },
  {
   "cell_type": "code",
   "execution_count": 47,
   "metadata": {},
   "outputs": [
    {
     "data": {
      "text/plain": [
       "81186"
      ]
     },
     "execution_count": 47,
     "metadata": {},
     "output_type": "execute_result"
    }
   ],
   "source": [
    "len(raw_data.loc[raw_data[\"DATA\"].str.contains(\"Summary of Call:\")])"
   ]
  },
  {
   "cell_type": "code",
   "execution_count": 57,
   "metadata": {},
   "outputs": [
    {
     "data": {
      "text/plain": [
       "34342"
      ]
     },
     "execution_count": 57,
     "metadata": {},
     "output_type": "execute_result"
    }
   ],
   "source": [
    "len(raw_data.loc[raw_data[\"DATA\"].str.contains(\"Follow-up for Phone Call\")])"
   ]
  },
  {
   "cell_type": "code",
   "execution_count": 55,
   "metadata": {},
   "outputs": [
    {
     "data": {
      "text/plain": [
       "34286"
      ]
     },
     "execution_count": 55,
     "metadata": {},
     "output_type": "execute_result"
    }
   ],
   "source": [
    "len(raw_data.loc[raw_data[\"DATA\"].str.contains(\"MD Followup Details:\")])"
   ]
  },
  {
   "cell_type": "code",
   "execution_count": 52,
   "metadata": {},
   "outputs": [
    {
     "data": {
      "text/plain": [
       "1098"
      ]
     },
     "execution_count": 52,
     "metadata": {},
     "output_type": "execute_result"
    }
   ],
   "source": [
    "len(raw_data.loc[raw_data[\"DATA\"].str.contains(\"Call from Pharmacy\")])"
   ]
  },
  {
   "cell_type": "code",
   "execution_count": null,
   "metadata": {},
   "outputs": [],
   "source": []
  },
  {
   "cell_type": "code",
   "execution_count": 99,
   "metadata": {},
   "outputs": [
    {
     "ename": "SyntaxError",
     "evalue": "unexpected EOF while parsing (<ipython-input-99-c0756a3450fa>, line 2)",
     "output_type": "error",
     "traceback": [
      "\u001b[1;36m  File \u001b[1;32m\"<ipython-input-99-c0756a3450fa>\"\u001b[1;36m, line \u001b[1;32m2\u001b[0m\n\u001b[1;33m    \u001b[0m\n\u001b[1;37m    ^\u001b[0m\n\u001b[1;31mSyntaxError\u001b[0m\u001b[1;31m:\u001b[0m unexpected EOF while parsing\n"
     ]
    }
   ],
   "source": [
    "def sentence_extraction2(text):\n",
    "    text = rtf.striprtf(text)\n",
    "    n1=len(nltk.sent_tokenize(text))\n",
    "    if text.str.contains(\"Call from Pharmacy\"):\n",
    "         if len(nltk.sent_tokenize(line))>1:\n",
    "            sentence_1 =(''.join(nltk.sent_tokenize(line)[1:n1]))\n",
    "              n=len(nltk.sent_tokenize(line)[0].split(\"Call from Pharmacy\"))\n",
    "            sentence_2 =(''.join(nltk.sent_tokenize(line)[0].split(\"Call from Pharmacy\")[1:n]))\n",
    "        #print(\"sentence_1\\n\",sentence_1)\n",
    "        sentence_3=(''.join((sentence_2).split(\"Summary of Call:\")[0]))\n",
    "        sentence=sentence_1 + sentence_3\n",
    "        #print(\"sentence\\n\",sentence)   \n",
    "    else:\n",
    "        sentence = 0\n",
    "    \n",
    "    return sentence\n",
    "\n",
    "if [raw_data[\"DATA\"].str.contains(\"Call from Pharmacy\")]:\n",
    "    \n",
    "    "
   ]
  },
  {
   "cell_type": "code",
   "execution_count": 109,
   "metadata": {},
   "outputs": [
    {
     "data": {
      "text/plain": [
       "[0        False\n",
       " 1        False\n",
       " 2        False\n",
       " 3        False\n",
       " 4        False\n",
       " 5        False\n",
       " 6        False\n",
       " 7        False\n",
       " 8        False\n",
       " 9        False\n",
       " 10       False\n",
       " 11       False\n",
       " 12       False\n",
       " 13       False\n",
       " 14       False\n",
       " 15       False\n",
       " 16       False\n",
       " 17       False\n",
       " 18       False\n",
       " 19       False\n",
       " 20       False\n",
       " 21       False\n",
       " 22       False\n",
       " 23       False\n",
       " 24       False\n",
       " 25       False\n",
       " 26       False\n",
       " 27       False\n",
       " 28       False\n",
       " 29       False\n",
       "          ...  \n",
       " 86524    False\n",
       " 86525    False\n",
       " 86526    False\n",
       " 86527    False\n",
       " 86528    False\n",
       " 86529    False\n",
       " 86530    False\n",
       " 86531    False\n",
       " 86532    False\n",
       " 86533    False\n",
       " 86534    False\n",
       " 86535    False\n",
       " 86536    False\n",
       " 86537    False\n",
       " 86538    False\n",
       " 86539    False\n",
       " 86540    False\n",
       " 86541    False\n",
       " 86542    False\n",
       " 86543    False\n",
       " 86544     True\n",
       " 86545    False\n",
       " 86546    False\n",
       " 86547    False\n",
       " 86548    False\n",
       " 86549    False\n",
       " 86550    False\n",
       " 86551    False\n",
       " 86552    False\n",
       " 86553    False\n",
       " Name: DATA, Length: 86554, dtype: bool]"
      ]
     },
     "execution_count": 109,
     "metadata": {},
     "output_type": "execute_result"
    }
   ],
   "source": [
    "[raw_data[\"DATA\"].str.contains(\"Call from Pharmacy\")]"
   ]
  },
  {
   "cell_type": "code",
   "execution_count": 7,
   "metadata": {},
   "outputs": [],
   "source": [
    "from nltk.tokenize import sent_tokenize\n",
    "from nltk.tokenize import word_tokenize"
   ]
  },
  {
   "cell_type": "code",
   "execution_count": 86,
   "metadata": {},
   "outputs": [],
   "source": [
    "def sentence_extraction2(text):\n",
    "    line = rtf.striprtf(text)\n",
    "    #print(line)\n",
    "    n1=len(nltk.sent_tokenize(line))\n",
    "    if len(nltk.sent_tokenize(line))>1:\n",
    "        #print(n1)\n",
    "        sentence_2=(''.join(nltk.sent_tokenize(line)[1:n1]))\n",
    "        #print(\"sentence_2\\n\",sentence_2)\n",
    "        n=len(nltk.sent_tokenize(line)[0].split(\"Summary of Call:\"))\n",
    "        #print(n)\n",
    "        sentence_1 =(''.join(nltk.sent_tokenize(line)[0].split(\"Summary of Call:\")[1:n]))\n",
    "        #print(\"sentence_1\\n\",sentence_1)\n",
    "        sentence_3=(''.join((sentence_2).split(\"Summary of Call:\")[0]))\n",
    "        sentence=sentence_1 + sentence_3\n",
    "        #print(\"sentence\\n\",sentence)   \n",
    "    else:\n",
    "        sentence =0\n",
    "    \n",
    "    return sentence"
   ]
  },
  {
   "cell_type": "code",
   "execution_count": 12,
   "metadata": {},
   "outputs": [],
   "source": [
    "def clean_str1(string):\n",
    "    string = re.sub(r\"[^A-Za-z0-9(),!?\\'\\`]\", \" \", string)\n",
    "    string = re.sub(r\"\\'s\", \" \\'s\", string)\n",
    "    string = re.sub(r\"\\'ve\", \" \\'ve\", string)\n",
    "    string = re.sub(r\"n\\'t\", \" n\\'t\", string)\n",
    "    string = re.sub(r\"\\'re\", \" \\'re\", string)\n",
    "    string = re.sub(r\"\\'d\", \" \\'d\", string)\n",
    "    string = re.sub(r\"\\'ll\", \" \\'ll\", string)\n",
    "    string = re.sub(r\",\", \" , \", string)\n",
    "    string = re.sub(r\"!\", \" ! \", string)\n",
    "    string = re.sub(r\"\\(\", \" \\( \", string)\n",
    "    string = re.sub(r\"\\)\", \" \\) \", string)\n",
    "    string = re.sub(r\"\\?\", \" \\? \", string)\n",
    "    string = re.sub(r\"\\s{2,}\", \" \", string)\n",
    "    review_text = string.strip()\n",
    "    letters_only = re.sub(\"[^a-zA-Z]\", \" \", review_text)\n",
    "    return letters_only"
   ]
  },
  {
   "cell_type": "code",
   "execution_count": 13,
   "metadata": {},
   "outputs": [],
   "source": [
    "def clean_str2(string):\n",
    "    string = re.sub(r\"[^A-Za-z0-9(),!?\\'\\`]\", \" \", string)\n",
    "    string = re.sub(r\"\\'s\", \" \\'s\", string)\n",
    "    string = re.sub(r\"\\'ve\", \" \\'ve\", string)\n",
    "    string = re.sub(r\"n\\'t\", \" n\\'t\", string)\n",
    "    string = re.sub(r\"\\'re\", \" \\'re\", string)\n",
    "    string = re.sub(r\"\\'d\", \" \\'d\", string)\n",
    "    string = re.sub(r\"\\'ll\", \" \\'ll\", string)\n",
    "    string = re.sub(r\",\", \" , \", string)\n",
    "    string = re.sub(r\"!\", \" ! \", string)\n",
    "    string = re.sub(r\"\\(\", \" \\( \", string)\n",
    "    string = re.sub(r\"\\)\", \" \\) \", string)\n",
    "    string = re.sub(r\"\\?\", \" \\? \", string)\n",
    "    string = re.sub(r\"\\s{2,}\", \" \", string)\n",
    "    string = re.sub(r\"Phone Note \", \" \", string)\n",
    "    string = re.sub(r\"Summary of Call \", \" \", string)\n",
    "    string = re.sub(r\"New Medications\", \" \", string)\n",
    "    string = re.sub(r\"New Allergies \", \" \", string)\n",
    "    string = re.sub(r\"Call from Patient \", \" \", string)\n",
    "    string = re.sub(r\"Clinical Followup Details \", \" \", string)\n",
    "    string = re.sub(r\"Caller \", \" \", string)\n",
    "    string = re.sub(r\"Initial call taken by \", \" \", string)\n",
    "    string = re.sub(r\"Followup Details \", \" \", string)\n",
    "    string = re.sub(r\"Follow-up by \", \" \", string)\n",
    "    string = re.sub(r\"Call back at \", \" \", string)\n",
    "    string = re.sub(r\"Call from Other Clinic \", \" \", string)\n",
    "    string = re.sub(r\"Home Phone \", \" \", string)\n",
    "    string = re.sub(r\"Converted from flag \", \" \", string)\n",
    "    string = re.sub(r\"Call from Pharmacy \", \" \", string)\n",
    "    string = re.sub(r\"Prescriptions \", \" \", string)\n",
    "    string = re.sub(r\"Entered by \", \" \", string)\n",
    "    string = re.sub(r\"Authorized by \", \" \", string)\n",
    "    string = re.sub(r\"Electronically signed by\", \" \", string)\n",
    "    string = re.sub(r\"Method used \", \" \", string)\n",
    "    string = re.sub(r\"Ph \", \" \", string)\n",
    "    string = re.sub(r\"Fax \", \" \", string)\n",
    "    string = re.sub(r\"RxID \", \" \", string)\n",
    "    string = re.sub(r\"Work Phone \", \" \", string)\n",
    "    string = re.sub(r\"New Orders wrote\", \" \", string)\n",
    "    string = re.sub(r\"wrote\", \" \", string)\n",
    "    string = re.sub(r\"Action Taken \", \" \", string)\n",
    "    string = re.sub(r\"To Whom It May Concern \", \" \", string)\n",
    "    string = re.sub(r\"Follow up for Phone Call \", \" \", string)\n",
    "    string = re.sub(r\"Phone Call Completed \", \" \", string)\n",
    "    string = re.sub(r\"Follow up by \", \" \", string)\n",
    "    string = re.sub(r\"Other Incoming Call \",\" \", string)\n",
    "    review_text = string.strip()\n",
    "    letters_only = re.sub(\"[^a-zA-Z]\", \" \", review_text)\n",
    "    return letters_only"
   ]
  },
  {
   "cell_type": "markdown",
   "metadata": {},
   "source": [
    "# Sentence extraction process1 (removing meta data)"
   ]
  },
  {
   "cell_type": "code",
   "execution_count": 14,
   "metadata": {},
   "outputs": [
    {
     "name": "stdout",
     "output_type": "stream",
     "text": [
      "no.of rows reviews processed: 0\n",
      "no.of rows reviews processed: 10000\n",
      "no.of rows reviews processed: 20000\n",
      "no.of rows reviews processed: 30000\n",
      "no.of rows reviews processed: 40000\n",
      "no.of rows reviews processed: 50000\n",
      "no.of rows reviews processed: 60000\n",
      "no.of rows reviews processed: 70000\n",
      "no.of rows reviews processed: 80000\n",
      "Training took 48.220 seconds\n"
     ]
    }
   ],
   "source": [
    "import time\n",
    "start = time.time()\n",
    "extracted_sent1=[]\n",
    "for i in range (0,length_data):\n",
    "    if i%10000 == 0:\n",
    "        print (\"no.of rows reviews processed:\",i)\n",
    "    extracted_sent1.append(sentence_extraction1(raw_data.DATA[i]))\n",
    "print(\"Training took {:0.3f} seconds\".format(time.time()-start))"
   ]
  },
  {
   "cell_type": "code",
   "execution_count": 15,
   "metadata": {},
   "outputs": [
    {
     "name": "stdout",
     "output_type": "stream",
     "text": [
      "no.of rows reviews processed: 0\n",
      "Training took 1.905 seconds\n"
     ]
    }
   ],
   "source": [
    "import time\n",
    "start = time.time()\n",
    "test_extracted_sent1=[]\n",
    "for i in range (0,length_test_data):\n",
    "    if i%10000 == 0:\n",
    "        print (\"no.of rows reviews processed:\",i)\n",
    "    test_extracted_sent1.append(sentence_extraction1(test_data.DATA[i]))\n",
    "print(\"Training took {:0.3f} seconds\".format(time.time()-start))"
   ]
  },
  {
   "cell_type": "code",
   "execution_count": 16,
   "metadata": {},
   "outputs": [],
   "source": [
    "#loading above lists of arrays into data frame \n",
    "raw_data[\"extracted_sent1\"]=pd.DataFrame(extracted_sent1)\n",
    "test_data[\"extracted_sent1\"]=pd.DataFrame(test_extracted_sent1)"
   ]
  },
  {
   "cell_type": "code",
   "execution_count": 170,
   "metadata": {},
   "outputs": [],
   "source": [
    "#print(raw_data[\"cleaned_process1\"][0])\n",
    "#print(test_data[\"cleaned_process1\"][0])"
   ]
  },
  {
   "cell_type": "markdown",
   "metadata": {},
   "source": [
    "# Sentence extraction process2(extracting only senetence from summary call and if not taking remaing sentences) "
   ]
  },
  {
   "cell_type": "code",
   "execution_count": 21,
   "metadata": {},
   "outputs": [
    {
     "name": "stdout",
     "output_type": "stream",
     "text": [
      "no.of rows reviews processed: 0\n",
      "no.of rows reviews processed: 10000\n",
      "no.of rows reviews processed: 20000\n",
      "no.of rows reviews processed: 30000\n",
      "no.of rows reviews processed: 40000\n",
      "no.of rows reviews processed: 50000\n",
      "no.of rows reviews processed: 60000\n",
      "no.of rows reviews processed: 70000\n",
      "no.of rows reviews processed: 80000\n"
     ]
    }
   ],
   "source": [
    "extracted_sent2=[]\n",
    "for i in range (0,length_data):\n",
    "    if i%10000 == 0:\n",
    "        print (\"no.of rows reviews processed:\",i)\n",
    "    extracted_sent2.append(sentence_extraction2(raw_data.DATA[i]))"
   ]
  },
  {
   "cell_type": "code",
   "execution_count": 22,
   "metadata": {},
   "outputs": [
    {
     "name": "stdout",
     "output_type": "stream",
     "text": [
      "no.of rows reviews processed: 0\n"
     ]
    }
   ],
   "source": [
    "test_extracted_sent2=[]\n",
    "for i in range (0,length_test_data):\n",
    "    if i%1000 == 0:\n",
    "        print (\"no.of rows reviews processed:\",i)\n",
    "    test_extracted_sent2.append(sentence_extraction2(test_data.DATA[i]))"
   ]
  },
  {
   "cell_type": "code",
   "execution_count": 23,
   "metadata": {},
   "outputs": [],
   "source": [
    "#loading above lists of arrays into data frame \n",
    "raw_data[\"extracted_sent2\"]=pd.DataFrame(extracted_sent2)\n",
    "test_data[\"extracted_sent2\"]=pd.DataFrame(test_extracted_sent2)"
   ]
  },
  {
   "cell_type": "markdown",
   "metadata": {},
   "source": [
    "# Cleaning process"
   ]
  },
  {
   "cell_type": "code",
   "execution_count": 24,
   "metadata": {},
   "outputs": [
    {
     "name": "stdout",
     "output_type": "stream",
     "text": [
      "no.of rows reviews processed: 0\n",
      "no.of rows reviews processed: 10000\n",
      "no.of rows reviews processed: 20000\n",
      "no.of rows reviews processed: 30000\n",
      "no.of rows reviews processed: 40000\n",
      "no.of rows reviews processed: 50000\n",
      "no.of rows reviews processed: 60000\n",
      "no.of rows reviews processed: 70000\n",
      "no.of rows reviews processed: 80000\n"
     ]
    }
   ],
   "source": [
    "cleaned_process1=[]\n",
    "for i in range (0,length_data):\n",
    "    if i%10000 == 0:\n",
    "        print (\"no.of rows reviews processed:\",i)\n",
    "    cleaned_process1.append(clean_str1(raw_data.extracted_sent1[i])) "
   ]
  },
  {
   "cell_type": "code",
   "execution_count": 26,
   "metadata": {},
   "outputs": [
    {
     "name": "stdout",
     "output_type": "stream",
     "text": [
      "no.of rows reviews processed: 0\n",
      "no.of rows reviews processed: 1000\n",
      "no.of rows reviews processed: 2000\n",
      "no.of rows reviews processed: 3000\n"
     ]
    }
   ],
   "source": [
    "test_cleaned_process1=[]\n",
    "for i in range (0,length_test_data):\n",
    "    if i%1000 == 0:\n",
    "        print (\"no.of rows reviews processed:\",i)\n",
    "    test_cleaned_process1.append(clean_str1(test_data.extracted_sent1[i])) "
   ]
  },
  {
   "cell_type": "code",
   "execution_count": 27,
   "metadata": {},
   "outputs": [],
   "source": [
    "raw_data[\"cleaned_sent1\"]=pd.DataFrame(cleaned_process1)\n",
    "test_data[\"cleaned_sent1\"]=pd.DataFrame(test_cleaned_process1)"
   ]
  },
  {
   "cell_type": "code",
   "execution_count": null,
   "metadata": {},
   "outputs": [],
   "source": []
  },
  {
   "cell_type": "code",
   "execution_count": 28,
   "metadata": {},
   "outputs": [
    {
     "name": "stdout",
     "output_type": "stream",
     "text": [
      "no.of rows reviews processed: 0\n",
      "no.of rows reviews processed: 10000\n",
      "no.of rows reviews processed: 20000\n",
      "no.of rows reviews processed: 30000\n",
      "no.of rows reviews processed: 40000\n",
      "no.of rows reviews processed: 50000\n",
      "no.of rows reviews processed: 60000\n",
      "no.of rows reviews processed: 70000\n",
      "no.of rows reviews processed: 80000\n"
     ]
    }
   ],
   "source": [
    "cleaned_process2=[]\n",
    "for i in range (0,length_data):\n",
    "    if i%10000 == 0:\n",
    "        print (\"no.of rows reviews processed:\",i)\n",
    "    cleaned_process2.append(clean_str2(raw_data.extracted_sent1[i])) "
   ]
  },
  {
   "cell_type": "code",
   "execution_count": 29,
   "metadata": {},
   "outputs": [
    {
     "name": "stdout",
     "output_type": "stream",
     "text": [
      "no.of rows reviews processed: 0\n",
      "no.of rows reviews processed: 1000\n",
      "no.of rows reviews processed: 2000\n",
      "no.of rows reviews processed: 3000\n"
     ]
    }
   ],
   "source": [
    "test_cleaned_process2=[]\n",
    "for i in range (0,length_test_data):\n",
    "    if i%1000 == 0:\n",
    "        print (\"no.of rows reviews processed:\",i)\n",
    "    test_cleaned_process2.append(clean_str2(test_data.extracted_sent1[i])) "
   ]
  },
  {
   "cell_type": "code",
   "execution_count": 30,
   "metadata": {},
   "outputs": [],
   "source": [
    "raw_data[\"cleaned_sent2\"]=pd.DataFrame(cleaned_process2)\n",
    "test_data[\"cleaned_sent2\"]=pd.DataFrame(test_cleaned_process2)"
   ]
  },
  {
   "cell_type": "code",
   "execution_count": null,
   "metadata": {},
   "outputs": [],
   "source": []
  },
  {
   "cell_type": "code",
   "execution_count": 31,
   "metadata": {},
   "outputs": [
    {
     "name": "stdout",
     "output_type": "stream",
     "text": [
      "no.of rows reviews processed: 0\n",
      "no.of rows reviews processed: 10000\n",
      "no.of rows reviews processed: 20000\n",
      "no.of rows reviews processed: 30000\n",
      "no.of rows reviews processed: 40000\n",
      "no.of rows reviews processed: 50000\n",
      "no.of rows reviews processed: 60000\n",
      "no.of rows reviews processed: 70000\n",
      "no.of rows reviews processed: 80000\n"
     ]
    }
   ],
   "source": [
    "cleaned_process3=[]\n",
    "for i in range (0,length_data):\n",
    "    if i%10000 == 0:\n",
    "        print (\"no.of rows reviews processed:\",i)\n",
    "    cleaned_process3.append(clean_str1(raw_data.extracted_sent2[i])) "
   ]
  },
  {
   "cell_type": "code",
   "execution_count": 32,
   "metadata": {},
   "outputs": [
    {
     "name": "stdout",
     "output_type": "stream",
     "text": [
      "no.of rows reviews processed: 0\n",
      "no.of rows reviews processed: 1000\n",
      "no.of rows reviews processed: 2000\n",
      "no.of rows reviews processed: 3000\n"
     ]
    }
   ],
   "source": [
    "test_cleaned_process3=[]\n",
    "for i in range (0,length_test_data):\n",
    "    if i%1000 == 0:\n",
    "        print (\"no.of rows reviews processed:\",i)\n",
    "    test_cleaned_process3.append(clean_str1(test_data.extracted_sent2[i])) "
   ]
  },
  {
   "cell_type": "code",
   "execution_count": 33,
   "metadata": {},
   "outputs": [],
   "source": [
    "raw_data[\"cleaned_sent3\"]=pd.DataFrame(cleaned_process3)\n",
    "test_data[\"cleaned_sent3\"]=pd.DataFrame(test_cleaned_process3)"
   ]
  },
  {
   "cell_type": "code",
   "execution_count": null,
   "metadata": {},
   "outputs": [],
   "source": []
  },
  {
   "cell_type": "code",
   "execution_count": 34,
   "metadata": {},
   "outputs": [
    {
     "name": "stdout",
     "output_type": "stream",
     "text": [
      "no.of rows reviews processed: 0\n",
      "no.of rows reviews processed: 10000\n",
      "no.of rows reviews processed: 20000\n",
      "no.of rows reviews processed: 30000\n",
      "no.of rows reviews processed: 40000\n",
      "no.of rows reviews processed: 50000\n",
      "no.of rows reviews processed: 60000\n",
      "no.of rows reviews processed: 70000\n",
      "no.of rows reviews processed: 80000\n"
     ]
    }
   ],
   "source": [
    "summary_process1=[]\n",
    "for i in range (0,length_data):\n",
    "    if i%10000 == 0:\n",
    "        print (\"no.of rows reviews processed:\",i)\n",
    "    summary_process1.append(clean_str1(raw_data.SUMMARY[i])) "
   ]
  },
  {
   "cell_type": "code",
   "execution_count": 35,
   "metadata": {},
   "outputs": [
    {
     "name": "stdout",
     "output_type": "stream",
     "text": [
      "no.of rows reviews processed: 0\n"
     ]
    }
   ],
   "source": [
    "test_summary_process1=[]\n",
    "for i in range (0,length_test_data):\n",
    "    if i%10000 == 0:\n",
    "        print (\"no.of rows reviews processed:\",i)\n",
    "    test_summary_process1.append(clean_str1(test_data.SUMMARY[i])) "
   ]
  },
  {
   "cell_type": "code",
   "execution_count": 36,
   "metadata": {},
   "outputs": [],
   "source": [
    "raw_data[\"cleaned_summary1\"]=pd.DataFrame(summary_process1)\n",
    "test_data[\"cleaned_summary1\"]=pd.DataFrame(test_summary_process1)"
   ]
  },
  {
   "cell_type": "code",
   "execution_count": null,
   "metadata": {},
   "outputs": [],
   "source": []
  },
  {
   "cell_type": "code",
   "execution_count": 37,
   "metadata": {},
   "outputs": [
    {
     "data": {
      "text/html": [
       "<div>\n",
       "<style scoped>\n",
       "    .dataframe tbody tr th:only-of-type {\n",
       "        vertical-align: middle;\n",
       "    }\n",
       "\n",
       "    .dataframe tbody tr th {\n",
       "        vertical-align: top;\n",
       "    }\n",
       "\n",
       "    .dataframe thead th {\n",
       "        text-align: right;\n",
       "    }\n",
       "</style>\n",
       "<table border=\"1\" class=\"dataframe\">\n",
       "  <thead>\n",
       "    <tr style=\"text-align: right;\">\n",
       "      <th></th>\n",
       "      <th>FileID</th>\n",
       "      <th>clientid</th>\n",
       "      <th>PID</th>\n",
       "      <th>SUMMARY</th>\n",
       "      <th>DATA</th>\n",
       "      <th>Categories1</th>\n",
       "      <th>Sub_categories1</th>\n",
       "      <th>Categories2</th>\n",
       "      <th>Sub_categories2</th>\n",
       "      <th>Categories3</th>\n",
       "      <th>...</th>\n",
       "      <th>Sub_categories4</th>\n",
       "      <th>Categories5</th>\n",
       "      <th>Sub_categories5</th>\n",
       "      <th>Previous_Appointment</th>\n",
       "      <th>extracted_sent1</th>\n",
       "      <th>extracted_sent2</th>\n",
       "      <th>cleaned_sent1</th>\n",
       "      <th>cleaned_sent2</th>\n",
       "      <th>cleaned_sent3</th>\n",
       "      <th>cleaned_summary1</th>\n",
       "    </tr>\n",
       "  </thead>\n",
       "  <tbody>\n",
       "    <tr>\n",
       "      <th>0</th>\n",
       "      <td>92824</td>\n",
       "      <td>1004</td>\n",
       "      <td>1.750262e+15</td>\n",
       "      <td>nan</td>\n",
       "      <td>{\\rtf1\\ansi\\ftnbj{\\fonttbl{\\f0 \\fswiss Arial;}...</td>\n",
       "      <td>ASK_A_DOCTOR</td>\n",
       "      <td>MEDICATION RELATED</td>\n",
       "      <td>NaN</td>\n",
       "      <td>NaN</td>\n",
       "      <td>NaN</td>\n",
       "      <td>...</td>\n",
       "      <td>NaN</td>\n",
       "      <td>NaN</td>\n",
       "      <td>NaN</td>\n",
       "      <td>No</td>\n",
       "      <td>Phone Note \\nCall from Patient\\nSummary of Cal...</td>\n",
       "      <td>Some better c cough and congestion - However ...</td>\n",
       "      <td>Phone Note Call from Patient Summary of Call S...</td>\n",
       "      <td>Some better c cough and congestion However sti...</td>\n",
       "      <td>Some better c cough and congestion However sti...</td>\n",
       "      <td>nan</td>\n",
       "    </tr>\n",
       "    <tr>\n",
       "      <th>1</th>\n",
       "      <td>92825</td>\n",
       "      <td>1004</td>\n",
       "      <td>1.583836e+15</td>\n",
       "      <td>recurrent chest wall pain pneumonia symptoms</td>\n",
       "      <td>{\\rtf1\\ansi\\ftnbj{\\fonttbl{\\f0 \\fswiss Arial;}...</td>\n",
       "      <td>ASK_A_DOCTOR</td>\n",
       "      <td>SYMPTOMS</td>\n",
       "      <td>NaN</td>\n",
       "      <td>NaN</td>\n",
       "      <td>NaN</td>\n",
       "      <td>...</td>\n",
       "      <td>NaN</td>\n",
       "      <td>NaN</td>\n",
       "      <td>NaN</td>\n",
       "      <td>No</td>\n",
       "      <td>Phone Note \\nCall from Patient\\nInitial call t...</td>\n",
       "      <td>Phone Note \\nCall from Patient\\nInitial call t...</td>\n",
       "      <td>Phone Note Call from Patient Initial call take...</td>\n",
       "      <td>Ravisankar R Avva MD   January               P...</td>\n",
       "      <td>Phone Note Call from Patient Initial call take...</td>\n",
       "      <td>recurrent chest wall pain pneumonia symptoms</td>\n",
       "    </tr>\n",
       "    <tr>\n",
       "      <th>2</th>\n",
       "      <td>92826</td>\n",
       "      <td>1004</td>\n",
       "      <td>1.583837e+15</td>\n",
       "      <td>nan</td>\n",
       "      <td>{\\rtf1\\ansi\\ftnbj{\\fonttbl{\\f0 \\fswiss Arial;}...</td>\n",
       "      <td>ASK_A_DOCTOR</td>\n",
       "      <td>MEDICATION RELATED</td>\n",
       "      <td>NaN</td>\n",
       "      <td>NaN</td>\n",
       "      <td>NaN</td>\n",
       "      <td>...</td>\n",
       "      <td>NaN</td>\n",
       "      <td>NaN</td>\n",
       "      <td>NaN</td>\n",
       "      <td>No</td>\n",
       "      <td>Phone Note \\nCall from Patient\\nInitial call t...</td>\n",
       "      <td>called today c ST/cough, congestion, Head con...</td>\n",
       "      <td>Phone Note Call from Patient Initial call take...</td>\n",
       "      <td>John M Russo MD   January               PM  ca...</td>\n",
       "      <td>called today c ST cough   congestion   Head co...</td>\n",
       "      <td>nan</td>\n",
       "    </tr>\n",
       "    <tr>\n",
       "      <th>3</th>\n",
       "      <td>92827</td>\n",
       "      <td>1004</td>\n",
       "      <td>1.583837e+15</td>\n",
       "      <td>nan</td>\n",
       "      <td>{\\rtf1\\ansi\\ftnbj{\\fonttbl{\\f0 \\fswiss Arial;}...</td>\n",
       "      <td>PRESCRIPTION</td>\n",
       "      <td>REFILL</td>\n",
       "      <td>NaN</td>\n",
       "      <td>NaN</td>\n",
       "      <td>NaN</td>\n",
       "      <td>...</td>\n",
       "      <td>NaN</td>\n",
       "      <td>NaN</td>\n",
       "      <td>NaN</td>\n",
       "      <td>No</td>\n",
       "      <td>Phone Note \\nCall from Patient\\nSummary of Cal...</td>\n",
       "      <td>Needs something stronger for cough than OTCs....</td>\n",
       "      <td>Phone Note Call from Patient Summary of Call N...</td>\n",
       "      <td>Needs something stronger for cough than OTCs T...</td>\n",
       "      <td>Needs something stronger for cough than OTCs T...</td>\n",
       "      <td>nan</td>\n",
       "    </tr>\n",
       "    <tr>\n",
       "      <th>4</th>\n",
       "      <td>92828</td>\n",
       "      <td>1004</td>\n",
       "      <td>1.583837e+15</td>\n",
       "      <td>nan</td>\n",
       "      <td>{\\rtf1\\ansi\\ftnbj{\\fonttbl{\\f0 \\fswiss Arial;}...</td>\n",
       "      <td>PRESCRIPTION</td>\n",
       "      <td>REFILL</td>\n",
       "      <td>NaN</td>\n",
       "      <td>NaN</td>\n",
       "      <td>NaN</td>\n",
       "      <td>...</td>\n",
       "      <td>NaN</td>\n",
       "      <td>NaN</td>\n",
       "      <td>NaN</td>\n",
       "      <td>No</td>\n",
       "      <td>Phone Note \\nCall from Patient\\nInitial call t...</td>\n",
       "      <td>She called to get refill on Rx Moxiflox 400 m...</td>\n",
       "      <td>Phone Note Call from Patient Initial call take...</td>\n",
       "      <td>John M Russo MD   January               PM  Sh...</td>\n",
       "      <td>She called to get refill on Rx Moxiflox     mg...</td>\n",
       "      <td>nan</td>\n",
       "    </tr>\n",
       "  </tbody>\n",
       "</table>\n",
       "<p>5 rows × 22 columns</p>\n",
       "</div>"
      ],
      "text/plain": [
       "   FileID  clientid           PID  \\\n",
       "0   92824      1004  1.750262e+15   \n",
       "1   92825      1004  1.583836e+15   \n",
       "2   92826      1004  1.583837e+15   \n",
       "3   92827      1004  1.583837e+15   \n",
       "4   92828      1004  1.583837e+15   \n",
       "\n",
       "                                        SUMMARY  \\\n",
       "0                                           nan   \n",
       "1  recurrent chest wall pain pneumonia symptoms   \n",
       "2                                           nan   \n",
       "3                                           nan   \n",
       "4                                           nan   \n",
       "\n",
       "                                                DATA   Categories1  \\\n",
       "0  {\\rtf1\\ansi\\ftnbj{\\fonttbl{\\f0 \\fswiss Arial;}...  ASK_A_DOCTOR   \n",
       "1  {\\rtf1\\ansi\\ftnbj{\\fonttbl{\\f0 \\fswiss Arial;}...  ASK_A_DOCTOR   \n",
       "2  {\\rtf1\\ansi\\ftnbj{\\fonttbl{\\f0 \\fswiss Arial;}...  ASK_A_DOCTOR   \n",
       "3  {\\rtf1\\ansi\\ftnbj{\\fonttbl{\\f0 \\fswiss Arial;}...  PRESCRIPTION   \n",
       "4  {\\rtf1\\ansi\\ftnbj{\\fonttbl{\\f0 \\fswiss Arial;}...  PRESCRIPTION   \n",
       "\n",
       "      Sub_categories1 Categories2  Sub_categories2  Categories3  \\\n",
       "0  MEDICATION RELATED         NaN              NaN          NaN   \n",
       "1            SYMPTOMS         NaN              NaN          NaN   \n",
       "2  MEDICATION RELATED         NaN              NaN          NaN   \n",
       "3              REFILL         NaN              NaN          NaN   \n",
       "4              REFILL         NaN              NaN          NaN   \n",
       "\n",
       "                       ...                       Sub_categories4  Categories5  \\\n",
       "0                      ...                                   NaN          NaN   \n",
       "1                      ...                                   NaN          NaN   \n",
       "2                      ...                                   NaN          NaN   \n",
       "3                      ...                                   NaN          NaN   \n",
       "4                      ...                                   NaN          NaN   \n",
       "\n",
       "   Sub_categories5  Previous_Appointment  \\\n",
       "0              NaN                    No   \n",
       "1              NaN                    No   \n",
       "2              NaN                    No   \n",
       "3              NaN                    No   \n",
       "4              NaN                    No   \n",
       "\n",
       "                                     extracted_sent1  \\\n",
       "0  Phone Note \\nCall from Patient\\nSummary of Cal...   \n",
       "1  Phone Note \\nCall from Patient\\nInitial call t...   \n",
       "2  Phone Note \\nCall from Patient\\nInitial call t...   \n",
       "3  Phone Note \\nCall from Patient\\nSummary of Cal...   \n",
       "4  Phone Note \\nCall from Patient\\nInitial call t...   \n",
       "\n",
       "                                     extracted_sent2  \\\n",
       "0   Some better c cough and congestion - However ...   \n",
       "1  Phone Note \\nCall from Patient\\nInitial call t...   \n",
       "2   called today c ST/cough, congestion, Head con...   \n",
       "3   Needs something stronger for cough than OTCs....   \n",
       "4   She called to get refill on Rx Moxiflox 400 m...   \n",
       "\n",
       "                                       cleaned_sent1  \\\n",
       "0  Phone Note Call from Patient Summary of Call S...   \n",
       "1  Phone Note Call from Patient Initial call take...   \n",
       "2  Phone Note Call from Patient Initial call take...   \n",
       "3  Phone Note Call from Patient Summary of Call N...   \n",
       "4  Phone Note Call from Patient Initial call take...   \n",
       "\n",
       "                                       cleaned_sent2  \\\n",
       "0  Some better c cough and congestion However sti...   \n",
       "1  Ravisankar R Avva MD   January               P...   \n",
       "2  John M Russo MD   January               PM  ca...   \n",
       "3  Needs something stronger for cough than OTCs T...   \n",
       "4  John M Russo MD   January               PM  Sh...   \n",
       "\n",
       "                                       cleaned_sent3  \\\n",
       "0  Some better c cough and congestion However sti...   \n",
       "1  Phone Note Call from Patient Initial call take...   \n",
       "2  called today c ST cough   congestion   Head co...   \n",
       "3  Needs something stronger for cough than OTCs T...   \n",
       "4  She called to get refill on Rx Moxiflox     mg...   \n",
       "\n",
       "                               cleaned_summary1  \n",
       "0                                           nan  \n",
       "1  recurrent chest wall pain pneumonia symptoms  \n",
       "2                                           nan  \n",
       "3                                           nan  \n",
       "4                                           nan  \n",
       "\n",
       "[5 rows x 22 columns]"
      ]
     },
     "execution_count": 37,
     "metadata": {},
     "output_type": "execute_result"
    }
   ],
   "source": [
    "raw_data.head()"
   ]
  },
  {
   "cell_type": "code",
   "execution_count": 38,
   "metadata": {},
   "outputs": [
    {
     "data": {
      "text/html": [
       "<div>\n",
       "<style scoped>\n",
       "    .dataframe tbody tr th:only-of-type {\n",
       "        vertical-align: middle;\n",
       "    }\n",
       "\n",
       "    .dataframe tbody tr th {\n",
       "        vertical-align: top;\n",
       "    }\n",
       "\n",
       "    .dataframe thead th {\n",
       "        text-align: right;\n",
       "    }\n",
       "</style>\n",
       "<table border=\"1\" class=\"dataframe\">\n",
       "  <thead>\n",
       "    <tr style=\"text-align: right;\">\n",
       "      <th></th>\n",
       "      <th>FileID</th>\n",
       "      <th>clientid</th>\n",
       "      <th>PID</th>\n",
       "      <th>SUMMARY</th>\n",
       "      <th>DATA</th>\n",
       "      <th>Categories1</th>\n",
       "      <th>Sub_categories1</th>\n",
       "      <th>Categories2</th>\n",
       "      <th>Sub_categories2</th>\n",
       "      <th>Categories3</th>\n",
       "      <th>...</th>\n",
       "      <th>Sub_categories4</th>\n",
       "      <th>Categories5</th>\n",
       "      <th>Sub_categories5</th>\n",
       "      <th>Previous_Appointment</th>\n",
       "      <th>extracted_sent1</th>\n",
       "      <th>extracted_sent2</th>\n",
       "      <th>cleaned_sent1</th>\n",
       "      <th>cleaned_sent2</th>\n",
       "      <th>cleaned_sent3</th>\n",
       "      <th>cleaned_summary1</th>\n",
       "    </tr>\n",
       "  </thead>\n",
       "  <tbody>\n",
       "    <tr>\n",
       "      <th>0</th>\n",
       "      <td>193040</td>\n",
       "      <td>1004</td>\n",
       "      <td>1583836030550010</td>\n",
       "      <td>Back pain</td>\n",
       "      <td>{\\rtf1\\ansi\\ftnbj{\\fonttbl{\\f0 \\fswiss Arial;}...</td>\n",
       "      <td>ASK_A_DOCTOR</td>\n",
       "      <td>SYMPTOMS</td>\n",
       "      <td>NaN</td>\n",
       "      <td>NaN</td>\n",
       "      <td>NaN</td>\n",
       "      <td>...</td>\n",
       "      <td>NaN</td>\n",
       "      <td>NaN</td>\n",
       "      <td>NaN</td>\n",
       "      <td>No</td>\n",
       "      <td>Phone Note \\nCall from Patient\\nCall back at 2...</td>\n",
       "      <td>Severe back pain.Tylenol Arthritis not helpin...</td>\n",
       "      <td>Phone Note Call from Patient Call back at     ...</td>\n",
       "      <td>Susie daughter  Erica Weaver   MA   ...</td>\n",
       "      <td>Severe back pain Tylenol Arthritis not helping...</td>\n",
       "      <td>Back pain</td>\n",
       "    </tr>\n",
       "    <tr>\n",
       "      <th>1</th>\n",
       "      <td>193041</td>\n",
       "      <td>1004</td>\n",
       "      <td>1583836519050010</td>\n",
       "      <td>******APPT NEEDED</td>\n",
       "      <td>{\\rtf1\\ansi\\ftnbj{\\fonttbl{\\f0 \\fswiss Arial;}...</td>\n",
       "      <td>ASK_A_DOCTOR</td>\n",
       "      <td>SYMPTOMS</td>\n",
       "      <td>NaN</td>\n",
       "      <td>NaN</td>\n",
       "      <td>NaN</td>\n",
       "      <td>...</td>\n",
       "      <td>NaN</td>\n",
       "      <td>NaN</td>\n",
       "      <td>NaN</td>\n",
       "      <td>No</td>\n",
       "      <td>Phone Note \\nCall from Patient\\nCall back at H...</td>\n",
       "      <td>Right leg and knee swelling, turning purple.P...</td>\n",
       "      <td>Phone Note Call from Patient Call back at Home...</td>\n",
       "      <td>Erica Weaver   MA   RT   A...</td>\n",
       "      <td>Right leg and knee swelling   turning purple P...</td>\n",
       "      <td>APPT NEEDED</td>\n",
       "    </tr>\n",
       "    <tr>\n",
       "      <th>2</th>\n",
       "      <td>193042</td>\n",
       "      <td>1004</td>\n",
       "      <td>1792575538807730</td>\n",
       "      <td>******Appt needed Tues/Wed or Fri AM with NP  ...</td>\n",
       "      <td>{\\rtf1\\ansi\\ftnbj{\\fonttbl{\\f0 \\fswiss Arial;}...</td>\n",
       "      <td>APPOINTMENTS</td>\n",
       "      <td>NEW APPOINTMENT</td>\n",
       "      <td>NaN</td>\n",
       "      <td>NaN</td>\n",
       "      <td>NaN</td>\n",
       "      <td>...</td>\n",
       "      <td>NaN</td>\n",
       "      <td>NaN</td>\n",
       "      <td>NaN</td>\n",
       "      <td>No</td>\n",
       "      <td>Phone Note \\nCall from Patient\\nInitial call t...</td>\n",
       "      <td>I hsve been having stomach pain.I have had th...</td>\n",
       "      <td>Phone Note Call from Patient Initial call take...</td>\n",
       "      <td>Donna D Jones RN   April               AM  I h...</td>\n",
       "      <td>I hsve been having stomach pain I have had thi...</td>\n",
       "      <td>Appt needed Tues Wed or Fri AM with NP LMTRC x</td>\n",
       "    </tr>\n",
       "    <tr>\n",
       "      <th>3</th>\n",
       "      <td>193043</td>\n",
       "      <td>1004</td>\n",
       "      <td>1583835999550010</td>\n",
       "      <td>Discuss s/e on Aricept</td>\n",
       "      <td>{\\rtf1\\ansi\\ftnbj{\\fonttbl{\\f0 \\fswiss Arial;}...</td>\n",
       "      <td>ASK_A_DOCTOR</td>\n",
       "      <td>MEDICATION RELATED</td>\n",
       "      <td>NaN</td>\n",
       "      <td>NaN</td>\n",
       "      <td>NaN</td>\n",
       "      <td>...</td>\n",
       "      <td>NaN</td>\n",
       "      <td>NaN</td>\n",
       "      <td>NaN</td>\n",
       "      <td>No</td>\n",
       "      <td>Phone Note \\nCall from Patient\\nInitial call t...</td>\n",
       "      <td>Wants appt with Dr A.Considerable problems wi...</td>\n",
       "      <td>Phone Note Call from Patient Initial call take...</td>\n",
       "      <td>Erica Weaver   MA   RT   April               A...</td>\n",
       "      <td>Wants appt with Dr A Considerable problems wit...</td>\n",
       "      <td>Discuss s e on Aricept</td>\n",
       "    </tr>\n",
       "    <tr>\n",
       "      <th>4</th>\n",
       "      <td>193044</td>\n",
       "      <td>1004</td>\n",
       "      <td>1583836826150010</td>\n",
       "      <td>blood pressure problems but doesn't want to co...</td>\n",
       "      <td>{\\rtf1\\ansi\\ftnbj{\\fonttbl{\\f0 \\fswiss Arial;}...</td>\n",
       "      <td>APPOINTMENTS</td>\n",
       "      <td>NEW APPOINTMENT</td>\n",
       "      <td>NaN</td>\n",
       "      <td>NaN</td>\n",
       "      <td>NaN</td>\n",
       "      <td>...</td>\n",
       "      <td>NaN</td>\n",
       "      <td>NaN</td>\n",
       "      <td>NaN</td>\n",
       "      <td>No</td>\n",
       "      <td>Phone Note \\nCall from Patient\\nCall back at 2...</td>\n",
       "      <td>He had a bad weekend with blood pressure issu...</td>\n",
       "      <td>Phone Note Call from Patient Call back at     ...</td>\n",
       "      <td>Wife  Donna D Jones RN   April      ...</td>\n",
       "      <td>He had a bad weekend with blood pressure issue...</td>\n",
       "      <td>blood pressure problems but does n t want to c...</td>\n",
       "    </tr>\n",
       "  </tbody>\n",
       "</table>\n",
       "<p>5 rows × 22 columns</p>\n",
       "</div>"
      ],
      "text/plain": [
       "   FileID  clientid               PID  \\\n",
       "0  193040      1004  1583836030550010   \n",
       "1  193041      1004  1583836519050010   \n",
       "2  193042      1004  1792575538807730   \n",
       "3  193043      1004  1583835999550010   \n",
       "4  193044      1004  1583836826150010   \n",
       "\n",
       "                                             SUMMARY  \\\n",
       "0                                        Back pain     \n",
       "1                                  ******APPT NEEDED   \n",
       "2  ******Appt needed Tues/Wed or Fri AM with NP  ...   \n",
       "3                             Discuss s/e on Aricept   \n",
       "4  blood pressure problems but doesn't want to co...   \n",
       "\n",
       "                                                DATA   Categories1  \\\n",
       "0  {\\rtf1\\ansi\\ftnbj{\\fonttbl{\\f0 \\fswiss Arial;}...  ASK_A_DOCTOR   \n",
       "1  {\\rtf1\\ansi\\ftnbj{\\fonttbl{\\f0 \\fswiss Arial;}...  ASK_A_DOCTOR   \n",
       "2  {\\rtf1\\ansi\\ftnbj{\\fonttbl{\\f0 \\fswiss Arial;}...  APPOINTMENTS   \n",
       "3  {\\rtf1\\ansi\\ftnbj{\\fonttbl{\\f0 \\fswiss Arial;}...  ASK_A_DOCTOR   \n",
       "4  {\\rtf1\\ansi\\ftnbj{\\fonttbl{\\f0 \\fswiss Arial;}...  APPOINTMENTS   \n",
       "\n",
       "      Sub_categories1  Categories2  Sub_categories2  Categories3  \\\n",
       "0            SYMPTOMS          NaN              NaN          NaN   \n",
       "1            SYMPTOMS          NaN              NaN          NaN   \n",
       "2     NEW APPOINTMENT          NaN              NaN          NaN   \n",
       "3  MEDICATION RELATED          NaN              NaN          NaN   \n",
       "4     NEW APPOINTMENT          NaN              NaN          NaN   \n",
       "\n",
       "                         ...                          Sub_categories4  \\\n",
       "0                        ...                                      NaN   \n",
       "1                        ...                                      NaN   \n",
       "2                        ...                                      NaN   \n",
       "3                        ...                                      NaN   \n",
       "4                        ...                                      NaN   \n",
       "\n",
       "   Categories5  Sub_categories5  Previous_Appointment  \\\n",
       "0          NaN              NaN                    No   \n",
       "1          NaN              NaN                    No   \n",
       "2          NaN              NaN                    No   \n",
       "3          NaN              NaN                    No   \n",
       "4          NaN              NaN                    No   \n",
       "\n",
       "                                     extracted_sent1  \\\n",
       "0  Phone Note \\nCall from Patient\\nCall back at 2...   \n",
       "1  Phone Note \\nCall from Patient\\nCall back at H...   \n",
       "2  Phone Note \\nCall from Patient\\nInitial call t...   \n",
       "3  Phone Note \\nCall from Patient\\nInitial call t...   \n",
       "4  Phone Note \\nCall from Patient\\nCall back at 2...   \n",
       "\n",
       "                                     extracted_sent2  \\\n",
       "0   Severe back pain.Tylenol Arthritis not helpin...   \n",
       "1   Right leg and knee swelling, turning purple.P...   \n",
       "2   I hsve been having stomach pain.I have had th...   \n",
       "3   Wants appt with Dr A.Considerable problems wi...   \n",
       "4   He had a bad weekend with blood pressure issu...   \n",
       "\n",
       "                                       cleaned_sent1  \\\n",
       "0  Phone Note Call from Patient Call back at     ...   \n",
       "1  Phone Note Call from Patient Call back at Home...   \n",
       "2  Phone Note Call from Patient Initial call take...   \n",
       "3  Phone Note Call from Patient Initial call take...   \n",
       "4  Phone Note Call from Patient Call back at     ...   \n",
       "\n",
       "                                       cleaned_sent2  \\\n",
       "0            Susie daughter  Erica Weaver   MA   ...   \n",
       "1                      Erica Weaver   MA   RT   A...   \n",
       "2  Donna D Jones RN   April               AM  I h...   \n",
       "3  Erica Weaver   MA   RT   April               A...   \n",
       "4            Wife  Donna D Jones RN   April      ...   \n",
       "\n",
       "                                       cleaned_sent3  \\\n",
       "0  Severe back pain Tylenol Arthritis not helping...   \n",
       "1  Right leg and knee swelling   turning purple P...   \n",
       "2  I hsve been having stomach pain I have had thi...   \n",
       "3  Wants appt with Dr A Considerable problems wit...   \n",
       "4  He had a bad weekend with blood pressure issue...   \n",
       "\n",
       "                                    cleaned_summary1  \n",
       "0                                          Back pain  \n",
       "1                                        APPT NEEDED  \n",
       "2    Appt needed Tues Wed or Fri AM with NP LMTRC x   \n",
       "3                             Discuss s e on Aricept  \n",
       "4  blood pressure problems but does n t want to c...  \n",
       "\n",
       "[5 rows x 22 columns]"
      ]
     },
     "execution_count": 38,
     "metadata": {},
     "output_type": "execute_result"
    }
   ],
   "source": [
    "test_data.head()"
   ]
  },
  {
   "cell_type": "code",
   "execution_count": null,
   "metadata": {},
   "outputs": [],
   "source": []
  },
  {
   "cell_type": "code",
   "execution_count": 30,
   "metadata": {},
   "outputs": [
    {
     "name": "stdout",
     "output_type": "stream",
     "text": [
      "\n",
      " Phone Note \n",
      "Call from Patient\n",
      "Call back at 340-6864\n",
      "Initial call taken by: Melissa Dykes CMA,  April  5, 2016 10:31 AM\n",
      "Reason Details: Target @ Highwoods\n",
      "Summary of Call: I did a lot of walking this weekend in DC.  I'm having a lot of burning in my foot.  I'd like to try a Rx for Lyrica\n",
      "\n",
      "New Medications:\n",
      "LYRICA 50 MG ORAL CAPS (PREGABALIN) 1 po qhs\n",
      "New Medications:\n",
      "LYRICA 50 MG ORAL CAPS (PREGABALIN) 1 po qhs\n",
      "\n",
      "Follow-up for Phone Call \n",
      "MD Followup Details: Sxs sound Neuropathic so OK for Lyrica 50 mg PO HS.\n",
      "#30\n",
      "0 ref\n",
      " \n",
      "Follow-up by: John M Russo MD,  April  5, 2016 1:31 PM\n",
      "Action Taken: Called Patient/Notified Patient, Rx Called In\n",
      "Follow-up by: Melissa Dykes CMA,  April  5, 2016 1:49 PM\n",
      "\n",
      "New Medications:\n",
      "LYRICA 50 MG ORAL CAPS (PREGABALIN) 1 po qhs\n",
      "\n",
      " \n",
      "\n",
      "\n",
      "['Phone Note \\nCall from Patient\\nCall back at 340-6864\\nInitial call taken by: Melissa Dykes CMA,  April  5, 2016 10:31 AM\\nReason Details: Target @ Highwoods\\nSummary of Call: I did a lot of walking this weekend in DC.', \"I'm having a lot of burning in my foot.\", \"I'd like to try a Rx for Lyrica\\n\\nNew Medications:\\nLYRICA 50 MG ORAL CAPS (PREGABALIN) 1 po qhs\\nNew Medications:\\nLYRICA 50 MG ORAL CAPS (PREGABALIN) 1 po qhs\\n\\nFollow-up for Phone Call \\nMD Followup Details: Sxs sound Neuropathic so OK for Lyrica 50 mg PO HS.\", '#30\\n0 ref\\n \\nFollow-up by: John M Russo MD,  April  5, 2016 1:31 PM\\nAction Taken: Called Patient/Notified Patient, Rx Called In\\nFollow-up by: Melissa Dykes CMA,  April  5, 2016 1:49 PM\\n\\nNew Medications:\\nLYRICA 50 MG ORAL CAPS (PREGABALIN) 1 po qhs']\n",
      "\n",
      " 4\n",
      "sentence2\n",
      " I'm having a lot of burning in my foot.I'd like to try a Rx for Lyrica\n",
      "\n",
      "New Medications:\n",
      "LYRICA 50 MG ORAL CAPS (PREGABALIN) 1 po qhs\n",
      "New Medications:\n",
      "LYRICA 50 MG ORAL CAPS (PREGABALIN) 1 po qhs\n",
      "\n",
      "Follow-up for Phone Call \n",
      "MD Followup Details: Sxs sound Neuropathic so OK for Lyrica 50 mg PO HS.#30\n",
      "0 ref\n",
      " \n",
      "Follow-up by: John M Russo MD,  April  5, 2016 1:31 PM\n",
      "Action Taken: Called Patient/Notified Patient, Rx Called In\n",
      "Follow-up by: Melissa Dykes CMA,  April  5, 2016 1:49 PM\n",
      "\n",
      "New Medications:\n",
      "LYRICA 50 MG ORAL CAPS (PREGABALIN) 1 po qhs\n",
      "sentence_1\n",
      "  I did a lot of walking this weekend in DC.\n",
      "sentence_3\n",
      " I'm having a lot of burning in my foot.I'd like to try a Rx for Lyrica\n",
      "\n",
      "New Medications\n",
      "\n",
      " final sentence:  I did a lot of walking this weekend in DC.I'm having a lot of burning in my foot.I'd like to try a Rx for Lyrica\n",
      "\n",
      "New Medications\n"
     ]
    }
   ],
   "source": [
    "\n",
    "line = rtf.striprtf(raw_data.DATA[10000])\n",
    "\n",
    "a = print(\"\\n\",line)\n",
    "\n",
    "print(nltk.sent_tokenize(line))\n",
    "\n",
    "\n",
    "n1=len(nltk.sent_tokenize(line))\n",
    "print(\"\\n\",n1)\n",
    "\n",
    "n=len(nltk.sent_tokenize(line)[0].split(\"Summary of Call:\"))\n",
    "\n",
    "sentence_1 =(''.join(nltk.sent_tokenize(line)[0].split(\"Summary of Call:\")[1:n]))\n",
    "\n",
    "sentence_2=(''.join(nltk.sent_tokenize(line)[1:n1]))\n",
    "\n",
    "print(\"sentence2\\n\",sentence_2)\n",
    "\n",
    "print(\"sentence_1\\n\", sentence_1)\n",
    "\n",
    "sentence_3=(''.join((sentence_2).split(\":\")[0]))\n",
    "print(\"sentence_3\\n\",sentence_3)\n",
    "\n",
    "\n",
    "print(\"\\n final sentence:\",sentence_1 + sentence_3)"
   ]
  },
  {
   "cell_type": "code",
   "execution_count": 39,
   "metadata": {},
   "outputs": [],
   "source": [
    "raw_data.to_csv(\"Gul_clean_sentences.csv\",index=False)\n",
    "test_data.to_csv(\"Gul_april_clean_sentences.csv\",index=False)"
   ]
  },
  {
   "cell_type": "code",
   "execution_count": null,
   "metadata": {},
   "outputs": [],
   "source": []
  }
 ],
 "metadata": {
  "kernelspec": {
   "display_name": "Python 3",
   "language": "python",
   "name": "python3"
  },
  "language_info": {
   "codemirror_mode": {
    "name": "ipython",
    "version": 3
   },
   "file_extension": ".py",
   "mimetype": "text/x-python",
   "name": "python",
   "nbconvert_exporter": "python",
   "pygments_lexer": "ipython3",
   "version": "3.6.4"
  }
 },
 "nbformat": 4,
 "nbformat_minor": 2
}
