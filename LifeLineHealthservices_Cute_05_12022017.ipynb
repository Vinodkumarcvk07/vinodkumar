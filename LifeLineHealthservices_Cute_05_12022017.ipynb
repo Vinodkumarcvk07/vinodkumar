{
 "cells": [
  {
   "cell_type": "code",
   "execution_count": 1,
   "metadata": {},
   "outputs": [
    {
     "name": "stderr",
     "output_type": "stream",
     "text": [
      "Using TensorFlow backend.\n"
     ]
    }
   ],
   "source": [
    "\n",
    "import pandas as pd\n",
    "import numpy as np\n",
    "from keras.layers import Dense, LSTM, SimpleRNN, Embedding\n",
    "from keras.models import Sequential\n",
    "from keras.utils.np_utils import to_categorical\n",
    "from __future__ import print_function\n",
    "from keras.preprocessing import sequence\n",
    "from keras.models import Sequential\n",
    "from keras.preprocessing.text import Tokenizer\n",
    "from keras.preprocessing.sequence import pad_sequences\n"
   ]
  },
  {
   "cell_type": "code",
   "execution_count": 2,
   "metadata": {},
   "outputs": [
    {
     "name": "stdout",
     "output_type": "stream",
     "text": [
      "D:\\DATA SCIENCE\\CUTE_05\n"
     ]
    }
   ],
   "source": [
    "import nltk\n",
    "import os\n",
    "os.chdir(\"D:/DATA SCIENCE/CUTE_05\")\n",
    "print(os.getcwd())"
   ]
  },
  {
   "cell_type": "code",
   "execution_count": 4,
   "metadata": {
    "collapsed": true
   },
   "outputs": [],
   "source": [
    "raw_train_data = pd.read_csv('train.csv', encoding='latin-1')\n",
    "raw_test_data = pd.read_csv('test.csv', encoding='latin-1')"
   ]
  },
  {
   "cell_type": "code",
   "execution_count": 5,
   "metadata": {},
   "outputs": [
    {
     "name": "stdout",
     "output_type": "stream",
     "text": [
      "(48699, 2)\n"
     ]
    }
   ],
   "source": [
    "print(raw_train_data.shape)"
   ]
  },
  {
   "cell_type": "code",
   "execution_count": 6,
   "metadata": {},
   "outputs": [
    {
     "data": {
      "text/plain": [
       "(8581, 1)"
      ]
     },
     "execution_count": 6,
     "metadata": {},
     "output_type": "execute_result"
    }
   ],
   "source": [
    "raw_test_data.shape"
   ]
  },
  {
   "cell_type": "code",
   "execution_count": 7,
   "metadata": {},
   "outputs": [
    {
     "name": "stdout",
     "output_type": "stream",
     "text": [
      "Index(['categories', 'converse'], dtype='object')\n"
     ]
    }
   ],
   "source": [
    "print(raw_train_data.columns)"
   ]
  },
  {
   "cell_type": "code",
   "execution_count": 8,
   "metadata": {},
   "outputs": [
    {
     "name": "stdout",
     "output_type": "stream",
     "text": [
      "Index(['converse'], dtype='object')\n"
     ]
    }
   ],
   "source": [
    "print(raw_test_data.columns)"
   ]
  },
  {
   "cell_type": "code",
   "execution_count": 9,
   "metadata": {},
   "outputs": [
    {
     "data": {
      "text/plain": [
       "0        please to verify instructions for drugname pat...\n",
       "1        lmovm for patients mother to and schd rov trac...\n",
       "2        labtype and insurance approval other incoming ...\n",
       "3        clinical list changes medfusion secure electro...\n",
       "4        wants to wean off medication work phone name d...\n",
       "5        patient declining following up name patient ap...\n",
       "6        patients clld to speak with the rn about injec...\n",
       "7        need signature athena lab form patient appoint...\n",
       "8        increase in has and neck pain given to patient...\n",
       "9        Rx refill drugname xr name grandparent for pre...\n",
       "10       order for cognitive testing sent to wake medic...\n",
       "11       drugname xr not covered methylphenidate Rx pre...\n",
       "12       medfusion secure electronic message subject ra...\n",
       "13       checking on form that was faxed for patients t...\n",
       "14       with mom jcg pm jacqueline gower pm rachel ric...\n",
       "15       scheduled appointments next appointment am new...\n",
       "16       waiting back md switch phone patient other pat...\n",
       "17       medfusion secure electronic message subject re...\n",
       "18       md patients having difficulty sleeping triage ...\n",
       "19       labtype result ed on for sz dose change labtyp...\n",
       "20       add on am established patientp raleigh doctype...\n",
       "21       mom for status of Rx for fioricet walgreens pl...\n",
       "22       please with lab results labtype results bloodw...\n",
       "23       labtype and after injection appointment am sar...\n",
       "24       pain going down left leg both feet feel like t...\n",
       "25       hipaa breach other patients prescription on wa...\n",
       "26       pm tpi rna deese anp stacy pm tpi rna deese an...\n",
       "27       drayer patients for referral order from other ...\n",
       "28       dilaudidopana rxs fill at rna patient prescrip...\n",
       "29       can patients have perm patient other patients ...\n",
       "                               ...                        \n",
       "48669    labtype w contrast advise on order patient oth...\n",
       "48670    triage poss medicines side effect xsent messag...\n",
       "48671    speech eval or swallow test please advise orde...\n",
       "48672    np ped appointment appointments next appointme...\n",
       "48673    adderall refill patients name mom prescription...\n",
       "48674    please sign off from pharmacy name walgreens l...\n",
       "48675    am brittany estep rn lov ov cancelled per pati...\n",
       "48676    patients clld to request work in apptand that ...\n",
       "48677    patient will so spg with wgf and keep appointm...\n",
       "48678    patients accredo it will be to days before pat...\n",
       "48679    need to reschedule mslt added pm a md psgmslt ...\n",
       "48680    re Rx aricept to express scripts patient presc...\n",
       "48681    returned nurse made name mom for nurse appoint...\n",
       "48682    from other clinic name for doctor reason for c...\n",
       "48683    buncreatinine orders needed from other clinic ...\n",
       "48684    drugname Rx built prescription refill drugname...\n",
       "48685                         hfu patients id with stacy c\n",
       "48686    refill drugname pick fill rna mp name patient ...\n",
       "48687    mom reporting patients is acting uncontrollabl...\n",
       "48688    rc to have note sent via email name mom for sc...\n",
       "48689    pain in head request rov refused ed page patie...\n",
       "48690    please mom to schedule patients work phone nam...\n",
       "48691    southern farm bureau about records request cou...\n",
       "48692    am tracy dominguez please document in order wh...\n",
       "48693    left msg for patients where he wants patients ...\n",
       "48694    fyi name spouse other spouse to ask what infom...\n",
       "48695    strattera name patient prescription refill str...\n",
       "48696    Rx request aricept mg rxrf medfusion secure el...\n",
       "48697    patients wants to know if she can be worked in...\n",
       "48698    sudden aphasia and trouble walking significant...\n",
       "Name: converse, Length: 48699, dtype: object"
      ]
     },
     "execution_count": 9,
     "metadata": {},
     "output_type": "execute_result"
    }
   ],
   "source": [
    "raw_train_data.converse"
   ]
  },
  {
   "cell_type": "code",
   "execution_count": null,
   "metadata": {
    "collapsed": true
   },
   "outputs": [],
   "source": []
  },
  {
   "cell_type": "code",
   "execution_count": 10,
   "metadata": {},
   "outputs": [
    {
     "data": {
      "text/plain": [
       "0       request to speak with rn no given patients ref...\n",
       "1       patients husband ret name spouse for other pat...\n",
       "2       fyi in his szs mom other he has an appointment...\n",
       "3       Rx refill drugname from pharmacy name reason f...\n",
       "4       need more time for testing dad is requesting a...\n",
       "5       wants to know if medicines will interact with ...\n",
       "6       discuss drugname with provider from other clin...\n",
       "7       dtr requests mri neuro and hospital rov name d...\n",
       "8       botox reschedule am mary jo whaley sw patient ...\n",
       "9       concussion law in nc name mom other patients m...\n",
       "10                    np appointment wbowman recds in npf\n",
       "11      work in appointment request patient appointmen...\n",
       "12      rna follow recd from patients asking for lab r...\n",
       "13      requesting labtype results patient labtype res...\n",
       "14      mom other patients mother returned your she ca...\n",
       "15      Rx refill duragesic printedplaced in smf inbox...\n",
       "16      patients wants increase and refill on drugname...\n",
       "17      need new ot order dated timephrase from other ...\n",
       "18      labtype results patient labtype results mrirad...\n",
       "19      patients having episode start keppra name daug...\n",
       "20      migraine over weekend took dhe vomited times n...\n",
       "21      patients request to sw rn patient other patien...\n",
       "22      rov patient prescription other prescription co...\n",
       "23      talk with provider name dad for doctor other h...\n",
       "24      letter sent through the portal clinical list c...\n",
       "25      order cpap pm gina mauldin prior authorization...\n",
       "26      Rx refill ritalin x patient prescription refil...\n",
       "27      patients mom would like form filled out name m...\n",
       "28      updated auth in chart pm tammy byrd ralrad ced...\n",
       "29      patients about the tpm Rx patient prescription...\n",
       "                              ...                        \n",
       "8551    patients clld to request a copy of her labtype...\n",
       "8552    lvmtcb to rs new pati appointment with tracey ...\n",
       "8553    please review dtr requests brain labtype resul...\n",
       "8554    rov holly pm patient for scheduler appointment...\n",
       "8555    am gina mauldin prior authorization just put h...\n",
       "8556    lvmtcb to confirm appointment clinical list ch...\n",
       "8557    per johnny he will get auth for this visit am ...\n",
       "8558    kellee currie pm denise jones pm karen riley n...\n",
       "8559    duke eye center future appointments update am ...\n",
       "8560    mom wants to schedule patients who hit her hea...\n",
       "8561    drugname refill request prescription refill dr...\n",
       "8562    appointment patient appointments patients is t...\n",
       "8563    labtype scheduling mom labtype results labtype...\n",
       "8564    pm rov durham office lay iii fnp bc harry appo...\n",
       "8565    rov scheduled patient appointments patients wa...\n",
       "8566    patients clld to speak with the rn about upcom...\n",
       "8567    am belinda steinmetz pm lynda hall pm lynda ha...\n",
       "8568                    iov timephrase pm doctor sheaffer\n",
       "8569    prinited out medicines records they are in frt...\n",
       "8570    seizure description name patient for nurse tri...\n",
       "8571    prior authorization approval clinical list cha...\n",
       "8572    wakemed for ultrasound order from other clinic...\n",
       "8573    sign off patient prescription refill drugname ...\n",
       "8574    am renee smith yes ill do that md phd i cant g...\n",
       "8575    w a stat report for labtype brain report will ...\n",
       "8576    duopa qs next rov please earlier if needed pat...\n",
       "8577    patient will have mom cb to schedule rov jcg m...\n",
       "8578    ha injection rathke patients patient patients ...\n",
       "8579    faxed to wmc neurosych faxed demographics insu...\n",
       "8580    patient appointment name mom for need other pa...\n",
       "Name: converse, Length: 8581, dtype: object"
      ]
     },
     "execution_count": 10,
     "metadata": {},
     "output_type": "execute_result"
    }
   ],
   "source": [
    "raw_test_data.converse"
   ]
  },
  {
   "cell_type": "code",
   "execution_count": 11,
   "metadata": {},
   "outputs": [
    {
     "data": {
      "text/plain": [
       "0       request to speak with rn no given patients ref...\n",
       "1       patients husband ret name spouse for other pat...\n",
       "2       fyi in his szs mom other he has an appointment...\n",
       "3       Rx refill drugname from pharmacy name reason f...\n",
       "4       need more time for testing dad is requesting a...\n",
       "5       wants to know if medicines will interact with ...\n",
       "6       discuss drugname with provider from other clin...\n",
       "7       dtr requests mri neuro and hospital rov name d...\n",
       "8       botox reschedule am mary jo whaley sw patient ...\n",
       "9       concussion law in nc name mom other patients m...\n",
       "10                    np appointment wbowman recds in npf\n",
       "11      work in appointment request patient appointmen...\n",
       "12      rna follow recd from patients asking for lab r...\n",
       "13      requesting labtype results patient labtype res...\n",
       "14      mom other patients mother returned your she ca...\n",
       "15      Rx refill duragesic printedplaced in smf inbox...\n",
       "16      patients wants increase and refill on drugname...\n",
       "17      need new ot order dated timephrase from other ...\n",
       "18      labtype results patient labtype results mrirad...\n",
       "19      patients having episode start keppra name daug...\n",
       "20      migraine over weekend took dhe vomited times n...\n",
       "21      patients request to sw rn patient other patien...\n",
       "22      rov patient prescription other prescription co...\n",
       "23      talk with provider name dad for doctor other h...\n",
       "24      letter sent through the portal clinical list c...\n",
       "25      order cpap pm gina mauldin prior authorization...\n",
       "26      Rx refill ritalin x patient prescription refil...\n",
       "27      patients mom would like form filled out name m...\n",
       "28      updated auth in chart pm tammy byrd ralrad ced...\n",
       "29      patients about the tpm Rx patient prescription...\n",
       "                              ...                        \n",
       "8551    patients clld to request a copy of her labtype...\n",
       "8552    lvmtcb to rs new pati appointment with tracey ...\n",
       "8553    please review dtr requests brain labtype resul...\n",
       "8554    rov holly pm patient for scheduler appointment...\n",
       "8555    am gina mauldin prior authorization just put h...\n",
       "8556    lvmtcb to confirm appointment clinical list ch...\n",
       "8557    per johnny he will get auth for this visit am ...\n",
       "8558    kellee currie pm denise jones pm karen riley n...\n",
       "8559    duke eye center future appointments update am ...\n",
       "8560    mom wants to schedule patients who hit her hea...\n",
       "8561    drugname refill request prescription refill dr...\n",
       "8562    appointment patient appointments patients is t...\n",
       "8563    labtype scheduling mom labtype results labtype...\n",
       "8564    pm rov durham office lay iii fnp bc harry appo...\n",
       "8565    rov scheduled patient appointments patients wa...\n",
       "8566    patients clld to speak with the rn about upcom...\n",
       "8567    am belinda steinmetz pm lynda hall pm lynda ha...\n",
       "8568                    iov timephrase pm doctor sheaffer\n",
       "8569    prinited out medicines records they are in frt...\n",
       "8570    seizure description name patient for nurse tri...\n",
       "8571    prior authorization approval clinical list cha...\n",
       "8572    wakemed for ultrasound order from other clinic...\n",
       "8573    sign off patient prescription refill drugname ...\n",
       "8574    am renee smith yes ill do that md phd i cant g...\n",
       "8575    w a stat report for labtype brain report will ...\n",
       "8576    duopa qs next rov please earlier if needed pat...\n",
       "8577    patient will have mom cb to schedule rov jcg m...\n",
       "8578    ha injection rathke patients patient patients ...\n",
       "8579    faxed to wmc neurosych faxed demographics insu...\n",
       "8580    patient appointment name mom for need other pa...\n",
       "Name: converse, Length: 8581, dtype: object"
      ]
     },
     "execution_count": 11,
     "metadata": {},
     "output_type": "execute_result"
    }
   ],
   "source": [
    "raw_test_data.converse"
   ]
  },
  {
   "cell_type": "raw",
   "metadata": {
    "collapsed": true
   },
   "source": []
  },
  {
   "cell_type": "code",
   "execution_count": 12,
   "metadata": {},
   "outputs": [
    {
     "name": "stdout",
     "output_type": "stream",
     "text": [
      "44\n"
     ]
    }
   ],
   "source": [
    "char_to_idx = {ch: i for (i, ch) in enumerate(sorted(list(str(raw_train_data.converse))))}\n",
    "\n",
    "print(len(char_to_idx))"
   ]
  },
  {
   "cell_type": "code",
   "execution_count": 13,
   "metadata": {
    "collapsed": true
   },
   "outputs": [],
   "source": [
    "raw_train_data.converse=raw_train_data.converse.astype(\"str\")\n",
    "raw_test_data.converse=raw_test_data.converse.astype(\"str\")\n"
   ]
  },
  {
   "cell_type": "code",
   "execution_count": 14,
   "metadata": {
    "collapsed": true
   },
   "outputs": [],
   "source": [
    "tokenizer = Tokenizer(num_words=10000)\n",
    "tokenizer.fit_on_texts(raw_train_data.converse)\n",
    "\n",
    "train_x = tokenizer.texts_to_sequences(raw_train_data.converse)\n",
    "train_x = pad_sequences(train_x, maxlen=50)\n",
    "\n",
    "unique_labels = list(raw_train_data.categories.unique())\n",
    "train_y = np.array([unique_labels.index(i) for i in raw_train_data.categories])\n",
    "train_y = to_categorical(train_y)\n"
   ]
  },
  {
   "cell_type": "code",
   "execution_count": 15,
   "metadata": {
    "collapsed": true
   },
   "outputs": [],
   "source": [
    "#print(train_x.shape, test_x.shape)\n"
   ]
  },
  {
   "cell_type": "code",
   "execution_count": 16,
   "metadata": {},
   "outputs": [
    {
     "data": {
      "text/plain": [
       "array([[ 1.,  0.,  0., ...,  0.,  0.,  0.],\n",
       "       [ 0.,  1.,  0., ...,  0.,  0.,  0.],\n",
       "       [ 0.,  0.,  1., ...,  0.,  0.,  0.],\n",
       "       ..., \n",
       "       [ 0.,  0.,  0., ...,  0.,  0.,  0.],\n",
       "       [ 0.,  1.,  0., ...,  0.,  0.,  0.],\n",
       "       [ 0.,  0.,  0., ...,  0.,  0.,  0.]])"
      ]
     },
     "execution_count": 16,
     "metadata": {},
     "output_type": "execute_result"
    }
   ],
   "source": [
    "train_y"
   ]
  },
  {
   "cell_type": "code",
   "execution_count": 17,
   "metadata": {
    "collapsed": true
   },
   "outputs": [],
   "source": [
    "tokenizer.fit_on_texts(raw_test_data.converse)\n",
    "test_x = tokenizer.texts_to_sequences(raw_test_data.converse)\n",
    "test_x = pad_sequences(test_x, maxlen=50)"
   ]
  },
  {
   "cell_type": "code",
   "execution_count": 18,
   "metadata": {},
   "outputs": [
    {
     "data": {
      "text/plain": [
       "array([   0,    0,    0,    0,    0,    0,    0,    0,    0,    0,    0,\n",
       "          0,    0,    0,    0,   20,    1,  797,  127,    5,   15,    2,\n",
       "       1966,   39,   56, 1162,  138,    5,  131,  102,   20,    1,  797,\n",
       "        127,    5,   15,    2,   36,   43, 2901,   73,   21,    9, 1939,\n",
       "         21,   16,   56,  148,  427,   14])"
      ]
     },
     "execution_count": 18,
     "metadata": {},
     "output_type": "execute_result"
    }
   ],
   "source": [
    "train_x[0]"
   ]
  },
  {
   "cell_type": "code",
   "execution_count": 19,
   "metadata": {
    "collapsed": true
   },
   "outputs": [],
   "source": [
    "train_x=train_x.reshape(48699,50,1)"
   ]
  },
  {
   "cell_type": "code",
   "execution_count": 20,
   "metadata": {
    "collapsed": true
   },
   "outputs": [],
   "source": [
    "from keras.models import Sequential\n",
    "from keras.layers.recurrent import LSTM, SimpleRNN\n",
    "from keras.layers import Dense,Activation\n",
    "\n",
    "model = Sequential()\n",
    "model.add(LSTM(50, input_shape=(50, 1), return_sequences=False))\n",
    "model.add(Dense(21))\n",
    "model.add(Activation('softmax'))\n",
    "model.compile(loss='categorical_crossentropy',optimizer='adam',metrics=['accuracy'])"
   ]
  },
  {
   "cell_type": "code",
   "execution_count": 22,
   "metadata": {},
   "outputs": [
    {
     "data": {
      "text/plain": [
       "(48699, 50, 1)"
      ]
     },
     "execution_count": 22,
     "metadata": {},
     "output_type": "execute_result"
    }
   ],
   "source": [
    "train_x.shape"
   ]
  },
  {
   "cell_type": "code",
   "execution_count": null,
   "metadata": {},
   "outputs": [
    {
     "name": "stdout",
     "output_type": "stream",
     "text": [
      "Epoch 1/5\n",
      "21152/48699 [============>.................] - ETA: 69s - loss: 2.2480 - acc: 0.3282"
     ]
    }
   ],
   "source": [
    "model.fit(train_x,train_y,epochs=5,batch_size=32)"
   ]
  },
  {
   "cell_type": "code",
   "execution_count": null,
   "metadata": {
    "collapsed": true
   },
   "outputs": [],
   "source": [
    "test_x=test_x.reshape(8581,50,1)\n",
    "predict=model.predict_classes(test_x)"
   ]
  },
  {
   "cell_type": "code",
   "execution_count": null,
   "metadata": {
    "collapsed": true
   },
   "outputs": [],
   "source": [
    "predict"
   ]
  },
  {
   "cell_type": "code",
   "execution_count": null,
   "metadata": {
    "collapsed": true
   },
   "outputs": [],
   "source": [
    "a = [] \n",
    "for i in predict: \n",
    "    unique_lables[i]\n",
    "    a.append(unique_lables[i])\n",
    "    "
   ]
  },
  {
   "cell_type": "code",
   "execution_count": null,
   "metadata": {
    "collapsed": true
   },
   "outputs": [],
   "source": [
    "predictions = pd.DataFrame(a)"
   ]
  },
  {
   "cell_type": "code",
   "execution_count": null,
   "metadata": {
    "collapsed": true
   },
   "outputs": [],
   "source": [
    "pedictions.to_csv(\"predictions\")"
   ]
  },
  {
   "cell_type": "code",
   "execution_count": null,
   "metadata": {
    "collapsed": true
   },
   "outputs": [],
   "source": []
  },
  {
   "cell_type": "code",
   "execution_count": null,
   "metadata": {
    "collapsed": true
   },
   "outputs": [],
   "source": []
  }
 ],
 "metadata": {
  "kernelspec": {
   "display_name": "Python 3",
   "language": "python",
   "name": "python3"
  },
  "language_info": {
   "codemirror_mode": {
    "name": "ipython",
    "version": 3
   },
   "file_extension": ".py",
   "mimetype": "text/x-python",
   "name": "python",
   "nbconvert_exporter": "python",
   "pygments_lexer": "ipython3",
   "version": "3.6.2"
  }
 },
 "nbformat": 4,
 "nbformat_minor": 2
}
