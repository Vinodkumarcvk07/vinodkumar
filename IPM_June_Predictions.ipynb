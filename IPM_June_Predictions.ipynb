{
 "cells": [
  {
   "cell_type": "code",
   "execution_count": 1,
   "metadata": {},
   "outputs": [],
   "source": [
    "import time\n",
    "start = time.time()"
   ]
  },
  {
   "cell_type": "code",
   "execution_count": 2,
   "metadata": {},
   "outputs": [],
   "source": [
    "import os \n",
    "import nltk \n",
    "import re\n",
    "import numpy as np\n",
    "import pandas as pd\n",
    "from sklearn.feature_extraction.text import TfidfVectorizer\n",
    "from sklearn.model_selection import train_test_split\n",
    "from sklearn.feature_selection import SelectKBest, chi2\n",
    "from sklearn.metrics import accuracy_score,confusion_matrix,recall_score,precision_recall_curve,auc,roc_curve,roc_auc_score,classification_report\n",
    "from collections import Counter\n",
    "from sklearn.svm import SVC\n",
    "from sklearn.naive_bayes import BernoulliNB, MultinomialNB\n",
    "from nltk.corpus import stopwords \n",
    "os.chdir('E:/VINOD KUMAR/Project_IPM')\n",
    "from sklearn.svm import LinearSVC\n",
    "import warnings\n",
    "warnings.filterwarnings(\"ignore\")"
   ]
  },
  {
   "cell_type": "code",
   "execution_count": 3,
   "metadata": {},
   "outputs": [],
   "source": [
    "actual_data=pd.read_excel(\"Train_data_IPM Jan,2017-Mar,2018.xlsx\")\n",
    "#test_data=pd.read_csv(\"IPM To be processed May 2018.csv\")\n",
    "test_data=pd.read_excel(\"IPM June1-17, 2018.xlsx\")"
   ]
  },
  {
   "cell_type": "code",
   "execution_count": 4,
   "metadata": {},
   "outputs": [
    {
     "name": "stdout",
     "output_type": "stream",
     "text": [
      "<class 'pandas.core.frame.DataFrame'>\n",
      "RangeIndex: 109903 entries, 0 to 109902\n",
      "Data columns (total 7 columns):\n",
      "tran_id                 109903 non-null int64\n",
      "tran_date               109903 non-null object\n",
      "forwhom_id              109903 non-null int64\n",
      "schedule_note           109882 non-null object\n",
      "Categories1             109903 non-null object\n",
      "Sub_categories1         109903 non-null object\n",
      "Previous_Appointment    109903 non-null object\n",
      "dtypes: int64(2), object(5)\n",
      "memory usage: 5.9+ MB\n",
      "(109903, 7) None\n",
      "<class 'pandas.core.frame.DataFrame'>\n",
      "RangeIndex: 4882 entries, 0 to 4881\n",
      "Data columns (total 7 columns):\n",
      "tran_id                 4882 non-null int64\n",
      "tran_date               4882 non-null datetime64[ns]\n",
      "forwho_id               4882 non-null int64\n",
      "schedule_note           4877 non-null object\n",
      "Categories1             4882 non-null object\n",
      "Sub_categories1         4882 non-null object\n",
      "Previous_Appointment    4882 non-null object\n",
      "dtypes: datetime64[ns](1), int64(2), object(4)\n",
      "memory usage: 267.1+ KB\n",
      "(4882, 7) None\n"
     ]
    }
   ],
   "source": [
    "print(actual_data.shape,actual_data.info())\n",
    "print(test_data.shape,test_data.info())"
   ]
  },
  {
   "cell_type": "code",
   "execution_count": 5,
   "metadata": {},
   "outputs": [
    {
     "data": {
      "text/html": [
       "<div>\n",
       "<style scoped>\n",
       "    .dataframe tbody tr th:only-of-type {\n",
       "        vertical-align: middle;\n",
       "    }\n",
       "\n",
       "    .dataframe tbody tr th {\n",
       "        vertical-align: top;\n",
       "    }\n",
       "\n",
       "    .dataframe thead th {\n",
       "        text-align: right;\n",
       "    }\n",
       "</style>\n",
       "<table border=\"1\" class=\"dataframe\">\n",
       "  <thead>\n",
       "    <tr style=\"text-align: right;\">\n",
       "      <th></th>\n",
       "      <th>tran_id</th>\n",
       "      <th>tran_date</th>\n",
       "      <th>forwhom_id</th>\n",
       "      <th>schedule_note</th>\n",
       "      <th>Categories1</th>\n",
       "      <th>Sub_categories1</th>\n",
       "      <th>Previous_Appointment</th>\n",
       "    </tr>\n",
       "  </thead>\n",
       "  <tbody>\n",
       "    <tr>\n",
       "      <th>0</th>\n",
       "      <td>672852</td>\n",
       "      <td>2016-07-08</td>\n",
       "      <td>30570</td>\n",
       "      <td>conf nc</td>\n",
       "      <td>APPOINTMENTS</td>\n",
       "      <td>NEW APPOINTMENT</td>\n",
       "      <td>No</td>\n",
       "    </tr>\n",
       "    <tr>\n",
       "      <th>1</th>\n",
       "      <td>673452</td>\n",
       "      <td>2016-07-11</td>\n",
       "      <td>3603</td>\n",
       "      <td>lvm, NN</td>\n",
       "      <td>MISCELLANEOUS</td>\n",
       "      <td>OTHERS</td>\n",
       "      <td>No</td>\n",
       "    </tr>\n",
       "    <tr>\n",
       "      <th>2</th>\n",
       "      <td>673800</td>\n",
       "      <td>2016-07-12</td>\n",
       "      <td>22281</td>\n",
       "      <td>conf nc</td>\n",
       "      <td>APPOINTMENTS</td>\n",
       "      <td>NEW APPOINTMENT</td>\n",
       "      <td>No</td>\n",
       "    </tr>\n",
       "    <tr>\n",
       "      <th>3</th>\n",
       "      <td>674558</td>\n",
       "      <td>2016-07-13</td>\n",
       "      <td>24646</td>\n",
       "      <td>Records being sent to ANTIOCH</td>\n",
       "      <td>MISCELLANEOUS</td>\n",
       "      <td>SHARING OF HEALTH RECORDS (FAX, E-MAIL, ETC.)</td>\n",
       "      <td>No</td>\n",
       "    </tr>\n",
       "    <tr>\n",
       "      <th>4</th>\n",
       "      <td>676145</td>\n",
       "      <td>2016-07-18</td>\n",
       "      <td>22072</td>\n",
       "      <td>conf nc</td>\n",
       "      <td>APPOINTMENTS</td>\n",
       "      <td>NEW APPOINTMENT</td>\n",
       "      <td>No</td>\n",
       "    </tr>\n",
       "  </tbody>\n",
       "</table>\n",
       "</div>"
      ],
      "text/plain": [
       "   tran_id   tran_date  forwhom_id                   schedule_note  \\\n",
       "0   672852  2016-07-08       30570                        conf nc    \n",
       "1   673452  2016-07-11        3603                         lvm, NN   \n",
       "2   673800  2016-07-12       22281                        conf nc    \n",
       "3   674558  2016-07-13       24646  Records being sent to ANTIOCH    \n",
       "4   676145  2016-07-18       22072                        conf nc    \n",
       "\n",
       "     Categories1                                Sub_categories1  \\\n",
       "0   APPOINTMENTS                                NEW APPOINTMENT   \n",
       "1  MISCELLANEOUS                                         OTHERS   \n",
       "2   APPOINTMENTS                                NEW APPOINTMENT   \n",
       "3  MISCELLANEOUS  SHARING OF HEALTH RECORDS (FAX, E-MAIL, ETC.)   \n",
       "4   APPOINTMENTS                                NEW APPOINTMENT   \n",
       "\n",
       "  Previous_Appointment  \n",
       "0                   No  \n",
       "1                   No  \n",
       "2                   No  \n",
       "3                   No  \n",
       "4                   No  "
      ]
     },
     "execution_count": 5,
     "metadata": {},
     "output_type": "execute_result"
    }
   ],
   "source": [
    "actual_data.head()"
   ]
  },
  {
   "cell_type": "code",
   "execution_count": 6,
   "metadata": {},
   "outputs": [
    {
     "data": {
      "text/plain": [
       "Index(['tran_id', 'tran_date', 'forwhom_id', 'schedule_note', 'Categories1',\n",
       "       'Sub_categories1', 'Previous_Appointment'],\n",
       "      dtype='object')"
      ]
     },
     "execution_count": 6,
     "metadata": {},
     "output_type": "execute_result"
    }
   ],
   "source": [
    "actual_data.columns"
   ]
  },
  {
   "cell_type": "code",
   "execution_count": 7,
   "metadata": {},
   "outputs": [
    {
     "name": "stdout",
     "output_type": "stream",
     "text": [
      "MISCELLANEOUS    49989\n",
      "APPOINTMENTS     47506\n",
      "PRESCRIPTION      9625\n",
      "ASK_A_DOCTOR      2077\n",
      "LAB                706\n",
      "Name: Categories1, dtype: int64 AxesSubplot(0.125,0.11;0.775x0.77)\n"
     ]
    }
   ],
   "source": [
    "ax = actual_data.groupby(\"Categories1\").size().plot(kind=\"bar\", figsize=(8, 5))\n",
    "print(actual_data.Categories1.value_counts(),ax)"
   ]
  },
  {
   "cell_type": "code",
   "execution_count": 8,
   "metadata": {},
   "outputs": [
    {
     "name": "stdout",
     "output_type": "stream",
     "text": [
      "OTHERS                                           49322\n",
      "NEW APPOINTMENT                                  43591\n",
      "REFILL                                            8967\n",
      "RESCHEDULING                                      3210\n",
      "MEDICATION RELATED                                1696\n",
      "LAB RESULTS                                        644\n",
      "PRIOR AUTHORIZATION                                603\n",
      "SHARING OF HEALTH RECORDS (FAX, E-MAIL, ETC.)      550\n",
      "SYMPTOMS                                           381\n",
      "RUNNING LATE TO APPOINTMENT                        337\n",
      "QUERY ON CURRENT APPOINTMENT                       287\n",
      "CHANGE OF PROVIDER                                 115\n",
      "CANCELLATION                                        82\n",
      "SHARING OF LAB RECORDS (FAX, E-MAIL, ETC.)          61\n",
      "PROVIDER                                            53\n",
      "CHANGE OF HOSPITAL                                   2\n",
      "FOLLOW UP ON PREVIOUS REQUEST                        1\n",
      "QUERIES FROM PHARMACY                                1\n",
      "Name: Sub_categories1, dtype: int64 AxesSubplot(0.125,0.125;0.775x0.755)\n"
     ]
    },
    {
     "data": {
      "image/png": "[encoded data removed]",
      "text/plain": [
       "<matplotlib.figure.Figure at 0x20b5b996d30>"
      ]
     },
     "metadata": {},
     "output_type": "display_data"
    }
   ],
   "source": [
    "ax = actual_data.groupby(\"Sub_categories1\").size().plot(kind=\"bar\", figsize=(20,5))\n",
    "print(actual_data.Sub_categories1.value_counts(),ax)"
   ]
  },
  {
   "cell_type": "code",
   "execution_count": 9,
   "metadata": {},
   "outputs": [
    {
     "data": {
      "text/plain": [
       "18"
      ]
     },
     "execution_count": 9,
     "metadata": {},
     "output_type": "execute_result"
    }
   ],
   "source": [
    "len(actual_data.Sub_categories1.value_counts())"
   ]
  },
  {
   "cell_type": "code",
   "execution_count": 10,
   "metadata": {},
   "outputs": [
    {
     "data": {
      "text/plain": [
       "MISCELLANEOUS    2178\n",
       "APPOINTMENTS     2040\n",
       "PRESCRIPTION      573\n",
       "ASK_A_DOCTOR       65\n",
       "LAB                26\n",
       "Name: Categories1, dtype: int64"
      ]
     },
     "execution_count": 10,
     "metadata": {},
     "output_type": "execute_result"
    }
   ],
   "source": [
    "test_data.Categories1.value_counts()"
   ]
  },
  {
   "cell_type": "code",
   "execution_count": 11,
   "metadata": {},
   "outputs": [
    {
     "name": "stdout",
     "output_type": "stream",
     "text": [
      "MISCELLANEOUS    2178\n",
      "APPOINTMENTS     2040\n",
      "PRESCRIPTION      573\n",
      "ASK_A_DOCTOR       65\n",
      "LAB                26\n",
      "Name: Categories1, dtype: int64 AxesSubplot(0.125,0.125;0.775x0.755)\n"
     ]
    },
    {
     "data": {
      "image/png": "[encoded data removed]",
      "text/plain": [
       "<matplotlib.figure.Figure at 0x20b5b4c2160>"
      ]
     },
     "metadata": {},
     "output_type": "display_data"
    }
   ],
   "source": [
    "ax = test_data.groupby(\"Categories1\").size().plot(kind=\"bar\", figsize=(8, 5))\n",
    "print(test_data.Categories1.value_counts(),ax)"
   ]
  },
  {
   "cell_type": "code",
   "execution_count": 12,
   "metadata": {},
   "outputs": [
    {
     "name": "stdout",
     "output_type": "stream",
     "text": [
      "OTHERS                                           2109\n",
      "NEW APPOINTMENT                                  1949\n",
      "REFILL                                            545\n",
      "RESCHEDULING                                       80\n",
      "SHARING OF HEALTH RECORDS (FAX, E-MAIL, ETC.)      65\n",
      "SYMPTOMS                                           40\n",
      "PRIOR AUTHORIZATION                                25\n",
      "MEDICATION RELATED                                 25\n",
      "LAB RESULTS                                        25\n",
      "RUNNING LATE TO APPOINTMENT                         5\n",
      "QUERY ON CURRENT APPOINTMENT                        5\n",
      "PROVIDER                                            3\n",
      "CHANGE OF PROVIDER                                  3\n",
      "SHARING OF LAB RECORDS (FAX, E-MAIL, ETC.)          1\n",
      "CHANGE OF HOSPITAL                                  1\n",
      "CANCELLATION                                        1\n",
      "Name: Sub_categories1, dtype: int64 AxesSubplot(0.125,0.125;0.775x0.755)\n"
     ]
    },
    {
     "data": {
      "image/png": "[encoded data removed]",
      "text/plain": [
       "<matplotlib.figure.Figure at 0x20b590d1940>"
      ]
     },
     "metadata": {},
     "output_type": "display_data"
    }
   ],
   "source": [
    "ax = test_data.groupby(\"Sub_categories1\").size().plot(kind=\"bar\", figsize=(20,5))\n",
    "print(test_data.Sub_categories1.value_counts(),ax)"
   ]
  },
  {
   "cell_type": "code",
   "execution_count": 13,
   "metadata": {},
   "outputs": [
    {
     "data": {
      "text/plain": [
       "OTHERS                                           2109\n",
       "NEW APPOINTMENT                                  1949\n",
       "REFILL                                            545\n",
       "RESCHEDULING                                       80\n",
       "SHARING OF HEALTH RECORDS (FAX, E-MAIL, ETC.)      65\n",
       "SYMPTOMS                                           40\n",
       "PRIOR AUTHORIZATION                                25\n",
       "MEDICATION RELATED                                 25\n",
       "LAB RESULTS                                        25\n",
       "RUNNING LATE TO APPOINTMENT                         5\n",
       "QUERY ON CURRENT APPOINTMENT                        5\n",
       "PROVIDER                                            3\n",
       "CHANGE OF PROVIDER                                  3\n",
       "SHARING OF LAB RECORDS (FAX, E-MAIL, ETC.)          1\n",
       "CHANGE OF HOSPITAL                                  1\n",
       "CANCELLATION                                        1\n",
       "Name: Sub_categories1, dtype: int64"
      ]
     },
     "execution_count": 13,
     "metadata": {},
     "output_type": "execute_result"
    }
   ],
   "source": [
    "test_data.Sub_categories1.value_counts()"
   ]
  },
  {
   "cell_type": "code",
   "execution_count": null,
   "metadata": {},
   "outputs": [],
   "source": []
  },
  {
   "cell_type": "code",
   "execution_count": 14,
   "metadata": {},
   "outputs": [],
   "source": [
    "test_data.Categories1=test_data.Categories1.astype(\"category\")\n",
    "test_data.Sub_categories1=test_data.Sub_categories1.astype(\"category\")\n",
    "test_data.Previous_Appointment=test_data.Previous_Appointment.astype(\"category\")"
   ]
  },
  {
   "cell_type": "code",
   "execution_count": 15,
   "metadata": {},
   "outputs": [],
   "source": [
    "#Converting datatype of actual_data1 variables \n",
    "actual_data.schedule_note =actual_data.schedule_note.astype('str')\n",
    "actual_data.Categories1=actual_data.Categories1.astype(\"category\")\n",
    "actual_data.Sub_categories1=actual_data.Sub_categories1.astype(\"category\")\n",
    "actual_data.Previous_Appointment=actual_data.Previous_Appointment.astype(\"category\")"
   ]
  },
  {
   "cell_type": "code",
   "execution_count": 16,
   "metadata": {},
   "outputs": [],
   "source": [
    "#Converting datatype of test_data1 variables \n",
    "test_data.schedule_note =test_data.schedule_note.astype('str')"
   ]
  },
  {
   "cell_type": "code",
   "execution_count": 17,
   "metadata": {},
   "outputs": [
    {
     "data": {
      "text/plain": [
       "0                                              conf nc \n",
       "1                                               lvm, NN\n",
       "2                                              conf nc \n",
       "3                        Records being sent to ANTIOCH \n",
       "4                                              conf nc \n",
       "5                                              conf nc \n",
       "6     Rep QME Panel #: 1955967. Set fr w/l per Abby ...\n",
       "7     Rep QME reeval set fr w/l per email fr Molly @...\n",
       "8                                              conf nc \n",
       "9                           1st Post op appointment. tc\n",
       "10                 4 of 6 covering for Dr. Fernandez.lp\n",
       "11                                              lvm nc \n",
       "12                                  Covering for RF lap\n",
       "13                                              lvm nc \n",
       "14                                             conf, NN\n",
       "15    Rep QME - Panel #1980509, set w pt, would like...\n",
       "16              Unrep PQME  Panel #1985116, set w pt.ab\n",
       "17             Rep QME, set per email fr Bonnie @ DA.ab\n",
       "18    ****1/4-per Suzanne @ AA, Mr Arnold to hand ca...\n",
       "19    1st time seeing Dr. Silva. Pt is aware of chan...\n",
       "Name: schedule_note, dtype: object"
      ]
     },
     "execution_count": 17,
     "metadata": {},
     "output_type": "execute_result"
    }
   ],
   "source": [
    "actual_data.schedule_note[:20]"
   ]
  },
  {
   "cell_type": "code",
   "execution_count": 18,
   "metadata": {},
   "outputs": [],
   "source": [
    "def replacing_text(input_text):\n",
    "    letters_only = re.sub(\"[^a-zA-Z]\", \" \",input_text )\n",
    "    low_case = letters_only.lower()\n",
    "    string  =re.sub(' pt ' or \" pt's \", ' patient ', low_case)\n",
    "    string  =re.sub(' appt ' or ' apt ', ' appointment ',  string)\n",
    "    string  =re.sub(' appts ', ' appointment ',  string)\n",
    "    #string  =re.sub(' ov ', ' office visit ',  string)\n",
    "    string  =re.sub(' schd ' or ' sched ', ' scheduled ',  string)\n",
    "    string  =re.sub(' np ', ' new patient ',  string)\n",
    "    string  =re.sub(' r/s ' or ' rs ', ' reschedule ',  string)\n",
    "    #string  =re.sub(' med ', ' medication ',  string)\n",
    "    #string  =re.sub(' pa ', ' prior authorization ', string)\n",
    "    #string  =re.sub(' fin ', ' financial ',  string)\n",
    "    #string  =re.sub(' dept ', ' department ',  string) \n",
    "    #string  =re.sub(' meds ', ' medication ', string)\n",
    "    #string  =re.sub(' tabs ', ' tablets ', string)\n",
    "    #string  =re.sub(' ph ',' phone ', string)\n",
    "    #string  =re.sub(' dr ',' doctor ', string)\n",
    "    #string  =re.sub(' msg ',' message ', string)\n",
    "    string  =re.sub(' sched ',' scheduled ', string)\n",
    "    string  =re.sub(' yrly ',' yearly ', string)\n",
    "    #string  =re.sub('xxx ',' ', string)\n",
    "    string  =re.sub(' clld ', ' called ', string)\n",
    "    string  =re.sub(' rs ',' reschedule ', string)\n",
    "    #string  =re.sub(' ashley ', ' ',  string)\n",
    "    string  =re.sub(' h ', ' hospital ', string)\n",
    "    string  =re.sub(' ad ', ' add ', string)\n",
    "    #string  =re.sub(' am ', ' ', string)\n",
    "    #string  =re.sub(' am ', ' ', string)\n",
    "    review_text = string\n",
    "    return(review_text) "
   ]
  },
  {
   "cell_type": "code",
   "execution_count": 19,
   "metadata": {},
   "outputs": [],
   "source": [
    "def clean_str1(string):\n",
    "    string = re.sub(r\"[^A-Za-z0-9(),!?\\'\\`]\", \" \", string)\n",
    "    string = re.sub(r\"\\'s\", \" \\'s\", string)\n",
    "    string = re.sub(r\"\\'ve\", \" \\'ve\", string)\n",
    "    string = re.sub(r\"n\\'t\", \" n\\'t\", string)\n",
    "    string = re.sub(r\"\\'re\", \" \\'re\", string)\n",
    "    string = re.sub(r\"\\'d\", \" \\'d\", string)\n",
    "    string = re.sub(r\"\\'ll\", \" \\'ll\", string)\n",
    "    string = re.sub(r\",\", \" , \", string)\n",
    "    string = re.sub(r\"!\", \" ! \", string)\n",
    "    string = re.sub(r\"\\(\", \" \\( \", string)\n",
    "    string = re.sub(r\"\\)\", \" \\) \", string)\n",
    "    string = re.sub(r\"\\?\", \" \\? \", string)\n",
    "    string = re.sub(r\"\\s{2,}\", \" \", string)\n",
    "    review_text = string.strip()\n",
    "    letters_only = re.sub(\"[^a-zA-Z]\", \" \", review_text)\n",
    "    return letters_only"
   ]
  },
  {
   "cell_type": "code",
   "execution_count": 20,
   "metadata": {},
   "outputs": [
    {
     "name": "stdout",
     "output_type": "stream",
     "text": [
      "no.of rows reviews processed: 0\n",
      "no.of rows reviews processed: 10000\n",
      "no.of rows reviews processed: 20000\n",
      "no.of rows reviews processed: 30000\n",
      "no.of rows reviews processed: 40000\n",
      "no.of rows reviews processed: 50000\n",
      "no.of rows reviews processed: 60000\n",
      "no.of rows reviews processed: 70000\n",
      "no.of rows reviews processed: 80000\n",
      "no.of rows reviews processed: 90000\n",
      "no.of rows reviews processed: 100000\n",
      "Training took 4.975 seconds\n"
     ]
    }
   ],
   "source": [
    "import time\n",
    "start = time.time()\n",
    "extracted_sent1=[]\n",
    "for i in range (0,len(actual_data)):\n",
    "    if i%10000 == 0:\n",
    "        print (\"no.of rows reviews processed:\",i)\n",
    "    extracted_sent1.append(clean_str1(replacing_text(actual_data.schedule_note[i])))\n",
    "print(\"Training took {:0.3f} seconds\".format(time.time()-start))"
   ]
  },
  {
   "cell_type": "code",
   "execution_count": 21,
   "metadata": {},
   "outputs": [
    {
     "name": "stdout",
     "output_type": "stream",
     "text": [
      "no.of rows reviews processed: 0\n",
      "Training took 0.201 seconds\n"
     ]
    }
   ],
   "source": [
    "import time\n",
    "start = time.time()\n",
    "test_extracted_sent1=[]\n",
    "for i in range (0,len(test_data)):\n",
    "    if i%10000 == 0:\n",
    "        print (\"no.of rows reviews processed:\",i)\n",
    "    test_extracted_sent1.append(clean_str1(replacing_text(test_data.schedule_note[i])))\n",
    "print(\"Training took {:0.3f} seconds\".format(time.time()-start))"
   ]
  },
  {
   "cell_type": "code",
   "execution_count": 22,
   "metadata": {},
   "outputs": [],
   "source": [
    "actual_data[\"schedule_note1\"]=pd.DataFrame(extracted_sent1)\n",
    "test_data[\"schedule_note1\"]=pd.DataFrame(test_extracted_sent1)"
   ]
  },
  {
   "cell_type": "code",
   "execution_count": 23,
   "metadata": {},
   "outputs": [],
   "source": [
    "#Converted to lower case \n",
    "actual_data['schedule_note1'] = actual_data['schedule_note1'].apply(lambda x: \" \".join(x.lower() for x in x.split()))\n",
    "test_data['schedule_note1'] = test_data['schedule_note1'].apply(lambda x: \" \".join(x.lower() for x in x.split()))"
   ]
  },
  {
   "cell_type": "code",
   "execution_count": null,
   "metadata": {},
   "outputs": [],
   "source": []
  },
  {
   "cell_type": "code",
   "execution_count": 24,
   "metadata": {},
   "outputs": [],
   "source": [
    "#Removal of Stop Words\n",
    "stop = stopwords.words('english')+['pm','am','nan']\n",
    "actual_data['schedule_note1'] = actual_data['schedule_note1'].apply(lambda x: \" \".join(x for x in x.split() if x not in stop))\n",
    "test_data['schedule_note1'] = test_data['schedule_note1'].apply(lambda x: \" \".join(x for x in x.split() if x not in stop))"
   ]
  },
  {
   "cell_type": "code",
   "execution_count": 25,
   "metadata": {},
   "outputs": [],
   "source": [
    "from nltk.stem import SnowballStemmer\n",
    "st = SnowballStemmer('english')\n",
    "words = stopwords.words(\"english\")"
   ]
  },
  {
   "cell_type": "code",
   "execution_count": 26,
   "metadata": {},
   "outputs": [],
   "source": [
    "actual_data['schedule_note1'] = actual_data['schedule_note1'].apply(lambda x: \" \".join([st.stem(word) for word in x.split()]))\n",
    "test_data['schedule_note1'] = test_data['schedule_note1'].apply(lambda x: \" \".join([st.stem(word) for word in x.split()]))"
   ]
  },
  {
   "cell_type": "code",
   "execution_count": 27,
   "metadata": {},
   "outputs": [
    {
     "data": {
      "text/plain": [
       "11259"
      ]
     },
     "execution_count": 27,
     "metadata": {},
     "output_type": "execute_result"
    }
   ],
   "source": [
    "#Each word frequency count in Whole Corpus\n",
    "freq_count_data = pd.Series(' '.join(actual_data['schedule_note1']).split()).value_counts()\n",
    "len(freq_count_data)"
   ]
  },
  {
   "cell_type": "code",
   "execution_count": 28,
   "metadata": {},
   "outputs": [],
   "source": [
    "#freq_count_data"
   ]
  },
  {
   "cell_type": "code",
   "execution_count": 29,
   "metadata": {},
   "outputs": [
    {
     "data": {
      "text/plain": [
       "(109903, 8)"
      ]
     },
     "execution_count": 29,
     "metadata": {},
     "output_type": "execute_result"
    }
   ],
   "source": [
    "actual_data.shape"
   ]
  },
  {
   "cell_type": "code",
   "execution_count": 71,
   "metadata": {},
   "outputs": [
    {
     "data": {
      "text/plain": [
       "[APPOINTMENTS, MISCELLANEOUS, PRESCRIPTION, ASK_A_DOCTOR, LAB]\n",
       "Categories (5, object): [APPOINTMENTS, MISCELLANEOUS, PRESCRIPTION, ASK_A_DOCTOR, LAB]"
      ]
     },
     "execution_count": 71,
     "metadata": {},
     "output_type": "execute_result"
    }
   ],
   "source": [
    "actual_data.Categories1.unique()"
   ]
  },
  {
   "cell_type": "code",
   "execution_count": 101,
   "metadata": {},
   "outputs": [],
   "source": [
    "from sklearn.preprocessing import LabelEncoder,OneHotEncoder\n",
    "le = LabelEncoder()\n",
    "#test_data[\"Categories2\"]=le.fit(test_data[\"Categories1\"]).transform(test_data[\"Categories1\"])"
   ]
  },
  {
   "cell_type": "code",
   "execution_count": 102,
   "metadata": {},
   "outputs": [],
   "source": [
    "#actual_data[\"Categories2\"]=le.fit(actual_data[\"Categories1\"]).transform(actual_data[\"Categories1\"])\n",
    "#test_data[\"Categories2\"]=le.fit(actual_data[\"Categories1\"]).transform(test_data[\"Categories1\"])"
   ]
  },
  {
   "cell_type": "code",
   "execution_count": 118,
   "metadata": {},
   "outputs": [],
   "source": [
    "#actual_data[\"Sub_categories2\"]=le.fit(actual_data[\"Sub_categories1\"]).transform(actual_data[\"Sub_categories1\"])\n",
    "#test_data[\"Sub_categories2\"]=le.fit(actual_data[\"Sub_categories1\"]).transform(test_data[\"Sub_categories1\"])"
   ]
  },
  {
   "cell_type": "code",
   "execution_count": 207,
   "metadata": {},
   "outputs": [],
   "source": [
    "#actual_data[\"Categories2\"].head(),actual_data[\"Categories1\"].head()"
   ]
  },
  {
   "cell_type": "code",
   "execution_count": 208,
   "metadata": {},
   "outputs": [],
   "source": [
    "#test_data[\"Categories2\"].head(),test_data[\"Categories1\"].head()"
   ]
  },
  {
   "cell_type": "code",
   "execution_count": 75,
   "metadata": {},
   "outputs": [],
   "source": [
    "actual_APPOINTMENTS=(actual_data.loc[actual_data['Categories1'].isin(['APPOINTMENTS'])])\n",
    "actual_MISCELLANEOUS=(actual_data.loc[actual_data['Categories1'].isin(['MISCELLANEOUS'])])\n",
    "actual_PRESCRIPTION=(actual_data.loc[actual_data['Categories1'].isin(['PRESCRIPTION'])])\n",
    "actual_ASK_A_DOCTOR=(actual_data.loc[actual_data['Categories1'].isin(['ASK_A_DOCTOR'])])\n",
    "actual_LAB=(actual_data.loc[actual_data['Categories1'].isin(['LAB'])])"
   ]
  },
  {
   "cell_type": "code",
   "execution_count": 76,
   "metadata": {},
   "outputs": [],
   "source": [
    "test_data_APPOINTMENTS=(test_data.loc[test_data['Categories1'].isin(['APPOINTMENTS'])])\n",
    "test_data_MISCELLANEOUS=(test_data.loc[test_data['Categories1'].isin(['MISCELLANEOUS'])])\n",
    "test_data_PRESCRIPTION=(test_data.loc[test_data['Categories1'].isin(['PRESCRIPTION'])])\n",
    "test_data_ASK_A_DOCTORS=(test_data.loc[test_data['Categories1'].isin(['ASK_A_DOCTOR'])])\n",
    "test_data_LAB=(test_data.loc[test_data['Categories1'].isin(['LAB'])])"
   ]
  },
  {
   "cell_type": "code",
   "execution_count": 31,
   "metadata": {},
   "outputs": [],
   "source": [
    "X_test_1=test_data[\"schedule_note1\"]\n",
    "Y_test_1=test_data[\"Categories1\"]\n",
    "Y_test_2=test_data[\"Sub_categories1\"]\n",
    "Y_test_3=test_data[\"Previous_Appointment\"]"
   ]
  },
  {
   "cell_type": "code",
   "execution_count": 101,
   "metadata": {},
   "outputs": [],
   "source": [
    "X_test_33=test_data_APPOINTMENTS[\"schedule_note1\"]\n",
    "Y_test_33=test_data_APPOINTMENTS[\"Categories1\"]\n",
    "Y_test_33=test_data_APPOINTMENTS[\"Sub_categories1\"]\n",
    "Y_test_33=test_data_APPOINTMENTS[\"Previous_Appointment\"]"
   ]
  },
  {
   "cell_type": "code",
   "execution_count": null,
   "metadata": {},
   "outputs": [],
   "source": []
  },
  {
   "cell_type": "code",
   "execution_count": 87,
   "metadata": {},
   "outputs": [
    {
     "data": {
      "text/plain": [
       "[NEW APPOINTMENT, CANCELLATION, RESCHEDULING, RUNNING LATE TO APPOINTMENT, QUERY ON CURRENT APPOINTMENT]\n",
       "Categories (5, object): [NEW APPOINTMENT, CANCELLATION, RESCHEDULING, RUNNING LATE TO APPOINTMENT, QUERY ON CURRENT APPOINTMENT]"
      ]
     },
     "execution_count": 87,
     "metadata": {},
     "output_type": "execute_result"
    }
   ],
   "source": [
    "actual_APPOINTMENTS[\"Sub_categories1\"].unique()"
   ]
  },
  {
   "cell_type": "code",
   "execution_count": 32,
   "metadata": {},
   "outputs": [
    {
     "data": {
      "text/plain": [
       "4882"
      ]
     },
     "execution_count": 32,
     "metadata": {},
     "output_type": "execute_result"
    }
   ],
   "source": [
    "len(X_test_1)"
   ]
  },
  {
   "cell_type": "code",
   "execution_count": 33,
   "metadata": {},
   "outputs": [
    {
     "data": {
      "text/html": [
       "<div>\n",
       "<style scoped>\n",
       "    .dataframe tbody tr th:only-of-type {\n",
       "        vertical-align: middle;\n",
       "    }\n",
       "\n",
       "    .dataframe tbody tr th {\n",
       "        vertical-align: top;\n",
       "    }\n",
       "\n",
       "    .dataframe thead th {\n",
       "        text-align: right;\n",
       "    }\n",
       "</style>\n",
       "<table border=\"1\" class=\"dataframe\">\n",
       "  <thead>\n",
       "    <tr style=\"text-align: right;\">\n",
       "      <th></th>\n",
       "      <th>tran_id</th>\n",
       "      <th>tran_date</th>\n",
       "      <th>forwhom_id</th>\n",
       "      <th>schedule_note</th>\n",
       "      <th>Categories1</th>\n",
       "      <th>Sub_categories1</th>\n",
       "      <th>Previous_Appointment</th>\n",
       "      <th>schedule_note1</th>\n",
       "    </tr>\n",
       "  </thead>\n",
       "  <tbody>\n",
       "    <tr>\n",
       "      <th>0</th>\n",
       "      <td>672852</td>\n",
       "      <td>2016-07-08</td>\n",
       "      <td>30570</td>\n",
       "      <td>conf nc</td>\n",
       "      <td>APPOINTMENTS</td>\n",
       "      <td>NEW APPOINTMENT</td>\n",
       "      <td>No</td>\n",
       "      <td>conf nc</td>\n",
       "    </tr>\n",
       "    <tr>\n",
       "      <th>1</th>\n",
       "      <td>673452</td>\n",
       "      <td>2016-07-11</td>\n",
       "      <td>3603</td>\n",
       "      <td>lvm, NN</td>\n",
       "      <td>MISCELLANEOUS</td>\n",
       "      <td>OTHERS</td>\n",
       "      <td>No</td>\n",
       "      <td>lvm nn</td>\n",
       "    </tr>\n",
       "    <tr>\n",
       "      <th>2</th>\n",
       "      <td>673800</td>\n",
       "      <td>2016-07-12</td>\n",
       "      <td>22281</td>\n",
       "      <td>conf nc</td>\n",
       "      <td>APPOINTMENTS</td>\n",
       "      <td>NEW APPOINTMENT</td>\n",
       "      <td>No</td>\n",
       "      <td>conf nc</td>\n",
       "    </tr>\n",
       "    <tr>\n",
       "      <th>3</th>\n",
       "      <td>674558</td>\n",
       "      <td>2016-07-13</td>\n",
       "      <td>24646</td>\n",
       "      <td>Records being sent to ANTIOCH</td>\n",
       "      <td>MISCELLANEOUS</td>\n",
       "      <td>SHARING OF HEALTH RECORDS (FAX, E-MAIL, ETC.)</td>\n",
       "      <td>No</td>\n",
       "      <td>record sent antioch</td>\n",
       "    </tr>\n",
       "    <tr>\n",
       "      <th>4</th>\n",
       "      <td>676145</td>\n",
       "      <td>2016-07-18</td>\n",
       "      <td>22072</td>\n",
       "      <td>conf nc</td>\n",
       "      <td>APPOINTMENTS</td>\n",
       "      <td>NEW APPOINTMENT</td>\n",
       "      <td>No</td>\n",
       "      <td>conf nc</td>\n",
       "    </tr>\n",
       "  </tbody>\n",
       "</table>\n",
       "</div>"
      ],
      "text/plain": [
       "   tran_id   tran_date  forwhom_id                   schedule_note  \\\n",
       "0   672852  2016-07-08       30570                        conf nc    \n",
       "1   673452  2016-07-11        3603                         lvm, NN   \n",
       "2   673800  2016-07-12       22281                        conf nc    \n",
       "3   674558  2016-07-13       24646  Records being sent to ANTIOCH    \n",
       "4   676145  2016-07-18       22072                        conf nc    \n",
       "\n",
       "     Categories1                                Sub_categories1  \\\n",
       "0   APPOINTMENTS                                NEW APPOINTMENT   \n",
       "1  MISCELLANEOUS                                         OTHERS   \n",
       "2   APPOINTMENTS                                NEW APPOINTMENT   \n",
       "3  MISCELLANEOUS  SHARING OF HEALTH RECORDS (FAX, E-MAIL, ETC.)   \n",
       "4   APPOINTMENTS                                NEW APPOINTMENT   \n",
       "\n",
       "  Previous_Appointment       schedule_note1  \n",
       "0                   No              conf nc  \n",
       "1                   No               lvm nn  \n",
       "2                   No              conf nc  \n",
       "3                   No  record sent antioch  \n",
       "4                   No              conf nc  "
      ]
     },
     "execution_count": 33,
     "metadata": {},
     "output_type": "execute_result"
    }
   ],
   "source": [
    "actual_data.head()"
   ]
  },
  {
   "cell_type": "code",
   "execution_count": 105,
   "metadata": {},
   "outputs": [],
   "source": [
    "X_train_33, X_valid_33, y_train_33, y_valid_33 = train_test_split(actual_APPOINTMENTS[\"schedule_note1\"], actual_APPOINTMENTS[\"Sub_categories1\"], test_size=0.2,random_state=42)"
   ]
  },
  {
   "cell_type": "code",
   "execution_count": 106,
   "metadata": {},
   "outputs": [
    {
     "data": {
      "text/plain": [
       "(52138     emg ncv lue schedul via email gladi mis auth a...\n",
       " 107819                       inject fluoroscopi rt shoulder\n",
       " 43717                                                fu apt\n",
       " 40024                                                fu apt\n",
       " 39527                                       rehab lt ankl x\n",
       " Name: schedule_note1, dtype: object, 52138     NEW APPOINTMENT\n",
       " 107819    NEW APPOINTMENT\n",
       " 43717     NEW APPOINTMENT\n",
       " 40024     NEW APPOINTMENT\n",
       " 39527     NEW APPOINTMENT\n",
       " Name: Sub_categories1, dtype: category\n",
       " Categories (18, object): [CANCELLATION, CHANGE OF HOSPITAL, CHANGE OF PROVIDER, FOLLOW UP ON PREVIOUS REQUEST, ..., RUNNING LATE TO APPOINTMENT, SHARING OF HEALTH RECORDS (FAX, E-MAIL, ETC.), SHARING OF LAB RECORDS (FAX, E-MAIL, ETC.), SYMPTOMS], 38004)"
      ]
     },
     "execution_count": 106,
     "metadata": {},
     "output_type": "execute_result"
    }
   ],
   "source": [
    "X_train_33.head(),y_train_33.head(),len(X_train_33)"
   ]
  },
  {
   "cell_type": "code",
   "execution_count": 107,
   "metadata": {},
   "outputs": [],
   "source": [
    "tvec = TfidfVectorizer(analyzer='word',token_pattern=r'\\w{1,}',ngram_range=(1,2), max_features=100000)\n",
    "x_train_tfidf = tvec.fit_transform(X_train_33)\n",
    "x_validation_tfidf = tvec.transform(X_valid_33)\n",
    "x_test_tfidf=tvec.transform(X_test_33)"
   ]
  },
  {
   "cell_type": "code",
   "execution_count": 108,
   "metadata": {},
   "outputs": [
    {
     "name": "stdout",
     "output_type": "stream",
     "text": [
      "chi2 feature selection evaluation calculated for 10000 features 0.9950531523 0.980740896653 0.0\n",
      "chi2 feature selection evaluation calculated for 20000 features 0.996579307441 0.981793306672 0.0\n",
      "chi2 feature selection evaluation calculated for 30000 features 0.9966582465 0.981372342665 0.0\n",
      "chi2 feature selection evaluation calculated for 40000 features 0.99668455952 0.981267101663 0.0\n"
     ]
    }
   ],
   "source": [
    "for n in np.arange(10000,43061,10000):\n",
    "    ch2 = SelectKBest(chi2, k=n)\n",
    "    \n",
    "    x_train_chi2_selected = ch2.fit_transform(x_train_tfidf, y_train_33)\n",
    "    x_validation_chi2_selected = ch2.transform(x_validation_tfidf)\n",
    "    x_test_chi2_selected=ch2.transform(x_test_tfidf)\n",
    "    \n",
    "    clf = LinearSVC(C=1.0,penalty='l2', max_iter=10000,multi_class='ovr',dual=True)\n",
    "    clf.fit(x_train_chi2_selected, y_train_33)\n",
    "    score1 = clf.score(x_train_chi2_selected,y_train_33)\n",
    "    score2 = clf.score(x_validation_chi2_selected, y_valid_33)\n",
    "    score3 = clf.score(x_test_chi2_selected,Y_test_33)\n",
    "    #ch2_result1.append(score1)\n",
    "    #ch2_result2.append(score2)\n",
    "    #ch2_result3.append(score3)\n",
    "    print (\"chi2 feature selection evaluation calculated for {} features\".format(n),score1, score2, score3)"
   ]
  },
  {
   "cell_type": "code",
   "execution_count": null,
   "metadata": {},
   "outputs": [],
   "source": []
  },
  {
   "cell_type": "code",
   "execution_count": 109,
   "metadata": {},
   "outputs": [],
   "source": [
    "X_train_1, X_valid_1, y_train_1, y_valid_1 = train_test_split(actual_data[\"schedule_note1\"], actual_data[\"Categories1\"], test_size=0.2,random_state=42)"
   ]
  },
  {
   "cell_type": "code",
   "execution_count": 110,
   "metadata": {},
   "outputs": [
    {
     "data": {
      "text/plain": [
       "((87922,), (87922,), (21981,), (21981,))"
      ]
     },
     "execution_count": 110,
     "metadata": {},
     "output_type": "execute_result"
    }
   ],
   "source": [
    "X_train_1.shape,y_train_1.shape,X_valid_1.shape,y_valid_1.shape"
   ]
  },
  {
   "cell_type": "code",
   "execution_count": null,
   "metadata": {},
   "outputs": [],
   "source": []
  },
  {
   "cell_type": "code",
   "execution_count": 148,
   "metadata": {},
   "outputs": [],
   "source": [
    "X_train_2, X_valid_2, y_train_2, y_valid_2 = train_test_split(actual_data[[\"schedule_note1\",\"Categories2\"]], actual_data.Sub_categories1, test_size=0.2,random_state=42)"
   ]
  },
  {
   "cell_type": "code",
   "execution_count": 146,
   "metadata": {},
   "outputs": [
    {
     "data": {
      "text/plain": [
       "((87922, 2), (21981, 2), (87922,), (21981,))"
      ]
     },
     "execution_count": 146,
     "metadata": {},
     "output_type": "execute_result"
    }
   ],
   "source": [
    "X_train_2.shape,X_valid_2.shape,y_train_2.shape,y_valid_2.shape"
   ]
  },
  {
   "cell_type": "code",
   "execution_count": 52,
   "metadata": {},
   "outputs": [],
   "source": [
    "#actual_data['categories+sentences'] = actual_data[\"schedule_note1\"].map(str) +\" \" +actual_data['Categories1'].astype('str')"
   ]
  },
  {
   "cell_type": "code",
   "execution_count": 53,
   "metadata": {},
   "outputs": [],
   "source": [
    "#X_train_3, X_valid_3, y_train_3, y_valid_3 = train_test_split(actual_data[[\"schedule_note1\",\"Categories1\"]], actual_data.Previous_Appointment, test_size=0.2,random_state=42)"
   ]
  },
  {
   "cell_type": "code",
   "execution_count": 111,
   "metadata": {},
   "outputs": [
    {
     "ename": "NameError",
     "evalue": "name 'X_train_2' is not defined",
     "output_type": "error",
     "traceback": [
      "\u001b[1;31m---------------------------------------------------------------------------\u001b[0m",
      "\u001b[1;31mNameError\u001b[0m                                 Traceback (most recent call last)",
      "\u001b[1;32m<ipython-input-111-1c2c3752f920>\u001b[0m in \u001b[0;36m<module>\u001b[1;34m()\u001b[0m\n\u001b[0;32m      1\u001b[0m \u001b[0mtvec\u001b[0m \u001b[1;33m=\u001b[0m \u001b[0mTfidfVectorizer\u001b[0m\u001b[1;33m(\u001b[0m\u001b[0manalyzer\u001b[0m\u001b[1;33m=\u001b[0m\u001b[1;34m'word'\u001b[0m\u001b[1;33m,\u001b[0m\u001b[0mtoken_pattern\u001b[0m\u001b[1;33m=\u001b[0m\u001b[1;34mr'\\w{1,}'\u001b[0m\u001b[1;33m,\u001b[0m\u001b[0mngram_range\u001b[0m\u001b[1;33m=\u001b[0m\u001b[1;33m(\u001b[0m\u001b[1;36m1\u001b[0m\u001b[1;33m,\u001b[0m\u001b[1;36m2\u001b[0m\u001b[1;33m)\u001b[0m\u001b[1;33m,\u001b[0m \u001b[0mmax_features\u001b[0m\u001b[1;33m=\u001b[0m\u001b[1;36m100000\u001b[0m\u001b[1;33m)\u001b[0m\u001b[1;33m\u001b[0m\u001b[0m\n\u001b[1;32m----> 2\u001b[1;33m \u001b[0mx_train_tfidf\u001b[0m \u001b[1;33m=\u001b[0m \u001b[0mtvec\u001b[0m\u001b[1;33m.\u001b[0m\u001b[0mfit_transform\u001b[0m\u001b[1;33m(\u001b[0m\u001b[0mX_train_2\u001b[0m\u001b[1;33m[\u001b[0m\u001b[1;34m\"schedule_note1\"\u001b[0m\u001b[1;33m]\u001b[0m\u001b[1;33m)\u001b[0m\u001b[1;33m\u001b[0m\u001b[0m\n\u001b[0m\u001b[0;32m      3\u001b[0m \u001b[1;31m#x_validation_tfidf=tvec.fit_transform(X_valid_1)\u001b[0m\u001b[1;33m\u001b[0m\u001b[1;33m\u001b[0m\u001b[0m\n\u001b[0;32m      4\u001b[0m \u001b[1;31m#x_test_tfidf=tvec.transform(X_test_1)\u001b[0m\u001b[1;33m\u001b[0m\u001b[1;33m\u001b[0m\u001b[0m\n",
      "\u001b[1;31mNameError\u001b[0m: name 'X_train_2' is not defined"
     ]
    }
   ],
   "source": [
    "tvec = TfidfVectorizer(analyzer='word',token_pattern=r'\\w{1,}',ngram_range=(1,2), max_features=100000)\n",
    "x_train_tfidf = tvec.fit_transform(X_train_2[\"schedule_note1\"])\n",
    "#x_validation_tfidf=tvec.fit_transform(X_valid_1)\n",
    "#x_test_tfidf=tvec.transform(X_test_1)"
   ]
  },
  {
   "cell_type": "code",
   "execution_count": 174,
   "metadata": {},
   "outputs": [
    {
     "data": {
      "text/plain": [
       "<87922x78132 sparse matrix of type '<class 'numpy.float64'>'\n",
       "\twith 862622 stored elements in Compressed Sparse Row format>"
      ]
     },
     "execution_count": 174,
     "metadata": {},
     "output_type": "execute_result"
    }
   ],
   "source": [
    "x_train_tfidf"
   ]
  },
  {
   "cell_type": "code",
   "execution_count": 173,
   "metadata": {},
   "outputs": [
    {
     "data": {
      "text/plain": [
       "<87922x78132 sparse matrix of type '<class 'numpy.float64'>'\n",
       "\twith 862622 stored elements in Compressed Sparse Row format>"
      ]
     },
     "execution_count": 173,
     "metadata": {},
     "output_type": "execute_result"
    }
   ],
   "source": [
    "x_train_chi2_selected"
   ]
  },
  {
   "cell_type": "code",
   "execution_count": null,
   "metadata": {},
   "outputs": [],
   "source": []
  },
  {
   "cell_type": "code",
   "execution_count": 172,
   "metadata": {},
   "outputs": [
    {
     "data": {
      "text/plain": [
       "<bound method spmatrix.getmaxprint of <87922x78132 sparse matrix of type '<class 'numpy.float64'>'\n",
       "\twith 862622 stored elements in Compressed Sparse Row format>>"
      ]
     },
     "execution_count": 172,
     "metadata": {},
     "output_type": "execute_result"
    }
   ],
   "source": [
    "ch2 = SelectKBest(chi2, k=\"all\")\n",
    "x_train_chi2_selected = ch2.fit_transform(x_train_tfidf,y_train_2)\n",
    "x_train_chi2_selected."
   ]
  },
  {
   "cell_type": "code",
   "execution_count": 175,
   "metadata": {},
   "outputs": [
    {
     "ename": "KeyError",
     "evalue": "'Categories2'",
     "output_type": "error",
     "traceback": [
      "\u001b[1;31m---------------------------------------------------------------------------\u001b[0m",
      "\u001b[1;31mTypeError\u001b[0m                                 Traceback (most recent call last)",
      "\u001b[1;32mpandas/_libs/index.pyx\u001b[0m in \u001b[0;36mpandas._libs.index.IndexEngine.get_loc\u001b[1;34m()\u001b[0m\n",
      "\u001b[1;32mpandas/_libs/hashtable_class_helper.pxi\u001b[0m in \u001b[0;36mpandas._libs.hashtable.Int64HashTable.get_item\u001b[1;34m()\u001b[0m\n",
      "\u001b[1;31mTypeError\u001b[0m: an integer is required",
      "\nDuring handling of the above exception, another exception occurred:\n",
      "\u001b[1;31mKeyError\u001b[0m                                  Traceback (most recent call last)",
      "\u001b[1;32m<ipython-input-175-ee9cc2c85802>\u001b[0m in \u001b[0;36m<module>\u001b[1;34m()\u001b[0m\n\u001b[0;32m      6\u001b[0m \u001b[1;33m\u001b[0m\u001b[0m\n\u001b[0;32m      7\u001b[0m     \u001b[0mclf\u001b[0m \u001b[1;33m=\u001b[0m \u001b[0mLinearSVC\u001b[0m\u001b[1;33m(\u001b[0m\u001b[0mC\u001b[0m\u001b[1;33m=\u001b[0m\u001b[1;36m1.0\u001b[0m\u001b[1;33m,\u001b[0m\u001b[0mpenalty\u001b[0m\u001b[1;33m=\u001b[0m\u001b[1;34m'l2'\u001b[0m\u001b[1;33m,\u001b[0m \u001b[0mmax_iter\u001b[0m\u001b[1;33m=\u001b[0m\u001b[1;36m10000\u001b[0m\u001b[1;33m,\u001b[0m\u001b[0mmulti_class\u001b[0m\u001b[1;33m=\u001b[0m\u001b[1;34m'ovr'\u001b[0m\u001b[1;33m,\u001b[0m\u001b[0mdual\u001b[0m\u001b[1;33m=\u001b[0m\u001b[1;32mTrue\u001b[0m\u001b[1;33m)\u001b[0m\u001b[1;33m\u001b[0m\u001b[0m\n\u001b[1;32m----> 8\u001b[1;33m     \u001b[0mclf\u001b[0m\u001b[1;33m.\u001b[0m\u001b[0mfit\u001b[0m\u001b[1;33m(\u001b[0m\u001b[0mx_train_chi2_selected\u001b[0m\u001b[1;33m,\u001b[0m \u001b[0my_train_1\u001b[0m\u001b[1;33m[\u001b[0m\u001b[1;34m\"Categories2\"\u001b[0m\u001b[1;33m]\u001b[0m\u001b[1;33m)\u001b[0m\u001b[1;33m\u001b[0m\u001b[0m\n\u001b[0m\u001b[0;32m      9\u001b[0m \u001b[1;33m\u001b[0m\u001b[0m\n\u001b[0;32m     10\u001b[0m     \u001b[1;31m#score1 = clf.score(x_train_chi2_selected,y_train_1[\"Categories2\"])\u001b[0m\u001b[1;33m\u001b[0m\u001b[1;33m\u001b[0m\u001b[0m\n",
      "\u001b[1;32m~\\AppData\\Local\\Continuum\\anaconda3\\lib\\site-packages\\pandas\\core\\series.py\u001b[0m in \u001b[0;36m__getitem__\u001b[1;34m(self, key)\u001b[0m\n\u001b[0;32m    621\u001b[0m         \u001b[0mkey\u001b[0m \u001b[1;33m=\u001b[0m \u001b[0mcom\u001b[0m\u001b[1;33m.\u001b[0m\u001b[0m_apply_if_callable\u001b[0m\u001b[1;33m(\u001b[0m\u001b[0mkey\u001b[0m\u001b[1;33m,\u001b[0m \u001b[0mself\u001b[0m\u001b[1;33m)\u001b[0m\u001b[1;33m\u001b[0m\u001b[0m\n\u001b[0;32m    622\u001b[0m         \u001b[1;32mtry\u001b[0m\u001b[1;33m:\u001b[0m\u001b[1;33m\u001b[0m\u001b[0m\n\u001b[1;32m--> 623\u001b[1;33m             \u001b[0mresult\u001b[0m \u001b[1;33m=\u001b[0m \u001b[0mself\u001b[0m\u001b[1;33m.\u001b[0m\u001b[0mindex\u001b[0m\u001b[1;33m.\u001b[0m\u001b[0mget_value\u001b[0m\u001b[1;33m(\u001b[0m\u001b[0mself\u001b[0m\u001b[1;33m,\u001b[0m \u001b[0mkey\u001b[0m\u001b[1;33m)\u001b[0m\u001b[1;33m\u001b[0m\u001b[0m\n\u001b[0m\u001b[0;32m    624\u001b[0m \u001b[1;33m\u001b[0m\u001b[0m\n\u001b[0;32m    625\u001b[0m             \u001b[1;32mif\u001b[0m \u001b[1;32mnot\u001b[0m \u001b[0mis_scalar\u001b[0m\u001b[1;33m(\u001b[0m\u001b[0mresult\u001b[0m\u001b[1;33m)\u001b[0m\u001b[1;33m:\u001b[0m\u001b[1;33m\u001b[0m\u001b[0m\n",
      "\u001b[1;32m~\\AppData\\Local\\Continuum\\anaconda3\\lib\\site-packages\\pandas\\core\\indexes\\base.py\u001b[0m in \u001b[0;36mget_value\u001b[1;34m(self, series, key)\u001b[0m\n\u001b[0;32m   2558\u001b[0m         \u001b[1;32mtry\u001b[0m\u001b[1;33m:\u001b[0m\u001b[1;33m\u001b[0m\u001b[0m\n\u001b[0;32m   2559\u001b[0m             return self._engine.get_value(s, k,\n\u001b[1;32m-> 2560\u001b[1;33m                                           tz=getattr(series.dtype, 'tz', None))\n\u001b[0m\u001b[0;32m   2561\u001b[0m         \u001b[1;32mexcept\u001b[0m \u001b[0mKeyError\u001b[0m \u001b[1;32mas\u001b[0m \u001b[0me1\u001b[0m\u001b[1;33m:\u001b[0m\u001b[1;33m\u001b[0m\u001b[0m\n\u001b[0;32m   2562\u001b[0m             \u001b[1;32mif\u001b[0m \u001b[0mlen\u001b[0m\u001b[1;33m(\u001b[0m\u001b[0mself\u001b[0m\u001b[1;33m)\u001b[0m \u001b[1;33m>\u001b[0m \u001b[1;36m0\u001b[0m \u001b[1;32mand\u001b[0m \u001b[0mself\u001b[0m\u001b[1;33m.\u001b[0m\u001b[0minferred_type\u001b[0m \u001b[1;32min\u001b[0m \u001b[1;33m[\u001b[0m\u001b[1;34m'integer'\u001b[0m\u001b[1;33m,\u001b[0m \u001b[1;34m'boolean'\u001b[0m\u001b[1;33m]\u001b[0m\u001b[1;33m:\u001b[0m\u001b[1;33m\u001b[0m\u001b[0m\n",
      "\u001b[1;32mpandas/_libs/index.pyx\u001b[0m in \u001b[0;36mpandas._libs.index.IndexEngine.get_value\u001b[1;34m()\u001b[0m\n",
      "\u001b[1;32mpandas/_libs/index.pyx\u001b[0m in \u001b[0;36mpandas._libs.index.IndexEngine.get_value\u001b[1;34m()\u001b[0m\n",
      "\u001b[1;32mpandas/_libs/index.pyx\u001b[0m in \u001b[0;36mpandas._libs.index.IndexEngine.get_loc\u001b[1;34m()\u001b[0m\n",
      "\u001b[1;31mKeyError\u001b[0m: 'Categories2'"
     ]
    }
   ],
   "source": [
    "for n in np.arange(10000,78132,10000):\n",
    "    ch2 = SelectKBest(chi2, k=n)\n",
    "    x_train_chi2_selected = ch2.fit_transform(x_train_tfidf,y_train_2)\n",
    "    #x_validation_chi2_selected = ch2.transform(x_validation_tfidf)\n",
    "    #x_test_chi2_selected=ch2.transform(x_test_tfidf)\n",
    "    \n",
    "    clf = LinearSVC(C=1.0,penalty='l2', max_iter=10000,multi_class='ovr',dual=True)\n",
    "    clf.fit(x_train_chi2_selected, y_train_1[\"Categories2\"])\n",
    "    \n",
    "    #score1 = clf.score(x_train_chi2_selected,y_train_1[\"Categories2\"])\n",
    "    \n",
    "    #score2 = clf.score(x_validation_chi2_selected, y_valid_1[\"Categories2\"])\n",
    "    #score3 = clf.score(x_test_chi2_selected,Y_test_1)\n",
    "    \n",
    "    #print (\"chi2 feature selection evaluation calculated for {} features\".format(n),score1,score3)"
   ]
  },
  {
   "cell_type": "code",
   "execution_count": 112,
   "metadata": {},
   "outputs": [
    {
     "ename": "NameError",
     "evalue": "name 'X_train_2' is not defined",
     "output_type": "error",
     "traceback": [
      "\u001b[1;31m---------------------------------------------------------------------------\u001b[0m",
      "\u001b[1;31mNameError\u001b[0m                                 Traceback (most recent call last)",
      "\u001b[1;32m<ipython-input-112-bb853745476a>\u001b[0m in \u001b[0;36m<module>\u001b[1;34m()\u001b[0m\n\u001b[0;32m      5\u001b[0m \u001b[1;33m\u001b[0m\u001b[0m\n\u001b[0;32m      6\u001b[0m \u001b[0mtvec2\u001b[0m \u001b[1;33m=\u001b[0m \u001b[0mTfidfVectorizer\u001b[0m\u001b[1;33m(\u001b[0m\u001b[0manalyzer\u001b[0m\u001b[1;33m=\u001b[0m\u001b[1;34m'word'\u001b[0m\u001b[1;33m,\u001b[0m \u001b[0mtoken_pattern\u001b[0m\u001b[1;33m=\u001b[0m\u001b[1;34mr'\\w{1,}'\u001b[0m\u001b[1;33m,\u001b[0m \u001b[0mngram_range\u001b[0m\u001b[1;33m=\u001b[0m\u001b[1;33m(\u001b[0m\u001b[1;36m1\u001b[0m\u001b[1;33m,\u001b[0m\u001b[1;36m2\u001b[0m\u001b[1;33m)\u001b[0m\u001b[1;33m,\u001b[0m \u001b[0mmax_features\u001b[0m\u001b[1;33m=\u001b[0m\u001b[1;36m100000\u001b[0m\u001b[1;33m)\u001b[0m\u001b[1;33m\u001b[0m\u001b[0m\n\u001b[1;32m----> 7\u001b[1;33m \u001b[0mx_train_tfidf2\u001b[0m \u001b[1;33m=\u001b[0m \u001b[0mtvec2\u001b[0m\u001b[1;33m.\u001b[0m\u001b[0mfit_transform\u001b[0m\u001b[1;33m(\u001b[0m\u001b[0mX_train_2\u001b[0m\u001b[1;33m)\u001b[0m\u001b[1;33m\u001b[0m\u001b[0m\n\u001b[0m\u001b[0;32m      8\u001b[0m \u001b[0mx_validation_tfidf2\u001b[0m \u001b[1;33m=\u001b[0m \u001b[0mtvec2\u001b[0m\u001b[1;33m.\u001b[0m\u001b[0mtransform\u001b[0m\u001b[1;33m(\u001b[0m\u001b[0mX_valid_2\u001b[0m\u001b[1;33m)\u001b[0m\u001b[1;33m\u001b[0m\u001b[0m\n\u001b[0;32m      9\u001b[0m \u001b[0mx_test_tfidf2\u001b[0m\u001b[1;33m=\u001b[0m\u001b[0mtvec2\u001b[0m\u001b[1;33m.\u001b[0m\u001b[0mtransform\u001b[0m\u001b[1;33m(\u001b[0m\u001b[0mX_test_1\u001b[0m\u001b[1;33m)\u001b[0m\u001b[1;33m\u001b[0m\u001b[0m\n",
      "\u001b[1;31mNameError\u001b[0m: name 'X_train_2' is not defined"
     ]
    }
   ],
   "source": [
    "tvec = TfidfVectorizer(analyzer='word', token_pattern=r'\\w{1,}', ngram_range=(1,2), max_features=100000)\n",
    "x_train_tfidf = tvec.fit_transform(X_train_1)\n",
    "x_validation_tfidf = tvec.transform(X_valid_1)\n",
    "x_test_tfidf=tvec.transform(X_test_1)\n",
    "\n",
    "tvec2 = TfidfVectorizer(analyzer='word', token_pattern=r'\\w{1,}', ngram_range=(1,2), max_features=100000)\n",
    "x_train_tfidf2 = tvec2.fit_transform(X_train_2)\n",
    "x_validation_tfidf2 = tvec2.transform(X_valid_2)\n",
    "x_test_tfidf2=tvec2.transform(X_test_1)\n",
    "\n",
    "\n",
    "tvec3 = TfidfVectorizer(analyzer='word', token_pattern=r'\\w{1,}', ngram_range=(1,2), max_features=100000)\n",
    "x_train_tfidf3 = tvec3.fit_transform(X_train_3)\n",
    "x_validation_tfidf3 = tvec2.transform(X_valid_3)\n",
    "x_test_tfidf3=tvec3.transform(X_test_1)"
   ]
  },
  {
   "cell_type": "code",
   "execution_count": null,
   "metadata": {},
   "outputs": [],
   "source": [
    "x_train_tfidf"
   ]
  },
  {
   "cell_type": "code",
   "execution_count": 110,
   "metadata": {},
   "outputs": [
    {
     "data": {
      "text/plain": [
       "<87922x82806 sparse matrix of type '<class 'numpy.float64'>'\n",
       "\twith 1034427 stored elements in Compressed Sparse Row format>"
      ]
     },
     "execution_count": 110,
     "metadata": {},
     "output_type": "execute_result"
    }
   ],
   "source": [
    "x_train_tfidf2"
   ]
  },
  {
   "cell_type": "code",
   "execution_count": 57,
   "metadata": {},
   "outputs": [],
   "source": [
    "from sklearn.feature_selection import SelectKBest, chi2\n",
    "from sklearn.linear_model import LogisticRegression\n",
    "from sklearn import cross_validation,linear_model"
   ]
  },
  {
   "cell_type": "code",
   "execution_count": 58,
   "metadata": {},
   "outputs": [
    {
     "data": {
      "text/plain": [
       "LogisticRegression(C=1.0, class_weight=None, dual=False, fit_intercept=True,\n",
       "          intercept_scaling=1, max_iter=100, multi_class='ovr', n_jobs=1,\n",
       "          penalty='l2', random_state=None, solver='liblinear', tol=0.0001,\n",
       "          verbose=0, warm_start=False)"
      ]
     },
     "execution_count": 58,
     "metadata": {},
     "output_type": "execute_result"
    }
   ],
   "source": [
    "linear_model.LogisticRegression()"
   ]
  },
  {
   "cell_type": "code",
   "execution_count": null,
   "metadata": {},
   "outputs": [],
   "source": [
    "clf1 = linear_model.LogisticRegression(n_jobs=-1,multi_class='ovr',C=1.0,class_weight=\"balanced\",max_iter=3000)\n",
    "clf2 = linear_model.LogisticRegression(n_jobs=-1,multi_class='ovr',C=1.0,class_weight=\"balanced\",max_iter=3000)"
   ]
  },
  {
   "cell_type": "code",
   "execution_count": 66,
   "metadata": {},
   "outputs": [
    {
     "name": "stdout",
     "output_type": "stream",
     "text": [
      "chi2 feature selection evaluation calculated for 10000 features 0.936216191624 0.903052636368 0.881196231053\n",
      "chi2 feature selection evaluation calculated for 20000 features 0.936216191624 0.903052636368 0.881196231053\n",
      "chi2 feature selection evaluation calculated for 30000 features 0.936216191624 0.903052636368 0.881196231053\n",
      "chi2 feature selection evaluation calculated for 40000 features 0.936216191624 0.903052636368 0.881196231053\n",
      "chi2 feature selection evaluation calculated for 50000 features 0.936216191624 0.903052636368 0.881196231053\n",
      "chi2 feature selection evaluation calculated for 60000 features 0.936216191624 0.903052636368 0.881196231053\n",
      "chi2 feature selection evaluation calculated for 70000 features 0.936216191624 0.903052636368 0.881196231053\n",
      "chi2 feature selection evaluation calculated for 80000 features 0.936216191624 0.903052636368 0.881196231053\n",
      "chi2 feature selection evaluation calculated for 90000 features 0.936216191624 0.903052636368 0.881196231053\n"
     ]
    }
   ],
   "source": [
    "ch2_result1 = []\n",
    "ch2_result2 = []\n",
    "ch2_result3 = []\n",
    "for n in np.arange(10000,78132,10000):\n",
    "    ch2 = SelectKBest(chi2, k=n)\n",
    "    \n",
    "    x_train_chi2_selected = ch2.fit_transform(x_train_tfidf, y_train_1)\n",
    "    x_validation_chi2_selected = ch2.transform(x_validation_tfidf)\n",
    "    x_test_chi2_selected=ch2.transform(x_test_tfidf)\n",
    "    \n",
    "    clf = linear_model.LogisticRegression(n_jobs=-1,C=4.0,multi_class='ovr',max_iter=3000, penalty='l2')\n",
    "    clf.fit(x_train_chi2_selected, y_train_1)\n",
    "    score1 = clf.score(x_train_chi2_selected,y_train_1)\n",
    "    score2 = clf.score(x_validation_chi2_selected, y_valid_1)\n",
    "    score3 = clf.score(x_test_chi2_selected,Y_test_1)\n",
    "    ch2_result1.append(score1)\n",
    "    ch2_result2.append(score2)\n",
    "    ch2_result3.append(score3)\n",
    "    print (\"chi2 feature selection evaluation calculated for {} features\".format(n),score1, score2,score3)"
   ]
  },
  {
   "cell_type": "code",
   "execution_count": 60,
   "metadata": {},
   "outputs": [
    {
     "data": {
      "text/plain": [
       "LinearSVC(C=1.0, class_weight=None, dual=True, fit_intercept=True,\n",
       "     intercept_scaling=1, loss='squared_hinge', max_iter=1000,\n",
       "     multi_class='ovr', penalty='l2', random_state=None, tol=0.0001,\n",
       "     verbose=0)"
      ]
     },
     "execution_count": 60,
     "metadata": {},
     "output_type": "execute_result"
    }
   ],
   "source": [
    "LinearSVC()"
   ]
  },
  {
   "cell_type": "code",
   "execution_count": 99,
   "metadata": {},
   "outputs": [
    {
     "name": "stdout",
     "output_type": "stream",
     "text": [
      "chi2 feature selection evaluation calculated for 10000 features 0.921020904893 0.899276648014 0.877714051618\n",
      "chi2 feature selection evaluation calculated for 20000 features 0.935590637156 0.903553068559 0.879762392462\n",
      "chi2 feature selection evaluation calculated for 30000 features 0.94357498692 0.903052636368 0.88201556739\n",
      "chi2 feature selection evaluation calculated for 40000 features 0.94786287846 0.903462080888 0.886317083163\n",
      "chi2 feature selection evaluation calculated for 50000 features 0.950558449535 0.903325599381 0.887546087669\n",
      "chi2 feature selection evaluation calculated for 60000 features 0.952093901413 0.903735043902 0.885497746825\n",
      "chi2 feature selection evaluation calculated for 70000 features 0.953128909715 0.903780537737 0.886931585416\n"
     ]
    }
   ],
   "source": [
    "ch2_result1 = []\n",
    "ch2_result2 = []\n",
    "ch2_result3 = []\n",
    "for n in np.arange(10000,78132,10000):\n",
    "    ch2 = SelectKBest(chi2, k=n)\n",
    "    \n",
    "    x_train_chi2_selected = ch2.fit_transform(x_train_tfidf, y_train_1)\n",
    "    x_validation_chi2_selected = ch2.transform(x_validation_tfidf)\n",
    "    x_test_chi2_selected=ch2.transform(x_test_tfidf)\n",
    "    \n",
    "    clf = LinearSVC(C=1.0,penalty='l2', max_iter=10000,multi_class='ovr',dual=True)\n",
    "    clf.fit(x_train_chi2_selected, y_train_1)\n",
    "    score1 = clf.score(x_train_chi2_selected,y_train_1)\n",
    "    score2 = clf.score(x_validation_chi2_selected, y_valid_1)\n",
    "    score3 = clf.score(x_test_chi2_selected,Y_test_1)\n",
    "    ch2_result1.append(score1)\n",
    "    ch2_result2.append(score2)\n",
    "    ch2_result3.append(score3)\n",
    "    print (\"chi2 feature selection evaluation calculated for {} features\".format(n),score1, score2,score3)"
   ]
  },
  {
   "cell_type": "code",
   "execution_count": 76,
   "metadata": {},
   "outputs": [],
   "source": [
    "from sklearn.grid_search import GridSearchCV\n",
    "from sklearn.multiclass import OneVsRestClassifier\n",
    "from sklearn.ensemble import RandomForestClassifier\n",
    "from sklearn.naive_bayes import GaussianNB,MultinomialNB,BernoulliNB"
   ]
  },
  {
   "cell_type": "code",
   "execution_count": 71,
   "metadata": {},
   "outputs": [
    {
     "data": {
      "text/plain": [
       "MultinomialNB(alpha=1.0, class_prior=None, fit_prior=True)"
      ]
     },
     "execution_count": 71,
     "metadata": {},
     "output_type": "execute_result"
    }
   ],
   "source": [
    "MultinomialNB()"
   ]
  },
  {
   "cell_type": "code",
   "execution_count": 102,
   "metadata": {},
   "outputs": [
    {
     "name": "stdout",
     "output_type": "stream",
     "text": [
      "chi2 feature selection evaluation calculated for 10000 features 0.965674120243 0.900959919931 0.88201556739\n",
      "chi2 feature selection evaluation calculated for 20000 features 0.966151816383 0.900595969246 0.873002867677\n",
      "chi2 feature selection evaluation calculated for 30000 features 0.966197311253 0.900914426095 0.880376894715\n",
      "chi2 feature selection evaluation calculated for 40000 features 0.966436159323 0.901505845958 0.874231872184\n",
      "chi2 feature selection evaluation calculated for 50000 features 0.966436159323 0.901460352122 0.870954526833\n",
      "chi2 feature selection evaluation calculated for 60000 features 0.9661631901 0.901369364451 0.877509217534\n",
      "chi2 feature selection evaluation calculated for 70000 features 0.966367917017 0.900686956917 0.873002867677\n"
     ]
    }
   ],
   "source": [
    "ch2_result1 = []\n",
    "ch2_result2 = []\n",
    "ch2_result3 = []\n",
    "for n in np.arange(10000,78132,10000):\n",
    "    ch2 = SelectKBest(chi2, k=n)\n",
    "    \n",
    "    x_train_chi2_selected = ch2.fit_transform(x_train_tfidf, y_train_1)\n",
    "    x_validation_chi2_selected = ch2.transform(x_validation_tfidf)\n",
    "    x_test_chi2_selected=ch2.transform(x_test_tfidf)\n",
    "    \n",
    "    #clf = OneVsRestClassifier(MultinomialNB(alpha=0.5))\n",
    "    #clf = OneVsRestClassifier(BernoulliNB())\n",
    "    clf=OneVsRestClassifier(RandomForestClassifier())\n",
    "    clf.fit(x_train_chi2_selected, y_train_1)\n",
    "    score1 = clf.score(x_train_chi2_selected,y_train_1)\n",
    "    score2 = clf.score(x_validation_chi2_selected, y_valid_1)\n",
    "    score3 = clf.score(x_test_chi2_selected,Y_test_1)\n",
    "    ch2_result1.append(score1)\n",
    "    ch2_result2.append(score2)\n",
    "    ch2_result3.append(score3)\n",
    "    print (\"chi2 feature selection evaluation calculated for {} features\".format(n),score1, score2,score3)"
   ]
  },
  {
   "cell_type": "code",
   "execution_count": 111,
   "metadata": {},
   "outputs": [
    {
     "name": "stdout",
     "output_type": "stream",
     "text": [
      "chi2 feature selection evaluation calculated for 10000 features 0.993391870067 0.0 0.0\n",
      "chi2 feature selection evaluation calculated for 20000 features 0.995496007825 0.0 0.0\n",
      "chi2 feature selection evaluation calculated for 30000 features 0.996030572553 0.0 0.0\n",
      "chi2 feature selection evaluation calculated for 40000 features 0.996246673188 0.0 0.0\n",
      "chi2 feature selection evaluation calculated for 50000 features 0.996326289211 0.0 0.0\n",
      "chi2 feature selection evaluation calculated for 60000 features 0.99647414754 0.0 0.0\n",
      "chi2 feature selection evaluation calculated for 70000 features 0.99651964241 0.0 0.0\n",
      "chi2 feature selection evaluation calculated for 80000 features 0.996553763563 0.0 0.0\n"
     ]
    }
   ],
   "source": [
    "ch2_result1 = []\n",
    "ch2_result2 = []\n",
    "ch2_result3 = []\n",
    "for n in np.arange(10000,82806,10000):\n",
    "    ch2 = SelectKBest(chi2, k=n)\n",
    "    \n",
    "    x_train_chi2_selected = ch2.fit_transform(x_train_tfidf2, y_train_2)\n",
    "    x_validation_chi2_selected = ch2.transform(x_validation_tfidf2)\n",
    "    x_test_chi2_selected=ch2.transform(x_test_tfidf2)\n",
    "    \n",
    "    clf = LinearSVC(C=1.0,penalty='l2', max_iter=10000,multi_class='ovr',dual=True)\n",
    "    #clf = OneVsRestClassifier(BernoulliNB())\n",
    "    clf.fit(x_train_chi2_selected, y_train_2)\n",
    "    score1 = clf.score(x_train_chi2_selected,y_train_2)\n",
    "    score2 = clf.score(x_validation_chi2_selected, y_valid_1)\n",
    "    score3 = clf.score(x_test_chi2_selected,Y_test_1)\n",
    "    #ch2_result1.append(score1)\n",
    "    #ch2_result2.append(score2)\n",
    "    #ch2_result3.append(score3)\n",
    "    print (\"chi2 feature selection evaluation calculated for {} features\".format(n),score1, score2,score3)"
   ]
  },
  {
   "cell_type": "code",
   "execution_count": null,
   "metadata": {},
   "outputs": [],
   "source": []
  },
  {
   "cell_type": "code",
   "execution_count": null,
   "metadata": {},
   "outputs": [],
   "source": [
    "clf1 = linear_model.LogisticRegression(n_jobs=-1,multi_class='ovr',C=1.0,class_weight=\"balanced\",max_iter=3000)\n",
    "clf2 = linear_model.LogisticRegression(n_jobs=-1,multi_class='ovr',C=1.0,class_weight=\"balanced\",max_iter=3000)\n",
    "#clf3 = linear_model.LogisticRegression(n_jobs=-1,multi_class='ovr',C=1.0,class_weight=\"balanced\",max_iter=3000)\n",
    "\n",
    "clf_categories=clf1.fit(x_train_chi2_selected1, y_train_1)\n",
    "clf_sub_categories=clf2.fit(x_train_chi2_selected2, y_train_2)\n",
    "#clf_appointments=clf3.fit(x_train_chi2_selected3, y_train_3)"
   ]
  },
  {
   "cell_type": "code",
   "execution_count": null,
   "metadata": {},
   "outputs": [],
   "source": [
    "test_data[\"Categories2\"]=pd.DataFrame(clf_categories.predict(x_test_chi2_selected1))\n",
    "test_data[\"Sub_categories2\"]=pd.DataFrame(clf_sub_categories.predict(x_test_chi2_selected2))"
   ]
  },
  {
   "cell_type": "code",
   "execution_count": null,
   "metadata": {},
   "outputs": [],
   "source": []
  },
  {
   "cell_type": "code",
   "execution_count": 54,
   "metadata": {},
   "outputs": [],
   "source": [
    "predicted_Categories=pd.DataFrame(clf_categories.predict(x_train_chi2_selected1))"
   ]
  },
  {
   "cell_type": "code",
   "execution_count": 55,
   "metadata": {},
   "outputs": [
    {
     "data": {
      "text/plain": [
       "MISCELLANEOUS    5279\n",
       "APPOINTMENTS     3581\n",
       "PRESCRIPTION     1425\n",
       "ASK_A_DOCTOR      262\n",
       "LAB                72\n",
       "Name: Categories2, dtype: int64"
      ]
     },
     "execution_count": 55,
     "metadata": {},
     "output_type": "execute_result"
    }
   ],
   "source": [
    "test_data.Categories2.value_counts()"
   ]
  },
  {
   "cell_type": "code",
   "execution_count": 56,
   "metadata": {},
   "outputs": [
    {
     "data": {
      "text/plain": [
       "OTHERS                                           4944\n",
       "NEW APPOINTMENT                                  3253\n",
       "REFILL                                           1333\n",
       "RESCHEDULING                                      238\n",
       "SHARING OF HEALTH RECORDS (FAX, E-MAIL, ETC.)     228\n",
       "MEDICATION RELATED                                225\n",
       "PRIOR AUTHORIZATION                               125\n",
       "LAB RESULTS                                        71\n",
       "SYMPTOMS                                           66\n",
       "QUERY ON CURRENT APPOINTMENT                       38\n",
       "RUNNING LATE TO APPOINTMENT                        35\n",
       "PROVIDER                                           32\n",
       "CHANGE OF PROVIDER                                 19\n",
       "CANCELLATION                                       12\n",
       "Name: Sub_categories2, dtype: int64"
      ]
     },
     "execution_count": 56,
     "metadata": {},
     "output_type": "execute_result"
    }
   ],
   "source": [
    "test_data.Sub_categories2.value_counts()"
   ]
  },
  {
   "cell_type": "code",
   "execution_count": null,
   "metadata": {},
   "outputs": [],
   "source": [
    "\n",
    "    "
   ]
  },
  {
   "cell_type": "code",
   "execution_count": 76,
   "metadata": {},
   "outputs": [
    {
     "name": "stdout",
     "output_type": "stream",
     "text": [
      "Training took 1.323 seconds\n"
     ]
    }
   ],
   "source": [
    "import time\n",
    "start = time.time()\n",
    "test_result=[]\n",
    "for i in range (0,len(test_data)):\n",
    "        test_result.append(test_data.Categories2[i].rfind(test_data.Categories1[i]))\n",
    "print(\"Training took {:0.3f} seconds\".format(time.time()-start))"
   ]
  },
  {
   "cell_type": "code",
   "execution_count": 79,
   "metadata": {},
   "outputs": [],
   "source": [
    "test_data[\"test_categories_comparistion\"]=pd.DataFrame(test_result)"
   ]
  },
  {
   "cell_type": "code",
   "execution_count": 80,
   "metadata": {},
   "outputs": [
    {
     "name": "stdout",
     "output_type": "stream",
     "text": [
      "Training took 1.293 seconds\n"
     ]
    }
   ],
   "source": [
    "import time\n",
    "start = time.time()\n",
    "test_sub_result=[]\n",
    "for i in range (0,len(test_data)):\n",
    "        test_sub_result.append(test_data.Sub_categories2[i].rfind(test_data.Sub_categories1[i]))\n",
    "print(\"Training took {:0.3f} seconds\".format(time.time()-start))"
   ]
  },
  {
   "cell_type": "code",
   "execution_count": 81,
   "metadata": {},
   "outputs": [],
   "source": [
    "test_data[\"test_sub_categories_comparistion\"]=pd.DataFrame(test_sub_result)"
   ]
  },
  {
   "cell_type": "code",
   "execution_count": 82,
   "metadata": {},
   "outputs": [
    {
     "data": {
      "text/plain": [
       " 0    9160\n",
       "-1    1459\n",
       "Name: test_categories_comparistion, dtype: int64"
      ]
     },
     "execution_count": 82,
     "metadata": {},
     "output_type": "execute_result"
    }
   ],
   "source": [
    "test_data.test_categories_comparistion.value_counts()"
   ]
  },
  {
   "cell_type": "code",
   "execution_count": 83,
   "metadata": {},
   "outputs": [
    {
     "data": {
      "text/plain": [
       " 0    8904\n",
       "-1    1715\n",
       "Name: test_sub_categories_comparistion, dtype: int64"
      ]
     },
     "execution_count": 83,
     "metadata": {},
     "output_type": "execute_result"
    }
   ],
   "source": [
    "test_data.test_sub_categories_comparistion.value_counts()"
   ]
  },
  {
   "cell_type": "code",
   "execution_count": 87,
   "metadata": {},
   "outputs": [],
   "source": [
    "notmatched_data_categories=test_data.loc[test_data['test_categories_comparistion'] == -1]"
   ]
  },
  {
   "cell_type": "code",
   "execution_count": 88,
   "metadata": {},
   "outputs": [],
   "source": [
    "notmatched_data_sub_categories=test_data.loc[test_data['test_sub_categories_comparistion'] == -1]"
   ]
  },
  {
   "cell_type": "code",
   "execution_count": 90,
   "metadata": {},
   "outputs": [
    {
     "data": {
      "text/plain": [
       "Index(['tran_id', 'tran_date', 'forwhom_id', 'schedule_note', 'Categories1',\n",
       "       'Sub_categories1', 'Previous_Appointment', 'Categories_pred',\n",
       "       'Sub_categories_pred', 'Previous_appointments_pred', 'schedule_note1',\n",
       "       'Categories2', 'Sub_categories2', 'test_categories_comparistion',\n",
       "       'test_sub_categories_comparistion'],\n",
       "      dtype='object')"
      ]
     },
     "execution_count": 90,
     "metadata": {},
     "output_type": "execute_result"
    }
   ],
   "source": [
    "notmatched_data_categories.columns"
   ]
  },
  {
   "cell_type": "code",
   "execution_count": 91,
   "metadata": {},
   "outputs": [],
   "source": [
    "notmatched_data_categories=notmatched_data_categories[['tran_id', 'tran_date', 'forwhom_id', 'schedule_note','schedule_note1','Categories1',\n",
    "       'Sub_categories1', 'Previous_Appointment','Categories2', 'Sub_categories2','Previous_appointments_pred','test_categories_comparistion',\n",
    "       'test_sub_categories_comparistion']]"
   ]
  },
  {
   "cell_type": "code",
   "execution_count": 92,
   "metadata": {},
   "outputs": [
    {
     "data": {
      "text/plain": [
       "Index(['tran_id', 'tran_date', 'forwhom_id', 'schedule_note', 'Categories1',\n",
       "       'Sub_categories1', 'Previous_Appointment', 'Categories_pred',\n",
       "       'Sub_categories_pred', 'Previous_appointments_pred', 'schedule_note1',\n",
       "       'Categories2', 'Sub_categories2', 'test_categories_comparistion',\n",
       "       'test_sub_categories_comparistion'],\n",
       "      dtype='object')"
      ]
     },
     "execution_count": 92,
     "metadata": {},
     "output_type": "execute_result"
    }
   ],
   "source": [
    "notmatched_data_sub_categories.columns"
   ]
  },
  {
   "cell_type": "code",
   "execution_count": 93,
   "metadata": {},
   "outputs": [],
   "source": [
    "notmatched_data_sub_categories=notmatched_data_sub_categories[['tran_id', 'tran_date', 'forwhom_id', 'schedule_note','schedule_note1','Categories1',\n",
    "       'Sub_categories1', 'Previous_Appointment','Categories2', 'Sub_categories2','Previous_appointments_pred','test_categories_comparistion',\n",
    "       'test_sub_categories_comparistion']]"
   ]
  },
  {
   "cell_type": "code",
   "execution_count": 97,
   "metadata": {},
   "outputs": [
    {
     "name": "stdout",
     "output_type": "stream",
     "text": [
      "OTHERS                                           857\n",
      "MEDICATION RELATED                               184\n",
      "REFILL                                           140\n",
      "NEW APPOINTMENT                                  128\n",
      "SHARING OF HEALTH RECORDS (FAX, E-MAIL, ETC.)     78\n",
      "PRIOR AUTHORIZATION                               76\n",
      "RESCHEDULING                                      69\n",
      "LAB RESULTS                                       42\n",
      "SYMPTOMS                                          41\n",
      "QUERY ON CURRENT APPOINTMENT                      37\n",
      "PROVIDER                                          29\n",
      "CHANGE OF PROVIDER                                19\n",
      "CANCELLATION                                       8\n",
      "RUNNING LATE TO APPOINTMENT                        7\n",
      "Name: Sub_categories2, dtype: int64 \n",
      " \n",
      " NEW APPOINTMENT                                  1064\n",
      "OTHERS                                            441\n",
      "PRIOR AUTHORIZATION                                66\n",
      "REFILL                                             43\n",
      "SHARING OF HEALTH RECORDS (FAX, E-MAIL, ETC.)      39\n",
      "MEDICATION RELATED                                 23\n",
      "SYMPTOMS                                           20\n",
      "RESCHEDULING                                        7\n",
      "QUERY ON CURRENT APPOINTMENT                        4\n",
      "LAB RESULTS                                         3\n",
      "SHARING OF LAB RECORDS (FAX, E-MAIL, ETC.)          1\n",
      "RUNNING LATE TO APPOINTMENT                         1\n",
      "CHANGE OF PROVIDER                                  1\n",
      "CHANGE OF PHARMACY                                  1\n",
      "CANCELLATION                                        1\n",
      "PROVIDER                                            0\n",
      "Name: Sub_categories1, dtype: int64\n"
     ]
    }
   ],
   "source": [
    "print(notmatched_data_sub_categories.Sub_categories2.value_counts(),\n",
    "\"\\n \\n\",\n",
    "      notmatched_data_sub_categories.Sub_categories1.value_counts())"
   ]
  },
  {
   "cell_type": "code",
   "execution_count": 94,
   "metadata": {},
   "outputs": [],
   "source": [
    "notmatched_data_sub_categories.to_csv(\"notmatched_data_sub_categories.csv\",index=False)\n",
    "notmatched_data_categories.to_csv(\"notmatched_data_categories.csv\",index=False)"
   ]
  },
  {
   "cell_type": "code",
   "execution_count": 57,
   "metadata": {},
   "outputs": [],
   "source": [
    "#test_data.loc[test_data.Categories2 == \"JUNK\", 'Categories2'] = \"MISCELLANEOUS\""
   ]
  },
  {
   "cell_type": "code",
   "execution_count": 58,
   "metadata": {},
   "outputs": [
    {
     "data": {
      "text/plain": [
       "MISCELLANEOUS    5279\n",
       "APPOINTMENTS     3581\n",
       "PRESCRIPTION     1425\n",
       "ASK_A_DOCTOR      262\n",
       "LAB                72\n",
       "Name: Categories2, dtype: int64"
      ]
     },
     "execution_count": 58,
     "metadata": {},
     "output_type": "execute_result"
    }
   ],
   "source": [
    "test_data.Categories2.value_counts()"
   ]
  },
  {
   "cell_type": "code",
   "execution_count": 59,
   "metadata": {},
   "outputs": [],
   "source": [
    "#test_data.loc[test_data.Sub_categories2 == \"JUNK\", 'Sub_categories2'] = \"OTHERS\""
   ]
  },
  {
   "cell_type": "code",
   "execution_count": 60,
   "metadata": {},
   "outputs": [
    {
     "data": {
      "text/plain": [
       "OTHERS                                           4944\n",
       "NEW APPOINTMENT                                  3253\n",
       "REFILL                                           1333\n",
       "RESCHEDULING                                      238\n",
       "SHARING OF HEALTH RECORDS (FAX, E-MAIL, ETC.)     228\n",
       "MEDICATION RELATED                                225\n",
       "PRIOR AUTHORIZATION                               125\n",
       "LAB RESULTS                                        71\n",
       "SYMPTOMS                                           66\n",
       "QUERY ON CURRENT APPOINTMENT                       38\n",
       "RUNNING LATE TO APPOINTMENT                        35\n",
       "PROVIDER                                           32\n",
       "CHANGE OF PROVIDER                                 19\n",
       "CANCELLATION                                       12\n",
       "Name: Sub_categories2, dtype: int64"
      ]
     },
     "execution_count": 60,
     "metadata": {},
     "output_type": "execute_result"
    }
   ],
   "source": [
    "test_data.Sub_categories2.value_counts()"
   ]
  },
  {
   "cell_type": "code",
   "execution_count": 61,
   "metadata": {},
   "outputs": [
    {
     "data": {
      "text/plain": [
       "0.90901025909328725"
      ]
     },
     "execution_count": 61,
     "metadata": {},
     "output_type": "execute_result"
    }
   ],
   "source": [
    "clf1.score(x_train_chi2_selected1,y_train_1)"
   ]
  },
  {
   "cell_type": "code",
   "execution_count": 62,
   "metadata": {},
   "outputs": [
    {
     "data": {
      "text/plain": [
       "0.89086028843091758"
      ]
     },
     "execution_count": 62,
     "metadata": {},
     "output_type": "execute_result"
    }
   ],
   "source": [
    "clf1.score(x_validation_chi2_selected1,y_valid_1)"
   ]
  },
  {
   "cell_type": "code",
   "execution_count": 63,
   "metadata": {},
   "outputs": [
    {
     "data": {
      "text/plain": [
       "0.85655793639961786"
      ]
     },
     "execution_count": 63,
     "metadata": {},
     "output_type": "execute_result"
    }
   ],
   "source": [
    "clf2.score(x_validation_chi2_selected2,y_valid_2)"
   ]
  },
  {
   "cell_type": "code",
   "execution_count": 64,
   "metadata": {},
   "outputs": [
    {
     "data": {
      "text/plain": [
       "0.87784627283273808"
      ]
     },
     "execution_count": 64,
     "metadata": {},
     "output_type": "execute_result"
    }
   ],
   "source": [
    "clf2.score(x_train_chi2_selected2,y_train_2)"
   ]
  },
  {
   "cell_type": "code",
   "execution_count": 65,
   "metadata": {},
   "outputs": [
    {
     "data": {
      "text/plain": [
       "0.86260476504378947"
      ]
     },
     "execution_count": 65,
     "metadata": {},
     "output_type": "execute_result"
    }
   ],
   "source": [
    "clf.score(x_test_chi2_selected,Y_test_1)"
   ]
  },
  {
   "cell_type": "code",
   "execution_count": 66,
   "metadata": {},
   "outputs": [
    {
     "data": {
      "text/plain": [
       "0.83849703361898487"
      ]
     },
     "execution_count": 66,
     "metadata": {},
     "output_type": "execute_result"
    }
   ],
   "source": [
    "clf2.score(x_test_chi2_selected2,Y_test_2)"
   ]
  },
  {
   "cell_type": "code",
   "execution_count": 67,
   "metadata": {},
   "outputs": [
    {
     "name": "stdout",
     "output_type": "stream",
     "text": [
      "[[3417  102   17  792   75]\n",
      " [  10   78    1   14    6]\n",
      " [   0    0   29    5    0]\n",
      " [ 146   60   25 4390   98]\n",
      " [   8   22    0   78 1246]]\n"
     ]
    }
   ],
   "source": [
    "print(confusion_matrix(Y_test_1,test_data.Categories2))"
   ]
  },
  {
   "cell_type": "code",
   "execution_count": 68,
   "metadata": {},
   "outputs": [
    {
     "name": "stdout",
     "output_type": "stream",
     "text": [
      "               precision    recall  f1-score   support\n",
      "\n",
      " APPOINTMENTS       0.95      0.78      0.86      4403\n",
      " ASK_A_DOCTOR       0.30      0.72      0.42       109\n",
      "          LAB       0.40      0.85      0.55        34\n",
      "MISCELLANEOUS       0.83      0.93      0.88      4719\n",
      " PRESCRIPTION       0.87      0.92      0.90      1354\n",
      "\n",
      "  avg / total       0.88      0.86      0.87     10619\n",
      "\n"
     ]
    }
   ],
   "source": [
    "print(classification_report(Y_test_1,test_data.Categories2))"
   ]
  },
  {
   "cell_type": "code",
   "execution_count": 400,
   "metadata": {},
   "outputs": [
    {
     "data": {
      "text/plain": [
       "['clf2_Sub_Categories.model']"
      ]
     },
     "execution_count": 400,
     "metadata": {},
     "output_type": "execute_result"
    }
   ],
   "source": [
    "#saving model\n",
    "\n",
    "from sklearn.externals import joblib\n",
    "joblib.dump(clf1, 'clf1_Categories.model')\n",
    "joblib.dump(clf2, 'clf2_Sub_Categories.model')"
   ]
  },
  {
   "cell_type": "code",
   "execution_count": 401,
   "metadata": {},
   "outputs": [],
   "source": [
    "#Loding model\n",
    "fittedModel = joblib.load('clf1_Categories.model')\n",
    "#\n",
    "#fittedModel.predict(X_new)"
   ]
  },
  {
   "cell_type": "code",
   "execution_count": 490,
   "metadata": {},
   "outputs": [
    {
     "data": {
      "text/html": [
       "<div>\n",
       "<style scoped>\n",
       "    .dataframe tbody tr th:only-of-type {\n",
       "        vertical-align: middle;\n",
       "    }\n",
       "\n",
       "    .dataframe tbody tr th {\n",
       "        vertical-align: top;\n",
       "    }\n",
       "\n",
       "    .dataframe thead th {\n",
       "        text-align: right;\n",
       "    }\n",
       "</style>\n",
       "<table border=\"1\" class=\"dataframe\">\n",
       "  <thead>\n",
       "    <tr style=\"text-align: right;\">\n",
       "      <th></th>\n",
       "      <th>APPOINTMENTS</th>\n",
       "      <th>ASK_A_DOCTOR</th>\n",
       "      <th>LAB</th>\n",
       "      <th>MISCELLANEOUS</th>\n",
       "      <th>PRESCRIPTION</th>\n",
       "    </tr>\n",
       "  </thead>\n",
       "  <tbody>\n",
       "    <tr>\n",
       "      <th>APPOINTMENTS</th>\n",
       "      <td>38235</td>\n",
       "      <td>678</td>\n",
       "      <td>89</td>\n",
       "      <td>3467</td>\n",
       "      <td>296</td>\n",
       "    </tr>\n",
       "    <tr>\n",
       "      <th>ASK_A_DOCTOR</th>\n",
       "      <td>74</td>\n",
       "      <td>1694</td>\n",
       "      <td>22</td>\n",
       "      <td>75</td>\n",
       "      <td>22</td>\n",
       "    </tr>\n",
       "    <tr>\n",
       "      <th>LAB</th>\n",
       "      <td>11</td>\n",
       "      <td>0</td>\n",
       "      <td>604</td>\n",
       "      <td>11</td>\n",
       "      <td>0</td>\n",
       "    </tr>\n",
       "    <tr>\n",
       "      <th>MISCELLANEOUS</th>\n",
       "      <td>2582</td>\n",
       "      <td>734</td>\n",
       "      <td>222</td>\n",
       "      <td>41072</td>\n",
       "      <td>377</td>\n",
       "    </tr>\n",
       "    <tr>\n",
       "      <th>PRESCRIPTION</th>\n",
       "      <td>106</td>\n",
       "      <td>88</td>\n",
       "      <td>5</td>\n",
       "      <td>210</td>\n",
       "      <td>8238</td>\n",
       "    </tr>\n",
       "  </tbody>\n",
       "</table>\n",
       "</div>"
      ],
      "text/plain": [
       "               APPOINTMENTS  ASK_A_DOCTOR   LAB  MISCELLANEOUS  PRESCRIPTION\n",
       "APPOINTMENTS          38235            678   89           3467           296\n",
       "ASK_A_DOCTOR             74           1694   22             75            22\n",
       "LAB                      11              0  604             11             0\n",
       "MISCELLANEOUS          2582            734  222          41072           377\n",
       "PRESCRIPTION            106             88    5            210          8238"
      ]
     },
     "execution_count": 490,
     "metadata": {},
     "output_type": "execute_result"
    }
   ],
   "source": [
    "pd.DataFrame(confusion_matrix(y_train_1,predicted_Categories),[\"APPOINTMENTS\",\"ASK_A_DOCTOR \",\"LAB\",\"MISCELLANEOUS\",\"PRESCRIPTION\"],[\"APPOINTMENTS\",\"ASK_A_DOCTOR \",\"LAB\",\"MISCELLANEOUS\",\"PRESCRIPTION\"])\n"
   ]
  },
  {
   "cell_type": "code",
   "execution_count": 403,
   "metadata": {},
   "outputs": [],
   "source": [
    "import tables\n",
    "from tabulate import tabulate"
   ]
  },
  {
   "cell_type": "code",
   "execution_count": 473,
   "metadata": {},
   "outputs": [
    {
     "name": "stdout",
     "output_type": "stream",
     "text": [
      "predicted values:{}\n",
      "\n",
      " MISCELLANEOUS    5262\n",
      "APPOINTMENTS     3597\n",
      "PRESCRIPTION     1425\n",
      "ASK_A_DOCTOR      263\n",
      "LAB                72\n",
      "Name: Categories2, dtype: int64 \n",
      "\n",
      " actual values:{}\n",
      "\n",
      " MISCELLANEOUS    4719\n",
      "APPOINTMENTS     4403\n",
      "PRESCRIPTION     1354\n",
      "ASK_A_DOCTOR      109\n",
      "LAB                34\n",
      "Name: Categories1, dtype: int64\n"
     ]
    },
    {
     "data": {
      "text/html": [
       "<div>\n",
       "<style scoped>\n",
       "    .dataframe tbody tr th:only-of-type {\n",
       "        vertical-align: middle;\n",
       "    }\n",
       "\n",
       "    .dataframe tbody tr th {\n",
       "        vertical-align: top;\n",
       "    }\n",
       "\n",
       "    .dataframe thead th {\n",
       "        text-align: right;\n",
       "    }\n",
       "</style>\n",
       "<table border=\"1\" class=\"dataframe\">\n",
       "  <thead>\n",
       "    <tr style=\"text-align: right;\">\n",
       "      <th></th>\n",
       "      <th>APPOINTMENTS</th>\n",
       "      <th>ASK_A_DOCTOR</th>\n",
       "      <th>LAB</th>\n",
       "      <th>MISCELLANEOUS</th>\n",
       "      <th>PRESCRIPTION</th>\n",
       "    </tr>\n",
       "  </thead>\n",
       "  <tbody>\n",
       "    <tr>\n",
       "      <th>APPOINTMENTS</th>\n",
       "      <td>3437</td>\n",
       "      <td>104</td>\n",
       "      <td>17</td>\n",
       "      <td>778</td>\n",
       "      <td>67</td>\n",
       "    </tr>\n",
       "    <tr>\n",
       "      <th>ASK_A_DOCTOR</th>\n",
       "      <td>10</td>\n",
       "      <td>78</td>\n",
       "      <td>1</td>\n",
       "      <td>14</td>\n",
       "      <td>6</td>\n",
       "    </tr>\n",
       "    <tr>\n",
       "      <th>LAB</th>\n",
       "      <td>1</td>\n",
       "      <td>0</td>\n",
       "      <td>29</td>\n",
       "      <td>4</td>\n",
       "      <td>0</td>\n",
       "    </tr>\n",
       "    <tr>\n",
       "      <th>MISCELLANEOUS</th>\n",
       "      <td>142</td>\n",
       "      <td>59</td>\n",
       "      <td>25</td>\n",
       "      <td>4391</td>\n",
       "      <td>102</td>\n",
       "    </tr>\n",
       "    <tr>\n",
       "      <th>PRESCRIPTION</th>\n",
       "      <td>7</td>\n",
       "      <td>22</td>\n",
       "      <td>0</td>\n",
       "      <td>75</td>\n",
       "      <td>1250</td>\n",
       "    </tr>\n",
       "  </tbody>\n",
       "</table>\n",
       "</div>"
      ],
      "text/plain": [
       "               APPOINTMENTS  ASK_A_DOCTOR   LAB  MISCELLANEOUS  PRESCRIPTION\n",
       "APPOINTMENTS           3437            104   17            778            67\n",
       "ASK_A_DOCTOR             10             78    1             14             6\n",
       "LAB                       1              0   29              4             0\n",
       "MISCELLANEOUS           142             59   25           4391           102\n",
       "PRESCRIPTION              7             22    0             75          1250"
      ]
     },
     "execution_count": 473,
     "metadata": {},
     "output_type": "execute_result"
    }
   ],
   "source": [
    "\n",
    "print(\"predicted values:{}\\n\\n\",test_data.Categories2.value_counts(),\"\\n\\n actual values:{}\\n\\n\",Y_test_1.value_counts())\n",
    "\n",
    "pd.DataFrame(confusion_matrix(Y_test_1,test_data.Categories2),[\"APPOINTMENTS\",\"ASK_A_DOCTOR \",\"LAB\",\"MISCELLANEOUS\",\"PRESCRIPTION\"],[\"APPOINTMENTS\",\"ASK_A_DOCTOR \",\"LAB\",\"MISCELLANEOUS\",\"PRESCRIPTION\"])\n"
   ]
  },
  {
   "cell_type": "code",
   "execution_count": 406,
   "metadata": {},
   "outputs": [],
   "source": [
    "# I above confusion matrix we can see that \n",
    "#pd.DataFrame(confusion_matrix(Y_test_1,test_data.Categories2),[\"APPOINTMENTS\",\"ASK_A_DOCTOR \",\"LAB\",\"MISCELLANEOUS\",\"PRESCRIPTION\"],[\"APPOINTMENTS\",\"ASK_A_DOCTOR \",\"LAB\",\"MISCELLANEOUS\",\"PRESCRIPTION\"]).to_csv(\"IPM_May_confusion_matrix_report.csv\")\n"
   ]
  },
  {
   "cell_type": "code",
   "execution_count": null,
   "metadata": {},
   "outputs": [],
   "source": [
    "test_data.Categories2.value_counts(),\"\\n\",\"\\n\",Y_test_1.value_counts()"
   ]
  },
  {
   "cell_type": "code",
   "execution_count": 407,
   "metadata": {},
   "outputs": [
    {
     "data": {
      "text/plain": [
       "0.86495903569074306"
      ]
     },
     "execution_count": 407,
     "metadata": {},
     "output_type": "execute_result"
    }
   ],
   "source": [
    "accuracy_score(Y_test_1,test_data.Categories2)"
   ]
  },
  {
   "cell_type": "code",
   "execution_count": 410,
   "metadata": {},
   "outputs": [
    {
     "data": {
      "text/plain": [
       "(OTHERS                                           4918\n",
       " NEW APPOINTMENT                                  3277\n",
       " REFILL                                           1332\n",
       " RESCHEDULING                                      238\n",
       " SHARING OF HEALTH RECORDS (FAX, E-MAIL, ETC.)     236\n",
       " MEDICATION RELATED                                230\n",
       " PRIOR AUTHORIZATION                               115\n",
       " LAB RESULTS                                        72\n",
       " SYMPTOMS                                           68\n",
       " RUNNING LATE TO APPOINTMENT                        36\n",
       " QUERY ON CURRENT APPOINTMENT                       36\n",
       " PROVIDER                                           31\n",
       " CHANGE OF PROVIDER                                 17\n",
       " CANCELLATION                                       13\n",
       " Name: Sub_categories2, dtype: int64,\n",
       " OTHERS                                           4528\n",
       " NEW APPOINTMENT                                  4189\n",
       " REFILL                                           1236\n",
       " SHARING OF HEALTH RECORDS (FAX, E-MAIL, ETC.)     189\n",
       " RESCHEDULING                                      176\n",
       " PRIOR AUTHORIZATION                               115\n",
       " MEDICATION RELATED                                 64\n",
       " SYMPTOMS                                           45\n",
       " LAB RESULTS                                        32\n",
       " RUNNING LATE TO APPOINTMENT                        29\n",
       " QUERY ON CURRENT APPOINTMENT                        5\n",
       " CANCELLATION                                        5\n",
       " PROVIDER                                            3\n",
       " SHARING OF LAB RECORDS (FAX, E-MAIL, ETC.)          1\n",
       " CHANGE OF PROVIDER                                  1\n",
       " CHANGE OF PHARMACY                                  1\n",
       " Name: Sub_categories1, dtype: int64)"
      ]
     },
     "execution_count": 410,
     "metadata": {},
     "output_type": "execute_result"
    }
   ],
   "source": [
    "test_data.Sub_categories2.value_counts(),Y_test_2.value_counts()"
   ]
  },
  {
   "cell_type": "code",
   "execution_count": 477,
   "metadata": {},
   "outputs": [
    {
     "data": {
      "text/plain": [
       "(16, 18)"
      ]
     },
     "execution_count": 477,
     "metadata": {},
     "output_type": "execute_result"
    }
   ],
   "source": [
    "len(Y_test_2.value_counts()),len(y_train_2.value_counts())"
   ]
  },
  {
   "cell_type": "code",
   "execution_count": 411,
   "metadata": {},
   "outputs": [
    {
     "data": {
      "text/plain": [
       "OTHERS                                           44390\n",
       "NEW APPOINTMENT                                  39208\n",
       "REFILL                                            8048\n",
       "RESCHEDULING                                      2923\n",
       "MEDICATION RELATED                                1536\n",
       "LAB RESULTS                                        571\n",
       "PRIOR AUTHORIZATION                                548\n",
       "SHARING OF HEALTH RECORDS (FAX, E-MAIL, ETC.)      493\n",
       "SYMPTOMS                                           351\n",
       "RUNNING LATE TO APPOINTMENT                        298\n",
       "QUERY ON CURRENT APPOINTMENT                       267\n",
       "CHANGE OF PROVIDER                                 103\n",
       "CANCELLATION                                        70\n",
       "SHARING OF LAB RECORDS (FAX, E-MAIL, ETC.)          54\n",
       "PROVIDER                                            49\n",
       "QUERIES FROM PHARMACY                                1\n",
       "FOLLOW UP ON PREVIOUS REQUEST                        1\n",
       "CHANGE OF HOSPITAL                                   1\n",
       "Name: Sub_categories1, dtype: int64"
      ]
     },
     "execution_count": 411,
     "metadata": {},
     "output_type": "execute_result"
    }
   ],
   "source": [
    "y_train_2.value_counts()"
   ]
  },
  {
   "cell_type": "code",
   "execution_count": 478,
   "metadata": {},
   "outputs": [
    {
     "name": "stdout",
     "output_type": "stream",
     "text": [
      "                                               precision    recall  f1-score   support\n",
      "\n",
      "                                 CANCELLATION       0.38      1.00      0.56         5\n",
      "                           CHANGE OF PHARMACY       0.00      0.00      0.00         1\n",
      "                           CHANGE OF PROVIDER       0.00      0.00      0.00         1\n",
      "                                  LAB RESULTS       0.40      0.91      0.56        32\n",
      "                           MEDICATION RELATED       0.18      0.66      0.29        64\n",
      "                              NEW APPOINTMENT       0.96      0.75      0.84      4189\n",
      "                                       OTHERS       0.83      0.90      0.87      4528\n",
      "                          PRIOR AUTHORIZATION       0.43      0.42      0.42       115\n",
      "                                     PROVIDER       0.10      1.00      0.18         3\n",
      "                 QUERY ON CURRENT APPOINTMENT       0.03      0.20      0.04         5\n",
      "                                       REFILL       0.89      0.97      0.93      1236\n",
      "                                 RESCHEDULING       0.71      0.96      0.81       176\n",
      "                  RUNNING LATE TO APPOINTMENT       0.76      0.97      0.85        29\n",
      "SHARING OF HEALTH RECORDS (FAX, E-MAIL, ETC.)       0.66      0.82      0.73       189\n",
      "   SHARING OF LAB RECORDS (FAX, E-MAIL, ETC.)       0.00      0.00      0.00         1\n",
      "                                     SYMPTOMS       0.39      0.58      0.46        45\n",
      "\n",
      "                                  avg / total       0.87      0.84      0.85     10619\n",
      "\n"
     ]
    }
   ],
   "source": [
    "print(classification_report(Y_test_2,test_data.Sub_categories2))"
   ]
  },
  {
   "cell_type": "code",
   "execution_count": null,
   "metadata": {},
   "outputs": [],
   "source": []
  },
  {
   "cell_type": "code",
   "execution_count": 113,
   "metadata": {},
   "outputs": [
    {
     "name": "stdout",
     "output_type": "stream",
     "text": [
      "predicted values:{}\n",
      "\n",
      " OTHERS                                           4944\n",
      "NEW APPOINTMENT                                  3253\n",
      "REFILL                                           1333\n",
      "RESCHEDULING                                      238\n",
      "SHARING OF HEALTH RECORDS (FAX, E-MAIL, ETC.)     228\n",
      "MEDICATION RELATED                                225\n",
      "PRIOR AUTHORIZATION                               125\n",
      "LAB RESULTS                                        71\n",
      "SYMPTOMS                                           66\n",
      "QUERY ON CURRENT APPOINTMENT                       38\n",
      "RUNNING LATE TO APPOINTMENT                        35\n",
      "PROVIDER                                           32\n",
      "CHANGE OF PROVIDER                                 19\n",
      "CANCELLATION                                       12\n",
      "Name: Sub_categories2, dtype: int64 \n",
      "\n",
      " actual values:{}\n",
      "\n",
      " OTHERS                                           4528\n",
      "NEW APPOINTMENT                                  4189\n",
      "REFILL                                           1236\n",
      "SHARING OF HEALTH RECORDS (FAX, E-MAIL, ETC.)     189\n",
      "RESCHEDULING                                      176\n",
      "PRIOR AUTHORIZATION                               115\n",
      "MEDICATION RELATED                                 64\n",
      "SYMPTOMS                                           45\n",
      "LAB RESULTS                                        32\n",
      "RUNNING LATE TO APPOINTMENT                        29\n",
      "QUERY ON CURRENT APPOINTMENT                        5\n",
      "CANCELLATION                                        5\n",
      "PROVIDER                                            3\n",
      "SHARING OF LAB RECORDS (FAX, E-MAIL, ETC.)          1\n",
      "CHANGE OF PROVIDER                                  1\n",
      "CHANGE OF PHARMACY                                  1\n",
      "Name: Sub_categories1, dtype: int64\n"
     ]
    },
    {
     "data": {
      "text/html": [
       "<div>\n",
       "<style scoped>\n",
       "    .dataframe tbody tr th:only-of-type {\n",
       "        vertical-align: middle;\n",
       "    }\n",
       "\n",
       "    .dataframe tbody tr th {\n",
       "        vertical-align: top;\n",
       "    }\n",
       "\n",
       "    .dataframe thead th {\n",
       "        text-align: right;\n",
       "    }\n",
       "</style>\n",
       "<table border=\"1\" class=\"dataframe\">\n",
       "  <thead>\n",
       "    <tr style=\"text-align: right;\">\n",
       "      <th></th>\n",
       "      <th>CANCELLATION</th>\n",
       "      <th>CHANGE OF PHARMACY</th>\n",
       "      <th>CHANGE OF PROVIDER</th>\n",
       "      <th>LAB RESULTS</th>\n",
       "      <th>MEDICATION RELATED</th>\n",
       "      <th>NEW APPOINTMENT</th>\n",
       "      <th>OTHERS</th>\n",
       "      <th>PRIOR AUTHORIZATION</th>\n",
       "      <th>PROVIDER</th>\n",
       "      <th>QUERY ON CURRENT APPOINTMENT</th>\n",
       "      <th>REFILL</th>\n",
       "      <th>RESCHEDULING</th>\n",
       "      <th>RUNNING LATE TO APPOINTMENT</th>\n",
       "      <th>SHARING OF HEALTH RECORDS</th>\n",
       "      <th>SHARING OF LAB RECORDS</th>\n",
       "      <th>SYMPTOMS</th>\n",
       "    </tr>\n",
       "  </thead>\n",
       "  <tbody>\n",
       "    <tr>\n",
       "      <th>CANCELLATION</th>\n",
       "      <td>4</td>\n",
       "      <td>0</td>\n",
       "      <td>0</td>\n",
       "      <td>0</td>\n",
       "      <td>0</td>\n",
       "      <td>0</td>\n",
       "      <td>1</td>\n",
       "      <td>0</td>\n",
       "      <td>0</td>\n",
       "      <td>0</td>\n",
       "      <td>0</td>\n",
       "      <td>0</td>\n",
       "      <td>0</td>\n",
       "      <td>0</td>\n",
       "      <td>0</td>\n",
       "      <td>0</td>\n",
       "    </tr>\n",
       "    <tr>\n",
       "      <th>CHANGE OF PHARMACY</th>\n",
       "      <td>0</td>\n",
       "      <td>0</td>\n",
       "      <td>0</td>\n",
       "      <td>0</td>\n",
       "      <td>0</td>\n",
       "      <td>0</td>\n",
       "      <td>0</td>\n",
       "      <td>0</td>\n",
       "      <td>0</td>\n",
       "      <td>0</td>\n",
       "      <td>0</td>\n",
       "      <td>0</td>\n",
       "      <td>1</td>\n",
       "      <td>0</td>\n",
       "      <td>0</td>\n",
       "      <td>0</td>\n",
       "    </tr>\n",
       "    <tr>\n",
       "      <th>CHANGE OF PROVIDER</th>\n",
       "      <td>0</td>\n",
       "      <td>0</td>\n",
       "      <td>0</td>\n",
       "      <td>0</td>\n",
       "      <td>1</td>\n",
       "      <td>0</td>\n",
       "      <td>0</td>\n",
       "      <td>0</td>\n",
       "      <td>0</td>\n",
       "      <td>0</td>\n",
       "      <td>0</td>\n",
       "      <td>0</td>\n",
       "      <td>0</td>\n",
       "      <td>0</td>\n",
       "      <td>0</td>\n",
       "      <td>0</td>\n",
       "    </tr>\n",
       "    <tr>\n",
       "      <th>LAB RESULTS</th>\n",
       "      <td>1</td>\n",
       "      <td>0</td>\n",
       "      <td>0</td>\n",
       "      <td>29</td>\n",
       "      <td>0</td>\n",
       "      <td>0</td>\n",
       "      <td>2</td>\n",
       "      <td>0</td>\n",
       "      <td>0</td>\n",
       "      <td>0</td>\n",
       "      <td>0</td>\n",
       "      <td>0</td>\n",
       "      <td>0</td>\n",
       "      <td>0</td>\n",
       "      <td>0</td>\n",
       "      <td>0</td>\n",
       "    </tr>\n",
       "    <tr>\n",
       "      <th>MEDICATION RELATED</th>\n",
       "      <td>0</td>\n",
       "      <td>0</td>\n",
       "      <td>0</td>\n",
       "      <td>1</td>\n",
       "      <td>41</td>\n",
       "      <td>5</td>\n",
       "      <td>9</td>\n",
       "      <td>1</td>\n",
       "      <td>3</td>\n",
       "      <td>0</td>\n",
       "      <td>4</td>\n",
       "      <td>0</td>\n",
       "      <td>0</td>\n",
       "      <td>0</td>\n",
       "      <td>0</td>\n",
       "      <td>0</td>\n",
       "    </tr>\n",
       "    <tr>\n",
       "      <th>NEW APPOINTMENT</th>\n",
       "      <td>3</td>\n",
       "      <td>0</td>\n",
       "      <td>9</td>\n",
       "      <td>19</td>\n",
       "      <td>80</td>\n",
       "      <td>3125</td>\n",
       "      <td>753</td>\n",
       "      <td>14</td>\n",
       "      <td>8</td>\n",
       "      <td>18</td>\n",
       "      <td>71</td>\n",
       "      <td>55</td>\n",
       "      <td>3</td>\n",
       "      <td>3</td>\n",
       "      <td>0</td>\n",
       "      <td>28</td>\n",
       "    </tr>\n",
       "    <tr>\n",
       "      <th>OTHERS</th>\n",
       "      <td>4</td>\n",
       "      <td>0</td>\n",
       "      <td>9</td>\n",
       "      <td>20</td>\n",
       "      <td>62</td>\n",
       "      <td>106</td>\n",
       "      <td>4087</td>\n",
       "      <td>57</td>\n",
       "      <td>16</td>\n",
       "      <td>18</td>\n",
       "      <td>58</td>\n",
       "      <td>11</td>\n",
       "      <td>3</td>\n",
       "      <td>74</td>\n",
       "      <td>0</td>\n",
       "      <td>3</td>\n",
       "    </tr>\n",
       "    <tr>\n",
       "      <th>PRIOR AUTHORIZATION</th>\n",
       "      <td>0</td>\n",
       "      <td>0</td>\n",
       "      <td>1</td>\n",
       "      <td>0</td>\n",
       "      <td>1</td>\n",
       "      <td>1</td>\n",
       "      <td>58</td>\n",
       "      <td>49</td>\n",
       "      <td>0</td>\n",
       "      <td>0</td>\n",
       "      <td>5</td>\n",
       "      <td>0</td>\n",
       "      <td>0</td>\n",
       "      <td>0</td>\n",
       "      <td>0</td>\n",
       "      <td>0</td>\n",
       "    </tr>\n",
       "    <tr>\n",
       "      <th>PROVIDER</th>\n",
       "      <td>0</td>\n",
       "      <td>0</td>\n",
       "      <td>0</td>\n",
       "      <td>0</td>\n",
       "      <td>0</td>\n",
       "      <td>0</td>\n",
       "      <td>0</td>\n",
       "      <td>0</td>\n",
       "      <td>3</td>\n",
       "      <td>0</td>\n",
       "      <td>0</td>\n",
       "      <td>0</td>\n",
       "      <td>0</td>\n",
       "      <td>0</td>\n",
       "      <td>0</td>\n",
       "      <td>0</td>\n",
       "    </tr>\n",
       "    <tr>\n",
       "      <th>QUERY ON CURRENT APPOINTMENT</th>\n",
       "      <td>0</td>\n",
       "      <td>0</td>\n",
       "      <td>0</td>\n",
       "      <td>0</td>\n",
       "      <td>1</td>\n",
       "      <td>0</td>\n",
       "      <td>0</td>\n",
       "      <td>0</td>\n",
       "      <td>0</td>\n",
       "      <td>1</td>\n",
       "      <td>1</td>\n",
       "      <td>2</td>\n",
       "      <td>0</td>\n",
       "      <td>0</td>\n",
       "      <td>0</td>\n",
       "      <td>0</td>\n",
       "    </tr>\n",
       "    <tr>\n",
       "      <th>REFILL</th>\n",
       "      <td>0</td>\n",
       "      <td>0</td>\n",
       "      <td>0</td>\n",
       "      <td>0</td>\n",
       "      <td>23</td>\n",
       "      <td>6</td>\n",
       "      <td>10</td>\n",
       "      <td>2</td>\n",
       "      <td>1</td>\n",
       "      <td>0</td>\n",
       "      <td>1193</td>\n",
       "      <td>0</td>\n",
       "      <td>0</td>\n",
       "      <td>1</td>\n",
       "      <td>0</td>\n",
       "      <td>0</td>\n",
       "    </tr>\n",
       "    <tr>\n",
       "      <th>RESCHEDULING</th>\n",
       "      <td>0</td>\n",
       "      <td>0</td>\n",
       "      <td>0</td>\n",
       "      <td>0</td>\n",
       "      <td>0</td>\n",
       "      <td>2</td>\n",
       "      <td>3</td>\n",
       "      <td>0</td>\n",
       "      <td>0</td>\n",
       "      <td>1</td>\n",
       "      <td>0</td>\n",
       "      <td>169</td>\n",
       "      <td>0</td>\n",
       "      <td>0</td>\n",
       "      <td>0</td>\n",
       "      <td>1</td>\n",
       "    </tr>\n",
       "    <tr>\n",
       "      <th>RUNNING LATE TO APPOINTMENT</th>\n",
       "      <td>0</td>\n",
       "      <td>0</td>\n",
       "      <td>0</td>\n",
       "      <td>0</td>\n",
       "      <td>0</td>\n",
       "      <td>0</td>\n",
       "      <td>0</td>\n",
       "      <td>0</td>\n",
       "      <td>0</td>\n",
       "      <td>0</td>\n",
       "      <td>0</td>\n",
       "      <td>1</td>\n",
       "      <td>28</td>\n",
       "      <td>0</td>\n",
       "      <td>0</td>\n",
       "      <td>0</td>\n",
       "    </tr>\n",
       "    <tr>\n",
       "      <th>SHARING OF HEALTH RECORDS</th>\n",
       "      <td>0</td>\n",
       "      <td>0</td>\n",
       "      <td>0</td>\n",
       "      <td>2</td>\n",
       "      <td>2</td>\n",
       "      <td>5</td>\n",
       "      <td>18</td>\n",
       "      <td>2</td>\n",
       "      <td>1</td>\n",
       "      <td>0</td>\n",
       "      <td>0</td>\n",
       "      <td>0</td>\n",
       "      <td>0</td>\n",
       "      <td>150</td>\n",
       "      <td>0</td>\n",
       "      <td>9</td>\n",
       "    </tr>\n",
       "    <tr>\n",
       "      <th>SHARING OF LAB RECORDS</th>\n",
       "      <td>0</td>\n",
       "      <td>0</td>\n",
       "      <td>0</td>\n",
       "      <td>0</td>\n",
       "      <td>0</td>\n",
       "      <td>1</td>\n",
       "      <td>0</td>\n",
       "      <td>0</td>\n",
       "      <td>0</td>\n",
       "      <td>0</td>\n",
       "      <td>0</td>\n",
       "      <td>0</td>\n",
       "      <td>0</td>\n",
       "      <td>0</td>\n",
       "      <td>0</td>\n",
       "      <td>0</td>\n",
       "    </tr>\n",
       "    <tr>\n",
       "      <th>SYMPTOMS</th>\n",
       "      <td>0</td>\n",
       "      <td>0</td>\n",
       "      <td>0</td>\n",
       "      <td>0</td>\n",
       "      <td>14</td>\n",
       "      <td>2</td>\n",
       "      <td>3</td>\n",
       "      <td>0</td>\n",
       "      <td>0</td>\n",
       "      <td>0</td>\n",
       "      <td>1</td>\n",
       "      <td>0</td>\n",
       "      <td>0</td>\n",
       "      <td>0</td>\n",
       "      <td>0</td>\n",
       "      <td>25</td>\n",
       "    </tr>\n",
       "  </tbody>\n",
       "</table>\n",
       "</div>"
      ],
      "text/plain": [
       "                              CANCELLATION  CHANGE OF PHARMACY   \\\n",
       "CANCELLATION                             4                    0   \n",
       "CHANGE OF PHARMACY                       0                    0   \n",
       "CHANGE OF PROVIDER                       0                    0   \n",
       "LAB RESULTS                              1                    0   \n",
       "MEDICATION RELATED                       0                    0   \n",
       "NEW APPOINTMENT                          3                    0   \n",
       "OTHERS                                   4                    0   \n",
       "PRIOR AUTHORIZATION                      0                    0   \n",
       "PROVIDER                                 0                    0   \n",
       "QUERY ON CURRENT APPOINTMENT             0                    0   \n",
       "REFILL                                   0                    0   \n",
       "RESCHEDULING                             0                    0   \n",
       "RUNNING LATE TO APPOINTMENT              0                    0   \n",
       "SHARING OF HEALTH RECORDS                0                    0   \n",
       "SHARING OF LAB RECORDS                   0                    0   \n",
       "SYMPTOMS                                 0                    0   \n",
       "\n",
       "                              CHANGE OF PROVIDER  LAB RESULTS  \\\n",
       "CANCELLATION                                   0            0   \n",
       "CHANGE OF PHARMACY                             0            0   \n",
       "CHANGE OF PROVIDER                             0            0   \n",
       "LAB RESULTS                                    0           29   \n",
       "MEDICATION RELATED                             0            1   \n",
       "NEW APPOINTMENT                                9           19   \n",
       "OTHERS                                         9           20   \n",
       "PRIOR AUTHORIZATION                            1            0   \n",
       "PROVIDER                                       0            0   \n",
       "QUERY ON CURRENT APPOINTMENT                   0            0   \n",
       "REFILL                                         0            0   \n",
       "RESCHEDULING                                   0            0   \n",
       "RUNNING LATE TO APPOINTMENT                    0            0   \n",
       "SHARING OF HEALTH RECORDS                      0            2   \n",
       "SHARING OF LAB RECORDS                         0            0   \n",
       "SYMPTOMS                                       0            0   \n",
       "\n",
       "                              MEDICATION RELATED  NEW APPOINTMENT  OTHERS  \\\n",
       "CANCELLATION                                   0                0       1   \n",
       "CHANGE OF PHARMACY                             0                0       0   \n",
       "CHANGE OF PROVIDER                             1                0       0   \n",
       "LAB RESULTS                                    0                0       2   \n",
       "MEDICATION RELATED                            41                5       9   \n",
       "NEW APPOINTMENT                               80             3125     753   \n",
       "OTHERS                                        62              106    4087   \n",
       "PRIOR AUTHORIZATION                            1                1      58   \n",
       "PROVIDER                                       0                0       0   \n",
       "QUERY ON CURRENT APPOINTMENT                   1                0       0   \n",
       "REFILL                                        23                6      10   \n",
       "RESCHEDULING                                   0                2       3   \n",
       "RUNNING LATE TO APPOINTMENT                    0                0       0   \n",
       "SHARING OF HEALTH RECORDS                      2                5      18   \n",
       "SHARING OF LAB RECORDS                         0                1       0   \n",
       "SYMPTOMS                                      14                2       3   \n",
       "\n",
       "                              PRIOR AUTHORIZATION  PROVIDER  \\\n",
       "CANCELLATION                                    0         0   \n",
       "CHANGE OF PHARMACY                              0         0   \n",
       "CHANGE OF PROVIDER                              0         0   \n",
       "LAB RESULTS                                     0         0   \n",
       "MEDICATION RELATED                              1         3   \n",
       "NEW APPOINTMENT                                14         8   \n",
       "OTHERS                                         57        16   \n",
       "PRIOR AUTHORIZATION                            49         0   \n",
       "PROVIDER                                        0         3   \n",
       "QUERY ON CURRENT APPOINTMENT                    0         0   \n",
       "REFILL                                          2         1   \n",
       "RESCHEDULING                                    0         0   \n",
       "RUNNING LATE TO APPOINTMENT                     0         0   \n",
       "SHARING OF HEALTH RECORDS                       2         1   \n",
       "SHARING OF LAB RECORDS                          0         0   \n",
       "SYMPTOMS                                        0         0   \n",
       "\n",
       "                              QUERY ON CURRENT APPOINTMENT  REFILL  \\\n",
       "CANCELLATION                                             0       0   \n",
       "CHANGE OF PHARMACY                                       0       0   \n",
       "CHANGE OF PROVIDER                                       0       0   \n",
       "LAB RESULTS                                              0       0   \n",
       "MEDICATION RELATED                                       0       4   \n",
       "NEW APPOINTMENT                                         18      71   \n",
       "OTHERS                                                  18      58   \n",
       "PRIOR AUTHORIZATION                                      0       5   \n",
       "PROVIDER                                                 0       0   \n",
       "QUERY ON CURRENT APPOINTMENT                             1       1   \n",
       "REFILL                                                   0    1193   \n",
       "RESCHEDULING                                             1       0   \n",
       "RUNNING LATE TO APPOINTMENT                              0       0   \n",
       "SHARING OF HEALTH RECORDS                                0       0   \n",
       "SHARING OF LAB RECORDS                                   0       0   \n",
       "SYMPTOMS                                                 0       1   \n",
       "\n",
       "                              RESCHEDULING  RUNNING LATE TO APPOINTMENT  \\\n",
       "CANCELLATION                             0                            0   \n",
       "CHANGE OF PHARMACY                       0                            1   \n",
       "CHANGE OF PROVIDER                       0                            0   \n",
       "LAB RESULTS                              0                            0   \n",
       "MEDICATION RELATED                       0                            0   \n",
       "NEW APPOINTMENT                         55                            3   \n",
       "OTHERS                                  11                            3   \n",
       "PRIOR AUTHORIZATION                      0                            0   \n",
       "PROVIDER                                 0                            0   \n",
       "QUERY ON CURRENT APPOINTMENT             2                            0   \n",
       "REFILL                                   0                            0   \n",
       "RESCHEDULING                           169                            0   \n",
       "RUNNING LATE TO APPOINTMENT              1                           28   \n",
       "SHARING OF HEALTH RECORDS                0                            0   \n",
       "SHARING OF LAB RECORDS                   0                            0   \n",
       "SYMPTOMS                                 0                            0   \n",
       "\n",
       "                              SHARING OF HEALTH RECORDS  \\\n",
       "CANCELLATION                                          0   \n",
       "CHANGE OF PHARMACY                                    0   \n",
       "CHANGE OF PROVIDER                                    0   \n",
       "LAB RESULTS                                           0   \n",
       "MEDICATION RELATED                                    0   \n",
       "NEW APPOINTMENT                                       3   \n",
       "OTHERS                                               74   \n",
       "PRIOR AUTHORIZATION                                   0   \n",
       "PROVIDER                                              0   \n",
       "QUERY ON CURRENT APPOINTMENT                          0   \n",
       "REFILL                                                1   \n",
       "RESCHEDULING                                          0   \n",
       "RUNNING LATE TO APPOINTMENT                           0   \n",
       "SHARING OF HEALTH RECORDS                           150   \n",
       "SHARING OF LAB RECORDS                                0   \n",
       "SYMPTOMS                                              0   \n",
       "\n",
       "                              SHARING OF LAB RECORDS  SYMPTOMS  \n",
       "CANCELLATION                                       0         0  \n",
       "CHANGE OF PHARMACY                                 0         0  \n",
       "CHANGE OF PROVIDER                                 0         0  \n",
       "LAB RESULTS                                        0         0  \n",
       "MEDICATION RELATED                                 0         0  \n",
       "NEW APPOINTMENT                                    0        28  \n",
       "OTHERS                                             0         3  \n",
       "PRIOR AUTHORIZATION                                0         0  \n",
       "PROVIDER                                           0         0  \n",
       "QUERY ON CURRENT APPOINTMENT                       0         0  \n",
       "REFILL                                             0         0  \n",
       "RESCHEDULING                                       0         1  \n",
       "RUNNING LATE TO APPOINTMENT                        0         0  \n",
       "SHARING OF HEALTH RECORDS                          0         9  \n",
       "SHARING OF LAB RECORDS                             0         0  \n",
       "SYMPTOMS                                           0        25  "
      ]
     },
     "execution_count": 113,
     "metadata": {},
     "output_type": "execute_result"
    }
   ],
   "source": [
    "print(\"predicted values:{}\\n\\n\",test_data.Sub_categories2.value_counts(),\"\\n\\n actual values:{}\\n\\n\",Y_test_2.value_counts())\n",
    "\n",
    "pd.DataFrame(confusion_matrix(Y_test_2,test_data.Sub_categories2),[\"CANCELLATION\",\"CHANGE OF PHARMACY \",\"CHANGE OF PROVIDER\",\"LAB RESULTS\",\"MEDICATION RELATED\",\"NEW APPOINTMENT\",\"OTHERS\",\"PRIOR AUTHORIZATION\",\"PROVIDER\",\"QUERY ON CURRENT APPOINTMENT\",\"REFILL\",\"RESCHEDULING\",\"RUNNING LATE TO APPOINTMENT\",\"SHARING OF HEALTH RECORDS\",\"SHARING OF LAB RECORDS\",\"SYMPTOMS\"],[\"CANCELLATION\",\"CHANGE OF PHARMACY \",\"CHANGE OF PROVIDER\",\"LAB RESULTS\",\"MEDICATION RELATED\",\"NEW APPOINTMENT\",\"OTHERS\",\"PRIOR AUTHORIZATION\",\"PROVIDER\",\"QUERY ON CURRENT APPOINTMENT\",\"REFILL\",\"RESCHEDULING\",\"RUNNING LATE TO APPOINTMENT\",\"SHARING OF HEALTH RECORDS\",\"SHARING OF LAB RECORDS\",\"SYMPTOMS\"])\n"
   ]
  },
  {
   "cell_type": "code",
   "execution_count": 114,
   "metadata": {},
   "outputs": [],
   "source": [
    "pd.DataFrame(confusion_matrix(Y_test_2,test_data.Sub_categories2),[\"CANCELLATION\",\"CHANGE OF PHARMACY \",\"CHANGE OF PROVIDER\",\"LAB RESULTS\",\"MEDICATION RELATED\",\"NEW APPOINTMENT\",\"OTHERS\",\"PRIOR AUTHORIZATION\",\"PROVIDER\",\"QUERY ON CURRENT APPOINTMENT\",\"REFILL\",\"RESCHEDULING\",\"RUNNING LATE TO APPOINTMENT\",\"SHARING OF HEALTH RECORDS\",\"SHARING OF LAB RECORDS\",\"SYMPTOMS\"],[\"CANCELLATION\",\"CHANGE OF PHARMACY \",\"CHANGE OF PROVIDER\",\"LAB RESULTS\",\"MEDICATION RELATED\",\"NEW APPOINTMENT\",\"OTHERS\",\"PRIOR AUTHORIZATION\",\"PROVIDER\",\"QUERY ON CURRENT APPOINTMENT\",\"REFILL\",\"RESCHEDULING\",\"RUNNING LATE TO APPOINTMENT\",\"SHARING OF HEALTH RECORDS\",\"SHARING OF LAB RECORDS\",\"SYMPTOMS\"]).to_csv(\"IPM_Subcategories_confustionmatrics.csv\")"
   ]
  },
  {
   "cell_type": "code",
   "execution_count": 118,
   "metadata": {},
   "outputs": [
    {
     "data": {
      "text/plain": [
       "(10619, 13)"
      ]
     },
     "execution_count": 118,
     "metadata": {},
     "output_type": "execute_result"
    }
   ],
   "source": [
    "test_data.shape"
   ]
  },
  {
   "cell_type": "code",
   "execution_count": 416,
   "metadata": {},
   "outputs": [
    {
     "data": {
      "text/html": [
       "<div>\n",
       "<style scoped>\n",
       "    .dataframe tbody tr th:only-of-type {\n",
       "        vertical-align: middle;\n",
       "    }\n",
       "\n",
       "    .dataframe tbody tr th {\n",
       "        vertical-align: top;\n",
       "    }\n",
       "\n",
       "    .dataframe thead th {\n",
       "        text-align: right;\n",
       "    }\n",
       "</style>\n",
       "<table border=\"1\" class=\"dataframe\">\n",
       "  <thead>\n",
       "    <tr style=\"text-align: right;\">\n",
       "      <th></th>\n",
       "      <th>tran_id</th>\n",
       "      <th>tran_date</th>\n",
       "      <th>forwhom_id</th>\n",
       "      <th>schedule_note</th>\n",
       "      <th>Categories1</th>\n",
       "      <th>Sub_categories1</th>\n",
       "      <th>Previous_Appointment</th>\n",
       "      <th>Categories_pred</th>\n",
       "      <th>Sub_categories_pred</th>\n",
       "      <th>Previous_appointments_pred</th>\n",
       "      <th>schedule_note1</th>\n",
       "      <th>Categories2</th>\n",
       "      <th>Sub_categories2</th>\n",
       "    </tr>\n",
       "  </thead>\n",
       "  <tbody>\n",
       "    <tr>\n",
       "      <th>0</th>\n",
       "      <td>1721871</td>\n",
       "      <td>5/2/2018</td>\n",
       "      <td>59916</td>\n",
       "      <td>Left Total Knee Arthroplasty @ Seton at 10:30 ...</td>\n",
       "      <td>APPOINTMENTS</td>\n",
       "      <td>NEW APPOINTMENT</td>\n",
       "      <td>No</td>\n",
       "      <td>APPOINTMENTS</td>\n",
       "      <td>NEW APPOINTMENT</td>\n",
       "      <td>No</td>\n",
       "      <td>left total knee arthroplasti seton surgic assi...</td>\n",
       "      <td>APPOINTMENTS</td>\n",
       "      <td>NEW APPOINTMENT</td>\n",
       "    </tr>\n",
       "    <tr>\n",
       "      <th>1</th>\n",
       "      <td>1741728</td>\n",
       "      <td>5/21/2018</td>\n",
       "      <td>43795</td>\n",
       "      <td>''PEER to PEER''''Date &amp; time of call: VM- Mon...</td>\n",
       "      <td>MISCELLANEOUS</td>\n",
       "      <td>OTHERS</td>\n",
       "      <td>No</td>\n",
       "      <td>MISCELLANEOUS</td>\n",
       "      <td>OTHERS</td>\n",
       "      <td>No</td>\n",
       "      <td>peer peer date time call vm monday may pm call...</td>\n",
       "      <td>MISCELLANEOUS</td>\n",
       "      <td>OTHERS</td>\n",
       "    </tr>\n",
       "    <tr>\n",
       "      <th>2</th>\n",
       "      <td>1724157</td>\n",
       "      <td>5/3/2018</td>\n",
       "      <td>87700</td>\n",
       "      <td>Date &amp; time of call: 05/03/18-@-3:15 PM       ...</td>\n",
       "      <td>MISCELLANEOUS</td>\n",
       "      <td>OTHERS</td>\n",
       "      <td>No</td>\n",
       "      <td>MISCELLANEOUS</td>\n",
       "      <td>OTHERS</td>\n",
       "      <td>No</td>\n",
       "      <td>date time call pm caller physician surgeon net...</td>\n",
       "      <td>MISCELLANEOUS</td>\n",
       "      <td>OTHERS</td>\n",
       "    </tr>\n",
       "    <tr>\n",
       "      <th>3</th>\n",
       "      <td>1747000</td>\n",
       "      <td>5/24/2018</td>\n",
       "      <td>33857</td>\n",
       "      <td>Left Shoulder Arthroscopy, Subacromial decompr...</td>\n",
       "      <td>APPOINTMENTS</td>\n",
       "      <td>NEW APPOINTMENT</td>\n",
       "      <td>No</td>\n",
       "      <td>APPOINTMENTS</td>\n",
       "      <td>NEW APPOINTMENT</td>\n",
       "      <td>No</td>\n",
       "      <td>left shoulder arthroscopi subacromi decompress...</td>\n",
       "      <td>APPOINTMENTS</td>\n",
       "      <td>NEW APPOINTMENT</td>\n",
       "    </tr>\n",
       "    <tr>\n",
       "      <th>4</th>\n",
       "      <td>1726596</td>\n",
       "      <td>5/7/2018</td>\n",
       "      <td>69177</td>\n",
       "      <td>PEER TO PEER''Date &amp; Time of call: 5/7/18 @ 4:...</td>\n",
       "      <td>MISCELLANEOUS</td>\n",
       "      <td>OTHERS</td>\n",
       "      <td>No</td>\n",
       "      <td>MISCELLANEOUS</td>\n",
       "      <td>OTHERS</td>\n",
       "      <td>No</td>\n",
       "      <td>peer peer date time call pm caller dr pemmaraj...</td>\n",
       "      <td>MISCELLANEOUS</td>\n",
       "      <td>OTHERS</td>\n",
       "    </tr>\n",
       "  </tbody>\n",
       "</table>\n",
       "</div>"
      ],
      "text/plain": [
       "   tran_id  tran_date  forwhom_id  \\\n",
       "0  1721871   5/2/2018       59916   \n",
       "1  1741728  5/21/2018       43795   \n",
       "2  1724157   5/3/2018       87700   \n",
       "3  1747000  5/24/2018       33857   \n",
       "4  1726596   5/7/2018       69177   \n",
       "\n",
       "                                       schedule_note    Categories1  \\\n",
       "0  Left Total Knee Arthroplasty @ Seton at 10:30 ...   APPOINTMENTS   \n",
       "1  ''PEER to PEER''''Date & time of call: VM- Mon...  MISCELLANEOUS   \n",
       "2  Date & time of call: 05/03/18-@-3:15 PM       ...  MISCELLANEOUS   \n",
       "3  Left Shoulder Arthroscopy, Subacromial decompr...   APPOINTMENTS   \n",
       "4  PEER TO PEER''Date & Time of call: 5/7/18 @ 4:...  MISCELLANEOUS   \n",
       "\n",
       "   Sub_categories1 Previous_Appointment Categories_pred Sub_categories_pred  \\\n",
       "0  NEW APPOINTMENT                   No    APPOINTMENTS     NEW APPOINTMENT   \n",
       "1           OTHERS                   No   MISCELLANEOUS              OTHERS   \n",
       "2           OTHERS                   No   MISCELLANEOUS              OTHERS   \n",
       "3  NEW APPOINTMENT                   No    APPOINTMENTS     NEW APPOINTMENT   \n",
       "4           OTHERS                   No   MISCELLANEOUS              OTHERS   \n",
       "\n",
       "  Previous_appointments_pred  \\\n",
       "0                         No   \n",
       "1                         No   \n",
       "2                         No   \n",
       "3                         No   \n",
       "4                         No   \n",
       "\n",
       "                                      schedule_note1    Categories2  \\\n",
       "0  left total knee arthroplasti seton surgic assi...   APPOINTMENTS   \n",
       "1  peer peer date time call vm monday may pm call...  MISCELLANEOUS   \n",
       "2  date time call pm caller physician surgeon net...  MISCELLANEOUS   \n",
       "3  left shoulder arthroscopi subacromi decompress...   APPOINTMENTS   \n",
       "4  peer peer date time call pm caller dr pemmaraj...  MISCELLANEOUS   \n",
       "\n",
       "   Sub_categories2  \n",
       "0  NEW APPOINTMENT  \n",
       "1           OTHERS  \n",
       "2           OTHERS  \n",
       "3  NEW APPOINTMENT  \n",
       "4           OTHERS  "
      ]
     },
     "execution_count": 416,
     "metadata": {},
     "output_type": "execute_result"
    }
   ],
   "source": [
    "test_data.head()"
   ]
  },
  {
   "cell_type": "code",
   "execution_count": 84,
   "metadata": {},
   "outputs": [],
   "source": [
    "test_data1=test_data"
   ]
  },
  {
   "cell_type": "code",
   "execution_count": 122,
   "metadata": {
    "scrolled": true
   },
   "outputs": [
    {
     "data": {
      "text/plain": [
       "0        left total knee arthroplasti seton surgic assi...\n",
       "1        peer peer date time call vm monday may pm call...\n",
       "2        date time call pm caller physician surgeon net...\n",
       "3        left shoulder arthroscopi subacromi decompress...\n",
       "4        peer peer date time call pm caller dr pemmaraj...\n",
       "5        n w ref auth req acupunctur copay ded met oop ...\n",
       "6        date time call pm caller tania pmnrsolut order...\n",
       "7        zocdoc mrs initi cx left hand dr sciaroni per ...\n",
       "8        close treatment phalang shaft fractur proxim m...\n",
       "9        pri bs activ ppo plan n w ref req auth req acu...\n",
       "10       primari blue cross activ ppo plan n w ref auth...\n",
       "11       former pt dr sciaroni want see md time around ...\n",
       "12       ref auth req copay ded oop met rem plan cover ...\n",
       "13       refer dr veena jayaram chou pain manag muscl s...\n",
       "14       date time call vm order provid dr ganga review...\n",
       "15       pri bs activ ppo plan n w ref req auth req acu...\n",
       "16       plan n w ref auth req acupunctur copay ded oop...\n",
       "17       wc claim baldwin lyon pt attorney claim protec...\n",
       "18       per pt ami call r appt opac pain manag refer d...\n",
       "19       right carpal tunnel releas st franci surgic as...\n",
       "20       left knee hardwar remov campus surgeri center ...\n",
       "21       wc con tx fieser doi bodi part r elbow r forea...\n",
       "22       acupunctur ref auth req copay ded met rem oop ...\n",
       "23       eval neck pain herniat disc possibl epidur sho...\n",
       "24       pt dr sciaroni yrs ago see first time l thumb ...\n",
       "25       cc declin left pt vm dm deni dm left vm dm pm ...\n",
       "26       peer peer date time call pm caller brianna rev...\n",
       "27       per onlin pt name welliv cunningham per onlin ...\n",
       "28       cx tx thumb tendin shoulder pain possibl stero...\n",
       "29       anthem bc ppo con tx refer neesha pammi referr...\n",
       "                               ...                        \n",
       "10589                                                     \n",
       "10590                                                     \n",
       "10591                                                     \n",
       "10592                                                     \n",
       "10593                                                     \n",
       "10594                                                     \n",
       "10595                                                     \n",
       "10596                                                     \n",
       "10597                                                     \n",
       "10598                                                     \n",
       "10599                                                     \n",
       "10600                                                     \n",
       "10601                                                     \n",
       "10602                                                     \n",
       "10603                                                     \n",
       "10604                                                     \n",
       "10605                                                     \n",
       "10606                                                     \n",
       "10607                                                     \n",
       "10608                                                     \n",
       "10609                                                     \n",
       "10610                                                     \n",
       "10611                                                     \n",
       "10612                                                     \n",
       "10613                                                     \n",
       "10614                                                     \n",
       "10615                                                     \n",
       "10616                                                     \n",
       "10617                                                     \n",
       "10618                                                     \n",
       "Name: schedule_note1, Length: 10619, dtype: object"
      ]
     },
     "execution_count": 122,
     "metadata": {},
     "output_type": "execute_result"
    }
   ],
   "source": [
    "#test_data1.pop(\"schedule_note1\")"
   ]
  },
  {
   "cell_type": "code",
   "execution_count": 85,
   "metadata": {},
   "outputs": [
    {
     "data": {
      "text/html": [
       "<div>\n",
       "<style scoped>\n",
       "    .dataframe tbody tr th:only-of-type {\n",
       "        vertical-align: middle;\n",
       "    }\n",
       "\n",
       "    .dataframe tbody tr th {\n",
       "        vertical-align: top;\n",
       "    }\n",
       "\n",
       "    .dataframe thead th {\n",
       "        text-align: right;\n",
       "    }\n",
       "</style>\n",
       "<table border=\"1\" class=\"dataframe\">\n",
       "  <thead>\n",
       "    <tr style=\"text-align: right;\">\n",
       "      <th></th>\n",
       "      <th>tran_id</th>\n",
       "      <th>tran_date</th>\n",
       "      <th>forwhom_id</th>\n",
       "      <th>schedule_note</th>\n",
       "      <th>Categories1</th>\n",
       "      <th>Sub_categories1</th>\n",
       "      <th>Previous_Appointment</th>\n",
       "      <th>Categories_pred</th>\n",
       "      <th>Sub_categories_pred</th>\n",
       "      <th>Previous_appointments_pred</th>\n",
       "      <th>schedule_note1</th>\n",
       "      <th>Categories2</th>\n",
       "      <th>Sub_categories2</th>\n",
       "    </tr>\n",
       "  </thead>\n",
       "  <tbody>\n",
       "    <tr>\n",
       "      <th>0</th>\n",
       "      <td>1721871</td>\n",
       "      <td>5/2/2018</td>\n",
       "      <td>59916</td>\n",
       "      <td>Left Total Knee Arthroplasty @ Seton at 10:30 ...</td>\n",
       "      <td>APPOINTMENTS</td>\n",
       "      <td>NEW APPOINTMENT</td>\n",
       "      <td>No</td>\n",
       "      <td>APPOINTMENTS</td>\n",
       "      <td>NEW APPOINTMENT</td>\n",
       "      <td>No</td>\n",
       "      <td>left total knee arthroplasti seton surgic assi...</td>\n",
       "      <td>APPOINTMENTS</td>\n",
       "      <td>NEW APPOINTMENT</td>\n",
       "    </tr>\n",
       "    <tr>\n",
       "      <th>1</th>\n",
       "      <td>1741728</td>\n",
       "      <td>5/21/2018</td>\n",
       "      <td>43795</td>\n",
       "      <td>''PEER to PEER''''Date &amp; time of call: VM- Mon...</td>\n",
       "      <td>MISCELLANEOUS</td>\n",
       "      <td>OTHERS</td>\n",
       "      <td>No</td>\n",
       "      <td>MISCELLANEOUS</td>\n",
       "      <td>OTHERS</td>\n",
       "      <td>No</td>\n",
       "      <td>peer peer date time call vm monday may pm call...</td>\n",
       "      <td>MISCELLANEOUS</td>\n",
       "      <td>OTHERS</td>\n",
       "    </tr>\n",
       "    <tr>\n",
       "      <th>2</th>\n",
       "      <td>1724157</td>\n",
       "      <td>5/3/2018</td>\n",
       "      <td>87700</td>\n",
       "      <td>Date &amp; time of call: 05/03/18-@-3:15 PM       ...</td>\n",
       "      <td>MISCELLANEOUS</td>\n",
       "      <td>OTHERS</td>\n",
       "      <td>No</td>\n",
       "      <td>MISCELLANEOUS</td>\n",
       "      <td>OTHERS</td>\n",
       "      <td>No</td>\n",
       "      <td>date time call pm caller physician surgeon net...</td>\n",
       "      <td>MISCELLANEOUS</td>\n",
       "      <td>OTHERS</td>\n",
       "    </tr>\n",
       "    <tr>\n",
       "      <th>3</th>\n",
       "      <td>1747000</td>\n",
       "      <td>5/24/2018</td>\n",
       "      <td>33857</td>\n",
       "      <td>Left Shoulder Arthroscopy, Subacromial decompr...</td>\n",
       "      <td>APPOINTMENTS</td>\n",
       "      <td>NEW APPOINTMENT</td>\n",
       "      <td>No</td>\n",
       "      <td>APPOINTMENTS</td>\n",
       "      <td>NEW APPOINTMENT</td>\n",
       "      <td>No</td>\n",
       "      <td>left shoulder arthroscopi subacromi decompress...</td>\n",
       "      <td>APPOINTMENTS</td>\n",
       "      <td>NEW APPOINTMENT</td>\n",
       "    </tr>\n",
       "    <tr>\n",
       "      <th>4</th>\n",
       "      <td>1726596</td>\n",
       "      <td>5/7/2018</td>\n",
       "      <td>69177</td>\n",
       "      <td>PEER TO PEER''Date &amp; Time of call: 5/7/18 @ 4:...</td>\n",
       "      <td>MISCELLANEOUS</td>\n",
       "      <td>OTHERS</td>\n",
       "      <td>No</td>\n",
       "      <td>MISCELLANEOUS</td>\n",
       "      <td>OTHERS</td>\n",
       "      <td>No</td>\n",
       "      <td>peer peer date time call pm caller dr pemmaraj...</td>\n",
       "      <td>MISCELLANEOUS</td>\n",
       "      <td>OTHERS</td>\n",
       "    </tr>\n",
       "  </tbody>\n",
       "</table>\n",
       "</div>"
      ],
      "text/plain": [
       "   tran_id  tran_date  forwhom_id  \\\n",
       "0  1721871   5/2/2018       59916   \n",
       "1  1741728  5/21/2018       43795   \n",
       "2  1724157   5/3/2018       87700   \n",
       "3  1747000  5/24/2018       33857   \n",
       "4  1726596   5/7/2018       69177   \n",
       "\n",
       "                                       schedule_note    Categories1  \\\n",
       "0  Left Total Knee Arthroplasty @ Seton at 10:30 ...   APPOINTMENTS   \n",
       "1  ''PEER to PEER''''Date & time of call: VM- Mon...  MISCELLANEOUS   \n",
       "2  Date & time of call: 05/03/18-@-3:15 PM       ...  MISCELLANEOUS   \n",
       "3  Left Shoulder Arthroscopy, Subacromial decompr...   APPOINTMENTS   \n",
       "4  PEER TO PEER''Date & Time of call: 5/7/18 @ 4:...  MISCELLANEOUS   \n",
       "\n",
       "   Sub_categories1 Previous_Appointment Categories_pred Sub_categories_pred  \\\n",
       "0  NEW APPOINTMENT                   No    APPOINTMENTS     NEW APPOINTMENT   \n",
       "1           OTHERS                   No   MISCELLANEOUS              OTHERS   \n",
       "2           OTHERS                   No   MISCELLANEOUS              OTHERS   \n",
       "3  NEW APPOINTMENT                   No    APPOINTMENTS     NEW APPOINTMENT   \n",
       "4           OTHERS                   No   MISCELLANEOUS              OTHERS   \n",
       "\n",
       "  Previous_appointments_pred  \\\n",
       "0                         No   \n",
       "1                         No   \n",
       "2                         No   \n",
       "3                         No   \n",
       "4                         No   \n",
       "\n",
       "                                      schedule_note1    Categories2  \\\n",
       "0  left total knee arthroplasti seton surgic assi...   APPOINTMENTS   \n",
       "1  peer peer date time call vm monday may pm call...  MISCELLANEOUS   \n",
       "2  date time call pm caller physician surgeon net...  MISCELLANEOUS   \n",
       "3  left shoulder arthroscopi subacromi decompress...   APPOINTMENTS   \n",
       "4  peer peer date time call pm caller dr pemmaraj...  MISCELLANEOUS   \n",
       "\n",
       "   Sub_categories2  \n",
       "0  NEW APPOINTMENT  \n",
       "1           OTHERS  \n",
       "2           OTHERS  \n",
       "3  NEW APPOINTMENT  \n",
       "4           OTHERS  "
      ]
     },
     "execution_count": 85,
     "metadata": {},
     "output_type": "execute_result"
    }
   ],
   "source": [
    "test_data1.head()"
   ]
  },
  {
   "cell_type": "code",
   "execution_count": 86,
   "metadata": {},
   "outputs": [],
   "source": [
    "test_data1.to_csv(\"IPM_May_2018_predictions.csv\",index=False)"
   ]
  },
  {
   "cell_type": "code",
   "execution_count": 93,
   "metadata": {},
   "outputs": [],
   "source": [
    "actual_data.to_csv(\"IPM_actual_data_till_2018.csv\",index=False)"
   ]
  },
  {
   "cell_type": "code",
   "execution_count": null,
   "metadata": {},
   "outputs": [],
   "source": []
  }
 ],
 "metadata": {
  "kernelspec": {
   "display_name": "Python 3",
   "language": "python",
   "name": "python3"
  },
  "language_info": {
   "codemirror_mode": {
    "name": "ipython",
    "version": 3
   },
   "file_extension": ".py",
   "mimetype": "text/x-python",
   "name": "python",
   "nbconvert_exporter": "python",
   "pygments_lexer": "ipython3",
   "version": "3.6.4"
  }
 },
 "nbformat": 4,
 "nbformat_minor": 2
}
