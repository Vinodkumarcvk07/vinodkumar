{
 "cells": [
  {
   "cell_type": "code",
   "execution_count": null,
   "metadata": {},
   "outputs": [],
   "source": []
  },
  {
   "cell_type": "code",
   "execution_count": 135,
   "metadata": {},
   "outputs": [],
   "source": [
    "import numpy as np\n",
    "import pandas as pd\n",
    "import scipy as sc\n",
    "import matplotlib.pyplot as plt\n",
    "import os, re\n",
    "from sklearn.feature_extraction.text import CountVectorizer, TfidfTransformer\n",
    "from sklearn.naive_bayes import BernoulliNB, GaussianNB, MultinomialNB\n",
    "from sklearn.metrics import confusion_matrix, f1_score, accuracy_score, precision_score, recall_score, classification_report\n",
    "from sklearn.neighbors import KNeighborsClassifier\n",
    "from sklearn.svm import LinearSVC, NuSVC, SVC\n",
    "from nltk.stem import SnowballStemmer\n",
    "from nltk.corpus import stopwords\n",
    "from sklearn.grid_search import GridSearchCV\n",
    "from datetime import datetime as dt\n",
    "from bs4 import BeautifulSoup\n",
    "import warnings\n",
    "warnings.filterwarnings(\"ignore\")\n",
    "import rtfConverter as rtf\n",
    "%matplotlib inline"
   ]
  },
  {
   "cell_type": "markdown",
   "metadata": {},
   "source": [
    "# Files directory"
   ]
  },
  {
   "cell_type": "code",
   "execution_count": 12,
   "metadata": {},
   "outputs": [],
   "source": [
    "os.chdir('E:/VINOD KUMAR/Project_Guf_new')"
   ]
  },
  {
   "cell_type": "markdown",
   "metadata": {},
   "source": [
    "# Listing all files in working directory"
   ]
  },
  {
   "cell_type": "code",
   "execution_count": 35,
   "metadata": {},
   "outputs": [
    {
     "data": {
      "text/plain": [
       "['april_2nd_file.csv',\n",
       " 'clf_svc1_categories',\n",
       " 'clf_svc2_sub_categories',\n",
       " 'clf_svc3_previous_appointments',\n",
       " 'GFD to be Process 23 30 2018.csv',\n",
       " 'GFD to be process Apr 1-22 2018.csv',\n",
       " 'Guliford Jan,2016 - Mar,2018.xlsx',\n",
       " 'Guliford_prav_Apr 2018.xlsx',\n",
       " 'gul_april_1_30_2018.csv',\n",
       " 'Gul_APR_2018_predicted_Results.csv',\n",
       " 'mymodel',\n",
       " 'rtfConverter.py',\n",
       " '__pycache__']"
      ]
     },
     "execution_count": 35,
     "metadata": {},
     "output_type": "execute_result"
    }
   ],
   "source": [
    "#Listing all files in working directory\n",
    "os.listdir()"
   ]
  },
  {
   "cell_type": "markdown",
   "metadata": {},
   "source": [
    "# Reading requried data files form local to jupiter notebook as dataframe using pandas  "
   ]
  },
  {
   "cell_type": "code",
   "execution_count": 70,
   "metadata": {},
   "outputs": [],
   "source": [
    "actual_data=pd.read_excel('Guliford Jan,2016 - Mar,2018.xlsx')\n",
    "test_data=pd.read_excel('Guliford_prav_Apr 2018.xlsx')"
   ]
  },
  {
   "cell_type": "code",
   "execution_count": 71,
   "metadata": {},
   "outputs": [
    {
     "name": "stdout",
     "output_type": "stream",
     "text": [
      "(86554, 16) \n",
      "  Index(['FileID', 'clientid', 'PID', 'SUMMARY', 'DATA', 'Categories1',\n",
      "       'Sub_categories1', 'Categories2', 'Sub_categories2', 'Categories3',\n",
      "       'Sub_categories3', 'Categories4', 'Sub_categories4', 'Categories5',\n",
      "       'Sub_categories5', 'Previous_Appointment'],\n",
      "      dtype='object') \n",
      "\n",
      "(3308, 16) \n",
      " Index(['FileID', 'clientid', 'PID', 'SUMMARY', 'DATA', 'Categories1',\n",
      "       'Sub_categories1', 'Categories2', 'Sub_categories2', 'Categories3',\n",
      "       'Sub_categories3', 'Categories4', 'Sub_categories4', 'Categories5',\n",
      "       'Sub_categories5', 'Previous_Appointment'],\n",
      "      dtype='object')\n"
     ]
    }
   ],
   "source": [
    "print(actual_data.shape, \"\\n \" ,actual_data.columns,\"\\n\")\n",
    "print(test_data.shape , \"\\n\", actual_data.columns)"
   ]
  },
  {
   "cell_type": "markdown",
   "metadata": {},
   "source": [
    "# Removing unwanted columns "
   ]
  },
  {
   "cell_type": "code",
   "execution_count": 72,
   "metadata": {},
   "outputs": [],
   "source": [
    "actual_data.drop(actual_data.columns[8:16], axis=1, inplace=True)\n",
    "test_data.drop(test_data.columns[8:17], axis=1, inplace=True)"
   ]
  },
  {
   "cell_type": "code",
   "execution_count": 73,
   "metadata": {},
   "outputs": [
    {
     "data": {
      "text/html": [
       "<div>\n",
       "<style scoped>\n",
       "    .dataframe tbody tr th:only-of-type {\n",
       "        vertical-align: middle;\n",
       "    }\n",
       "\n",
       "    .dataframe tbody tr th {\n",
       "        vertical-align: top;\n",
       "    }\n",
       "\n",
       "    .dataframe thead th {\n",
       "        text-align: right;\n",
       "    }\n",
       "</style>\n",
       "<table border=\"1\" class=\"dataframe\">\n",
       "  <thead>\n",
       "    <tr style=\"text-align: right;\">\n",
       "      <th></th>\n",
       "      <th>FileID</th>\n",
       "      <th>clientid</th>\n",
       "      <th>PID</th>\n",
       "      <th>SUMMARY</th>\n",
       "      <th>DATA</th>\n",
       "      <th>Categories1</th>\n",
       "      <th>Sub_categories1</th>\n",
       "      <th>Categories2</th>\n",
       "    </tr>\n",
       "  </thead>\n",
       "  <tbody>\n",
       "    <tr>\n",
       "      <th>0</th>\n",
       "      <td>92824</td>\n",
       "      <td>1004</td>\n",
       "      <td>1.750262e+15</td>\n",
       "      <td>NaN</td>\n",
       "      <td>{\\rtf1\\ansi\\ftnbj{\\fonttbl{\\f0 \\fswiss Arial;}...</td>\n",
       "      <td>ASK_A_DOCTOR</td>\n",
       "      <td>MEDICATION RELATED</td>\n",
       "      <td>NaN</td>\n",
       "    </tr>\n",
       "    <tr>\n",
       "      <th>1</th>\n",
       "      <td>92825</td>\n",
       "      <td>1004</td>\n",
       "      <td>1.583836e+15</td>\n",
       "      <td>recurrent chest wall pain pneumonia symptoms</td>\n",
       "      <td>{\\rtf1\\ansi\\ftnbj{\\fonttbl{\\f0 \\fswiss Arial;}...</td>\n",
       "      <td>ASK_A_DOCTOR</td>\n",
       "      <td>SYMPTOMS</td>\n",
       "      <td>NaN</td>\n",
       "    </tr>\n",
       "    <tr>\n",
       "      <th>2</th>\n",
       "      <td>92826</td>\n",
       "      <td>1004</td>\n",
       "      <td>1.583837e+15</td>\n",
       "      <td>NaN</td>\n",
       "      <td>{\\rtf1\\ansi\\ftnbj{\\fonttbl{\\f0 \\fswiss Arial;}...</td>\n",
       "      <td>ASK_A_DOCTOR</td>\n",
       "      <td>MEDICATION RELATED</td>\n",
       "      <td>NaN</td>\n",
       "    </tr>\n",
       "    <tr>\n",
       "      <th>3</th>\n",
       "      <td>92827</td>\n",
       "      <td>1004</td>\n",
       "      <td>1.583837e+15</td>\n",
       "      <td>NaN</td>\n",
       "      <td>{\\rtf1\\ansi\\ftnbj{\\fonttbl{\\f0 \\fswiss Arial;}...</td>\n",
       "      <td>PRESCRIPTION</td>\n",
       "      <td>REFILL</td>\n",
       "      <td>NaN</td>\n",
       "    </tr>\n",
       "    <tr>\n",
       "      <th>4</th>\n",
       "      <td>92828</td>\n",
       "      <td>1004</td>\n",
       "      <td>1.583837e+15</td>\n",
       "      <td>NaN</td>\n",
       "      <td>{\\rtf1\\ansi\\ftnbj{\\fonttbl{\\f0 \\fswiss Arial;}...</td>\n",
       "      <td>PRESCRIPTION</td>\n",
       "      <td>REFILL</td>\n",
       "      <td>NaN</td>\n",
       "    </tr>\n",
       "  </tbody>\n",
       "</table>\n",
       "</div>"
      ],
      "text/plain": [
       "   FileID  clientid           PID  \\\n",
       "0   92824      1004  1.750262e+15   \n",
       "1   92825      1004  1.583836e+15   \n",
       "2   92826      1004  1.583837e+15   \n",
       "3   92827      1004  1.583837e+15   \n",
       "4   92828      1004  1.583837e+15   \n",
       "\n",
       "                                        SUMMARY  \\\n",
       "0                                           NaN   \n",
       "1  recurrent chest wall pain pneumonia symptoms   \n",
       "2                                           NaN   \n",
       "3                                           NaN   \n",
       "4                                           NaN   \n",
       "\n",
       "                                                DATA   Categories1  \\\n",
       "0  {\\rtf1\\ansi\\ftnbj{\\fonttbl{\\f0 \\fswiss Arial;}...  ASK_A_DOCTOR   \n",
       "1  {\\rtf1\\ansi\\ftnbj{\\fonttbl{\\f0 \\fswiss Arial;}...  ASK_A_DOCTOR   \n",
       "2  {\\rtf1\\ansi\\ftnbj{\\fonttbl{\\f0 \\fswiss Arial;}...  ASK_A_DOCTOR   \n",
       "3  {\\rtf1\\ansi\\ftnbj{\\fonttbl{\\f0 \\fswiss Arial;}...  PRESCRIPTION   \n",
       "4  {\\rtf1\\ansi\\ftnbj{\\fonttbl{\\f0 \\fswiss Arial;}...  PRESCRIPTION   \n",
       "\n",
       "      Sub_categories1 Categories2  \n",
       "0  MEDICATION RELATED         NaN  \n",
       "1            SYMPTOMS         NaN  \n",
       "2  MEDICATION RELATED         NaN  \n",
       "3              REFILL         NaN  \n",
       "4              REFILL         NaN  "
      ]
     },
     "execution_count": 73,
     "metadata": {},
     "output_type": "execute_result"
    }
   ],
   "source": [
    "actual_data.head()"
   ]
  },
  {
   "cell_type": "code",
   "execution_count": 74,
   "metadata": {},
   "outputs": [
    {
     "data": {
      "text/html": [
       "<div>\n",
       "<style scoped>\n",
       "    .dataframe tbody tr th:only-of-type {\n",
       "        vertical-align: middle;\n",
       "    }\n",
       "\n",
       "    .dataframe tbody tr th {\n",
       "        vertical-align: top;\n",
       "    }\n",
       "\n",
       "    .dataframe thead th {\n",
       "        text-align: right;\n",
       "    }\n",
       "</style>\n",
       "<table border=\"1\" class=\"dataframe\">\n",
       "  <thead>\n",
       "    <tr style=\"text-align: right;\">\n",
       "      <th></th>\n",
       "      <th>FileID</th>\n",
       "      <th>clientid</th>\n",
       "      <th>PID</th>\n",
       "      <th>SUMMARY</th>\n",
       "      <th>DATA</th>\n",
       "      <th>Categories1</th>\n",
       "      <th>Sub_categories1</th>\n",
       "      <th>Categories2</th>\n",
       "    </tr>\n",
       "  </thead>\n",
       "  <tbody>\n",
       "    <tr>\n",
       "      <th>0</th>\n",
       "      <td>193040</td>\n",
       "      <td>1004</td>\n",
       "      <td>1583836030550010</td>\n",
       "      <td>Back pain</td>\n",
       "      <td>{\\rtf1\\ansi\\ftnbj{\\fonttbl{\\f0 \\fswiss Arial;}...</td>\n",
       "      <td>ASK_A_DOCTOR</td>\n",
       "      <td>SYMPTOMS</td>\n",
       "      <td>NaN</td>\n",
       "    </tr>\n",
       "    <tr>\n",
       "      <th>1</th>\n",
       "      <td>193041</td>\n",
       "      <td>1004</td>\n",
       "      <td>1583836519050010</td>\n",
       "      <td>******APPT NEEDED</td>\n",
       "      <td>{\\rtf1\\ansi\\ftnbj{\\fonttbl{\\f0 \\fswiss Arial;}...</td>\n",
       "      <td>ASK_A_DOCTOR</td>\n",
       "      <td>SYMPTOMS</td>\n",
       "      <td>NaN</td>\n",
       "    </tr>\n",
       "    <tr>\n",
       "      <th>2</th>\n",
       "      <td>193042</td>\n",
       "      <td>1004</td>\n",
       "      <td>1792575538807730</td>\n",
       "      <td>******Appt needed Tues/Wed or Fri AM with NP  ...</td>\n",
       "      <td>{\\rtf1\\ansi\\ftnbj{\\fonttbl{\\f0 \\fswiss Arial;}...</td>\n",
       "      <td>APPOINTMENTS</td>\n",
       "      <td>NEW APPOINTMENT</td>\n",
       "      <td>NaN</td>\n",
       "    </tr>\n",
       "    <tr>\n",
       "      <th>3</th>\n",
       "      <td>193043</td>\n",
       "      <td>1004</td>\n",
       "      <td>1583835999550010</td>\n",
       "      <td>Discuss s/e on Aricept</td>\n",
       "      <td>{\\rtf1\\ansi\\ftnbj{\\fonttbl{\\f0 \\fswiss Arial;}...</td>\n",
       "      <td>ASK_A_DOCTOR</td>\n",
       "      <td>MEDICATION RELATED</td>\n",
       "      <td>NaN</td>\n",
       "    </tr>\n",
       "    <tr>\n",
       "      <th>4</th>\n",
       "      <td>193044</td>\n",
       "      <td>1004</td>\n",
       "      <td>1583836826150010</td>\n",
       "      <td>blood pressure problems but doesn't want to co...</td>\n",
       "      <td>{\\rtf1\\ansi\\ftnbj{\\fonttbl{\\f0 \\fswiss Arial;}...</td>\n",
       "      <td>APPOINTMENTS</td>\n",
       "      <td>NEW APPOINTMENT</td>\n",
       "      <td>NaN</td>\n",
       "    </tr>\n",
       "  </tbody>\n",
       "</table>\n",
       "</div>"
      ],
      "text/plain": [
       "   FileID  clientid               PID  \\\n",
       "0  193040      1004  1583836030550010   \n",
       "1  193041      1004  1583836519050010   \n",
       "2  193042      1004  1792575538807730   \n",
       "3  193043      1004  1583835999550010   \n",
       "4  193044      1004  1583836826150010   \n",
       "\n",
       "                                             SUMMARY  \\\n",
       "0                                        Back pain     \n",
       "1                                  ******APPT NEEDED   \n",
       "2  ******Appt needed Tues/Wed or Fri AM with NP  ...   \n",
       "3                             Discuss s/e on Aricept   \n",
       "4  blood pressure problems but doesn't want to co...   \n",
       "\n",
       "                                                DATA   Categories1  \\\n",
       "0  {\\rtf1\\ansi\\ftnbj{\\fonttbl{\\f0 \\fswiss Arial;}...  ASK_A_DOCTOR   \n",
       "1  {\\rtf1\\ansi\\ftnbj{\\fonttbl{\\f0 \\fswiss Arial;}...  ASK_A_DOCTOR   \n",
       "2  {\\rtf1\\ansi\\ftnbj{\\fonttbl{\\f0 \\fswiss Arial;}...  APPOINTMENTS   \n",
       "3  {\\rtf1\\ansi\\ftnbj{\\fonttbl{\\f0 \\fswiss Arial;}...  ASK_A_DOCTOR   \n",
       "4  {\\rtf1\\ansi\\ftnbj{\\fonttbl{\\f0 \\fswiss Arial;}...  APPOINTMENTS   \n",
       "\n",
       "      Sub_categories1  Categories2  \n",
       "0            SYMPTOMS          NaN  \n",
       "1            SYMPTOMS          NaN  \n",
       "2     NEW APPOINTMENT          NaN  \n",
       "3  MEDICATION RELATED          NaN  \n",
       "4     NEW APPOINTMENT          NaN  "
      ]
     },
     "execution_count": 74,
     "metadata": {},
     "output_type": "execute_result"
    }
   ],
   "source": [
    "test_data.head()"
   ]
  },
  {
   "cell_type": "code",
   "execution_count": 75,
   "metadata": {},
   "outputs": [
    {
     "name": "stdout",
     "output_type": "stream",
     "text": [
      "<class 'pandas.core.frame.DataFrame'>\n",
      "RangeIndex: 86554 entries, 0 to 86553\n",
      "Data columns (total 8 columns):\n",
      "FileID             86554 non-null int64\n",
      "clientid           86554 non-null int64\n",
      "PID                82817 non-null float64\n",
      "SUMMARY            83731 non-null object\n",
      "DATA               86554 non-null object\n",
      "Categories1        86554 non-null object\n",
      "Sub_categories1    86554 non-null object\n",
      "Categories2        1 non-null object\n",
      "dtypes: float64(1), int64(2), object(5)\n",
      "memory usage: 5.3+ MB\n",
      "<class 'pandas.core.frame.DataFrame'>\n",
      "RangeIndex: 3308 entries, 0 to 3307\n",
      "Data columns (total 8 columns):\n",
      "FileID             3308 non-null int64\n",
      "clientid           3308 non-null int64\n",
      "PID                3308 non-null int64\n",
      "SUMMARY            3201 non-null object\n",
      "DATA               3308 non-null object\n",
      "Categories1        3308 non-null object\n",
      "Sub_categories1    3308 non-null object\n",
      "Categories2        0 non-null float64\n",
      "dtypes: float64(1), int64(3), object(4)\n",
      "memory usage: 206.8+ KB\n"
     ]
    },
    {
     "data": {
      "text/plain": [
       "(None, None)"
      ]
     },
     "execution_count": 75,
     "metadata": {},
     "output_type": "execute_result"
    }
   ],
   "source": [
    "actual_data.info(), test_data.info()"
   ]
  },
  {
   "cell_type": "code",
   "execution_count": 76,
   "metadata": {},
   "outputs": [
    {
     "data": {
      "text/plain": [
       "(              FileID  clientid           PID\n",
       " count   86554.000000   86554.0  8.281700e+04\n",
       " mean   140956.152702    1004.0  1.621976e+15\n",
       " std     30047.799769       0.0  6.760923e+13\n",
       " min     92743.000000    1004.0  1.583836e+15\n",
       " 25%    114486.250000    1004.0  1.583836e+15\n",
       " 50%    140485.500000    1004.0  1.583837e+15\n",
       " 75%    167014.500000    1004.0  1.638205e+15\n",
       " max    193642.000000    1004.0  1.836221e+15,\n",
       "               FileID  clientid           PID  Categories2\n",
       " count    3308.000000    3308.0  3.308000e+03          0.0\n",
       " mean   195062.069528    1004.0  1.635121e+15          NaN\n",
       " std      1169.671607       0.0  8.211389e+13          NaN\n",
       " min    193040.000000    1004.0  1.583836e+15          NaN\n",
       " 25%    194049.750000    1004.0  1.583836e+15          NaN\n",
       " 50%    195066.000000    1004.0  1.583837e+15          NaN\n",
       " 75%    196074.250000    1004.0  1.685635e+15          NaN\n",
       " max    197092.000000    1004.0  1.839750e+15          NaN)"
      ]
     },
     "execution_count": 76,
     "metadata": {},
     "output_type": "execute_result"
    }
   ],
   "source": [
    "actual_data.describe(),test_data.describe()"
   ]
  },
  {
   "cell_type": "markdown",
   "metadata": {},
   "source": [
    "# Extracting text from given meta data "
   ]
  },
  {
   "cell_type": "code",
   "execution_count": 79,
   "metadata": {},
   "outputs": [],
   "source": [
    "def sentence_extraction(text):\n",
    "    line = rtf.striprtf(text)\n",
    "    return line"
   ]
  },
  {
   "cell_type": "code",
   "execution_count": 124,
   "metadata": {},
   "outputs": [],
   "source": [
    "def clean_str1(string):\n",
    "    string = re.sub(r\"[^A-Za-z0-9(),!?\\'\\`]\", \" \", string)\n",
    "    string = re.sub(r\"\\'s\", \" \\'s\", string)\n",
    "    string = re.sub(r\"\\'ve\", \" \\'ve\", string)\n",
    "    string = re.sub(r\"n\\'t\", \" n\\'t\", string)\n",
    "    string = re.sub(r\"\\'re\", \" \\'re\", string)\n",
    "    string = re.sub(r\"\\'d\", \" \\'d\", string)\n",
    "    string = re.sub(r\"\\'ll\", \" \\'ll\", string)\n",
    "    string = re.sub(r\",\", \" , \", string)\n",
    "    string = re.sub(r\"!\", \" ! \", string)\n",
    "    string = re.sub(r\"\\(\", \" \\( \", string)\n",
    "    string = re.sub(r\"\\)\", \" \\) \", string)\n",
    "    string = re.sub(r\"\\?\", \" \\? \", string)\n",
    "    string = re.sub(r\"\\s{2,}\", \" \", string)\n",
    "    review_text = string.strip()\n",
    "    letters_only = re.sub(\"[^a-zA-Z]\", \" \", review_text).lower()\n",
    "    return letters_only"
   ]
  },
  {
   "cell_type": "code",
   "execution_count": 82,
   "metadata": {},
   "outputs": [],
   "source": [
    "extracted_sent=[]\n",
    "for i in range (0,len(actual_data)):\n",
    "    extracted_sent.append(sentence_extraction(actual_data.DATA[i]))"
   ]
  },
  {
   "cell_type": "code",
   "execution_count": 83,
   "metadata": {},
   "outputs": [],
   "source": [
    "extracted_sent_test=[]\n",
    "for i in range (0,len(test_data)):\n",
    "    extracted_sent_test.append(sentence_extraction(test_data.DATA[i]))"
   ]
  },
  {
   "cell_type": "code",
   "execution_count": 125,
   "metadata": {},
   "outputs": [],
   "source": [
    "clean_sentence=[]\n",
    "for i in range (0,len(extracted_sent)):\n",
    "    clean_sentence.append(clean_str1(extracted_sent[i]))"
   ]
  },
  {
   "cell_type": "code",
   "execution_count": 126,
   "metadata": {},
   "outputs": [],
   "source": [
    "clean_sentence_test=[]\n",
    "for i in range (0,len(extracted_sent_test)):\n",
    "    clean_sentence_test.append(clean_str1(extracted_sent_test[i]))"
   ]
  },
  {
   "cell_type": "code",
   "execution_count": 127,
   "metadata": {},
   "outputs": [],
   "source": [
    "actual_data[\"clean_data\"]=pd.DataFrame(clean_sentence)\n",
    "test_data[\"clean_data\"]=pd.DataFrame(clean_sentence_test)"
   ]
  },
  {
   "cell_type": "code",
   "execution_count": 136,
   "metadata": {},
   "outputs": [],
   "source": [
    "#Removal of Stop Words & Stemmer\n",
    "stemmer = SnowballStemmer('english')\n",
    "words = stopwords.words(\"english\")\n",
    "actual_data[\"clean_data\"] = actual_data[\"clean_data\"].apply(lambda x: \" \".join([stemmer.stem(i) for i in re.sub(\"[^a-zA-Z]\", \" \", x).split() if i not in words]).lower())\n",
    "test_data[\"clean_data\"] = test_data[\"clean_data\"].apply(lambda x: \" \".join([stemmer.stem(i) for i in re.sub(\"[^a-zA-Z]\", \" \", x).split() if i not in words]).lower())"
   ]
  },
  {
   "cell_type": "code",
   "execution_count": null,
   "metadata": {},
   "outputs": [],
   "source": [
    "X_train_1, X_valid_1, y_train_1, y_valid_1 = train_test_split(train_data['extracted_sentence'], train_data.Categories1, test_size=0.2,random_state=42)"
   ]
  },
  {
   "cell_type": "code",
   "execution_count": null,
   "metadata": {},
   "outputs": [],
   "source": []
  },
  {
   "cell_type": "code",
   "execution_count": null,
   "metadata": {},
   "outputs": [],
   "source": []
  },
  {
   "cell_type": "code",
   "execution_count": 108,
   "metadata": {},
   "outputs": [],
   "source": []
  }
 ],
 "metadata": {
  "kernelspec": {
   "display_name": "Python 3",
   "language": "python",
   "name": "python3"
  },
  "language_info": {
   "codemirror_mode": {
    "name": "ipython",
    "version": 3
   },
   "file_extension": ".py",
   "mimetype": "text/x-python",
   "name": "python",
   "nbconvert_exporter": "python",
   "pygments_lexer": "ipython3",
   "version": "3.6.4"
  }
 },
 "nbformat": 4,
 "nbformat_minor": 2
}
