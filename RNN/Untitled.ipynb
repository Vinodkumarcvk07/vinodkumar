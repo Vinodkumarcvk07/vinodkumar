{
 "cells": [
  {
   "cell_type": "code",
   "execution_count": 4,
   "metadata": {},
   "outputs": [],
   "source": [
    "from keras.datasets import boston_housing,mnist,cifar10,imdb \n",
    "(x_train,y_train),(x_test,y_test) = mnist.load_data() \n",
    "(x_train2,y_train2),(x_test2,y_test2) = boston_housing.load_data() \n",
    "(x_train3,y_train3),(x_test3,y_test3) = cifar10.load_data() \n",
    "(x_train4,y_train4),(x_test4,y_test4) = imdb.load_data(num_words=20000) \n",
    "num_classes = 10\n"
   ]
  },
  {
   "cell_type": "code",
   "execution_count": 5,
   "metadata": {},
   "outputs": [
    {
     "data": {
      "text/plain": [
       "array([ [1, 51, 6, 177, 7, 156, 5, 1507, 11, 14, 2530, 390, 5570, 826, 4070, 25, 28, 2806, 17864, 2, 5705, 1593, 14823, 17, 5270, 553, 4, 154, 1697, 1442, 6970, 5, 12, 272, 40, 6, 483, 1274, 23, 4, 10281, 1957, 34, 27, 5294, 2806, 17864, 37, 299, 4, 217, 38, 6922, 2, 5705, 299, 4, 85, 255, 7, 4, 313, 4, 14476, 37, 2, 765, 23, 41, 1956, 5, 2, 2, 3784, 5, 400, 801, 2003, 19, 27, 12379, 1593, 14823, 299, 6392, 5270, 11, 14, 31, 257, 37, 15404, 4, 85, 7, 5330, 68, 1697, 18, 278, 73, 490, 43, 28, 8, 106, 5, 67, 4, 3746, 21, 13, 70, 7549, 25, 15, 45, 210, 290, 149, 14, 31, 18, 4, 177, 5, 4, 1051]], dtype=object)"
      ]
     },
     "execution_count": 5,
     "metadata": {},
     "output_type": "execute_result"
    }
   ],
   "source": [
    "x_test4[10:11]"
   ]
  },
  {
   "cell_type": "code",
   "execution_count": null,
   "metadata": {},
   "outputs": [],
   "source": []
  },
  {
   "cell_type": "code",
   "execution_count": 6,
   "metadata": {},
   "outputs": [],
   "source": [
    "from keras.preprocessing import sequence\n",
    "x_train4 = sequence.pad_sequences(x_train4,maxlen=100)\n",
    "x_test4 = sequence.pad_sequences(x_test4,maxlen=100)"
   ]
  },
  {
   "cell_type": "code",
   "execution_count": 7,
   "metadata": {},
   "outputs": [
    {
     "data": {
      "text/plain": [
       "(array([[    4, 13593,     2, ...,   221,    18,    12],\n",
       "        [ 1697,  1442,  6970, ...,     5,     4,  1051],\n",
       "        [   44,  1786,     6, ...,     4,   444,  4185],\n",
       "        ..., \n",
       "        [  884, 15658,     8, ...,     4,  3769,  3724],\n",
       "        [   21,   466,    94, ...,    11,     4,  4039],\n",
       "        [  652,    74,  2281, ...,    11,     4,   130]]),\n",
       " array([[ 1697,  1442,  6970,     5,    12,   272,    40,     6,   483,\n",
       "          1274,    23,     4, 10281,  1957,    34,    27,  5294,  2806,\n",
       "         17864,    37,   299,     4,   217,    38,  6922,     2,  5705,\n",
       "           299,     4,    85,   255,     7,     4,   313,     4, 14476,\n",
       "            37,     2,   765,    23,    41,  1956,     5,     2,     2,\n",
       "          3784,     5,   400,   801,  2003,    19,    27, 12379,  1593,\n",
       "         14823,   299,  6392,  5270,    11,    14,    31,   257,    37,\n",
       "         15404,     4,    85,     7,  5330,    68,  1697,    18,   278,\n",
       "            73,   490,    43,    28,     8,   106,     5,    67,     4,\n",
       "          3746,    21,    13,    70,  7549,    25,    15,    45,   210,\n",
       "           290,   149,    14,    31,    18,     4,   177,     5,     4,\n",
       "          1051]]))"
      ]
     },
     "execution_count": 7,
     "metadata": {},
     "output_type": "execute_result"
    }
   ],
   "source": [
    "x_test4[9:],x_test4[10:11]"
   ]
  },
  {
   "cell_type": "code",
   "execution_count": 8,
   "metadata": {},
   "outputs": [],
   "source": [
    "from keras.models import Sequential\n",
    "model= Sequential()"
   ]
  },
  {
   "cell_type": "code",
   "execution_count": 9,
   "metadata": {},
   "outputs": [
    {
     "data": {
      "text/plain": [
       "<keras.models.Sequential at 0x2700a632390>"
      ]
     },
     "execution_count": 9,
     "metadata": {},
     "output_type": "execute_result"
    }
   ],
   "source": [
    "model"
   ]
  },
  {
   "cell_type": "code",
   "execution_count": 11,
   "metadata": {},
   "outputs": [],
   "source": [
    "from keras.layers import Dense\n",
    "from keras.layers import Dropout  \n",
    "model.add(Dense(512,activation='relu',input_shape=(784,))) \n",
    "model.add(Dropout(0.2)) \n",
    "model.add(Dense(512,activation='relu'))\n",
    "model.add(Dropout(0.2)) \n",
    "model.add(Dense(10,activation='softmax'))"
   ]
  },
  {
   "cell_type": "code",
   "execution_count": 12,
   "metadata": {},
   "outputs": [
    {
     "data": {
      "text/plain": [
       "<keras.models.Sequential at 0x2700a632390>"
      ]
     },
     "execution_count": 12,
     "metadata": {},
     "output_type": "execute_result"
    }
   ],
   "source": [
    "model"
   ]
  },
  {
   "cell_type": "code",
   "execution_count": 15,
   "metadata": {},
   "outputs": [],
   "source": [
    "from keras.layers import Embedding,LSTM \n",
    "model.add(Embedding(20000,128)) \n",
    "model.add(LSTM(128,dropout=0.2,recurrent_dropout=0.2)) \n",
    "model.add(Dense(1,activation='sigmoid'))"
   ]
  },
  {
   "cell_type": "code",
   "execution_count": 16,
   "metadata": {},
   "outputs": [],
   "source": [
    "model.compile(optimizer='rmsprop', loss='categorical_crossentropy', metrics=['accuracy'])  "
   ]
  },
  {
   "cell_type": "code",
   "execution_count": null,
   "metadata": {},
   "outputs": [],
   "source": [
    "model3.fit(x_train4,y_train4,batch_size=32,epochs=15,verbose=1,validation_data=(x_test4,y_test4))"
   ]
  },
  {
   "cell_type": "code",
   "execution_count": null,
   "metadata": {},
   "outputs": [],
   "source": []
  },
  {
   "cell_type": "code",
   "execution_count": null,
   "metadata": {},
   "outputs": [],
   "source": []
  },
  {
   "cell_type": "code",
   "execution_count": null,
   "metadata": {},
   "outputs": [],
   "source": []
  },
  {
   "cell_type": "code",
   "execution_count": null,
   "metadata": {},
   "outputs": [],
   "source": []
  }
 ],
 "metadata": {
  "kernelspec": {
   "display_name": "Python 3",
   "language": "python",
   "name": "python3"
  },
  "language_info": {
   "codemirror_mode": {
    "name": "ipython",
    "version": 3
   },
   "file_extension": ".py",
   "mimetype": "text/x-python",
   "name": "python",
   "nbconvert_exporter": "python",
   "pygments_lexer": "ipython3",
   "version": "3.6.4"
  }
 },
 "nbformat": 4,
 "nbformat_minor": 2
}
